{
 "cells": [
  {
   "cell_type": "code",
   "execution_count": 1,
   "id": "conceptual-sacramento",
   "metadata": {
    "tags": []
   },
   "outputs": [],
   "source": [
    "from bs4 import BeautifulSoup\n",
    "import os\n",
    "import re\n",
    "import csvtools\n",
    "import pandas as pd\n",
    "from nltk import word_tokenize\n",
    "import string\n",
    "import pymorphy2\n",
    "import bs4\n",
    "import collections\n",
    "from collections import Counter\n",
    "import nltk\n",
    "import nltk.tokenize.punkt\n",
    "import requests\n",
    "from datetime import datetime\n",
    "from prozhitotools import dump\n",
    "from tqdm.auto import tqdm\n",
    "import ipywidgets\n",
    "from sklearn.feature_extraction.text import TfidfVectorizer, CountVectorizer\n",
    "from sklearn.decomposition import NMF\n",
    "morph = pymorphy2.MorphAnalyzer()\n",
    "extended_punctuation = string.punctuation + '\\'\\'\" №~—»«..``’.--–“”―…\"''\" '\n",
    "from stop_words import get_stop_words\n",
    "stoplist = get_stop_words('ru') + ['среди', 'аа', 'некий', 'либо', 'видимо', 'итак', 'словно', 'наверное', 'возможно', '-й', '-х', 'например', 'что-нибудь', 'вместо', 'кто-то', 'несмотря', 'коли', 'безъ', 'нѣтъ', 'всѣхъ', 'поэтому', 'почему-то', 'ибо', 'из-за', 'можетъ', 'неужели', 'дѣть', 'намъ', 'оттого', 'чрез', 'вероятно', 'многий', 'ах', 'пред', 'пусть', 'нынче', 'б', 'дабы', 'чрезвычайно', 'разумеется', 'вовсе', 'кн', 'гр', 'св', '-го', 'кой', 'франц.', 'оный', 'сей', 'свой', 'едва', 'самый', 'го', 'мол', 'час', 'часы', 'ть', 'минута', 'метр', 'г.', 'ко', 'въ', 'съ', 'мнѣ', 'къ', 'какъ', 'отъ', 'такъ', 'ежели', 'себѣ', 'былъ', 'онъ', 'томъ', 'сие', 'нрзб', 'изъ', 'тѣмъ', 'ихъ', 'чѣмъ', 'всѣ'] + ['com', 'id', 'de', 'la', 'et', 'le', 'que', 'je', 'il', 'est', 'les', 'un']"
   ]
  },
  {
   "cell_type": "code",
   "execution_count": 2,
   "id": "improved-wyoming",
   "metadata": {},
   "outputs": [],
   "source": [
    "import sys\n",
    "import wheel\n",
    "#!{sys.executable} -m pip install python-Levenshtein\n",
    "#!pip install python-Levenshtein"
   ]
  },
  {
   "cell_type": "code",
   "execution_count": 520,
   "id": "global-colleague",
   "metadata": {},
   "outputs": [],
   "source": [
    "#import getpass\n",
    "#import os"
   ]
  },
  {
   "cell_type": "code",
   "execution_count": 522,
   "id": "affiliated-paste",
   "metadata": {},
   "outputs": [
    {
     "name": "stdin",
     "output_type": "stream",
     "text": [
      " ············\n"
     ]
    },
    {
     "data": {
      "text/plain": [
       "13"
      ]
     },
     "execution_count": 522,
     "metadata": {},
     "output_type": "execute_result"
    }
   ],
   "source": [
    "#password = getpass.getpass()\n",
    "#command = \"!sudo rm /usr/local/lib/pkcs11/librtpkcs11ecp.dylib\"\n",
    "#os.popen(command, 'w').write(password+'\\n')"
   ]
  },
  {
   "cell_type": "code",
   "execution_count": 3,
   "id": "charged-membrane",
   "metadata": {},
   "outputs": [],
   "source": [
    "dw = dump.Wrapper(csvpath='/Users/victoriavrbv/Downloads/prozhito-dump-1')"
   ]
  },
  {
   "cell_type": "code",
   "execution_count": 4,
   "id": "adult-drama",
   "metadata": {},
   "outputs": [],
   "source": [
    "authors_data = pd.read_csv('/Users/victoriavrbv/Downloads/Prozhito-people - person_data.csv')"
   ]
  },
  {
   "cell_type": "code",
   "execution_count": 5,
   "id": "considered-trailer",
   "metadata": {},
   "outputs": [
    {
     "data": {
      "text/html": [
       "<div>\n",
       "<style scoped>\n",
       "    .dataframe tbody tr th:only-of-type {\n",
       "        vertical-align: middle;\n",
       "    }\n",
       "\n",
       "    .dataframe tbody tr th {\n",
       "        vertical-align: top;\n",
       "    }\n",
       "\n",
       "    .dataframe thead th {\n",
       "        text-align: right;\n",
       "    }\n",
       "</style>\n",
       "<table border=\"1\" class=\"dataframe\">\n",
       "  <thead>\n",
       "    <tr style=\"text-align: right;\">\n",
       "      <th></th>\n",
       "      <th>id</th>\n",
       "      <th>first_name</th>\n",
       "      <th>patronymic</th>\n",
       "      <th>family_name</th>\n",
       "      <th>gender</th>\n",
       "      <th>birth_date</th>\n",
       "      <th>death_date</th>\n",
       "      <th>edition</th>\n",
       "      <th>additional_info</th>\n",
       "      <th>from_natasha</th>\n",
       "      <th>from_tags</th>\n",
       "      <th>info</th>\n",
       "      <th>nickname</th>\n",
       "      <th>wiki</th>\n",
       "    </tr>\n",
       "  </thead>\n",
       "  <tbody>\n",
       "    <tr>\n",
       "      <th>0</th>\n",
       "      <td>3739</td>\n",
       "      <td>Чудинова</td>\n",
       "      <td>Александра</td>\n",
       "      <td>Дмитриевна</td>\n",
       "      <td>NaN</td>\n",
       "      <td>NaN</td>\n",
       "      <td>NaN</td>\n",
       "      <td>NaN</td>\n",
       "      <td>NaN</td>\n",
       "      <td>False</td>\n",
       "      <td>True</td>\n",
       "      <td>NaN</td>\n",
       "      <td>NaN</td>\n",
       "      <td>NaN</td>\n",
       "    </tr>\n",
       "    <tr>\n",
       "      <th>1</th>\n",
       "      <td>3740</td>\n",
       "      <td>Аборкин</td>\n",
       "      <td>Дмитрий</td>\n",
       "      <td>Георгиевич</td>\n",
       "      <td>NaN</td>\n",
       "      <td>NaN</td>\n",
       "      <td>NaN</td>\n",
       "      <td>NaN</td>\n",
       "      <td>NaN</td>\n",
       "      <td>False</td>\n",
       "      <td>True</td>\n",
       "      <td>NaN</td>\n",
       "      <td>NaN</td>\n",
       "      <td>NaN</td>\n",
       "    </tr>\n",
       "    <tr>\n",
       "      <th>2</th>\n",
       "      <td>3741</td>\n",
       "      <td>ТИХОНОВ</td>\n",
       "      <td>СЕРГЕЙ</td>\n",
       "      <td>Константинович</td>\n",
       "      <td>NaN</td>\n",
       "      <td>NaN</td>\n",
       "      <td>NaN</td>\n",
       "      <td>NaN</td>\n",
       "      <td>NaN</td>\n",
       "      <td>False</td>\n",
       "      <td>True</td>\n",
       "      <td>NaN</td>\n",
       "      <td>NaN</td>\n",
       "      <td>NaN</td>\n",
       "    </tr>\n",
       "    <tr>\n",
       "      <th>3</th>\n",
       "      <td>3742</td>\n",
       "      <td>Митрофанов</td>\n",
       "      <td>Владимир</td>\n",
       "      <td>Петрович</td>\n",
       "      <td>NaN</td>\n",
       "      <td>NaN</td>\n",
       "      <td>NaN</td>\n",
       "      <td>NaN</td>\n",
       "      <td>NaN</td>\n",
       "      <td>False</td>\n",
       "      <td>True</td>\n",
       "      <td>NaN</td>\n",
       "      <td>NaN</td>\n",
       "      <td>NaN</td>\n",
       "    </tr>\n",
       "    <tr>\n",
       "      <th>4</th>\n",
       "      <td>3743</td>\n",
       "      <td>Манский</td>\n",
       "      <td>Давыд</td>\n",
       "      <td>Моисеевич</td>\n",
       "      <td>NaN</td>\n",
       "      <td>NaN</td>\n",
       "      <td>NaN</td>\n",
       "      <td>NaN</td>\n",
       "      <td>NaN</td>\n",
       "      <td>False</td>\n",
       "      <td>True</td>\n",
       "      <td>NaN</td>\n",
       "      <td>NaN</td>\n",
       "      <td>NaN</td>\n",
       "    </tr>\n",
       "    <tr>\n",
       "      <th>...</th>\n",
       "      <td>...</td>\n",
       "      <td>...</td>\n",
       "      <td>...</td>\n",
       "      <td>...</td>\n",
       "      <td>...</td>\n",
       "      <td>...</td>\n",
       "      <td>...</td>\n",
       "      <td>...</td>\n",
       "      <td>...</td>\n",
       "      <td>...</td>\n",
       "      <td>...</td>\n",
       "      <td>...</td>\n",
       "      <td>...</td>\n",
       "      <td>...</td>\n",
       "    </tr>\n",
       "    <tr>\n",
       "      <th>28980</th>\n",
       "      <td>28808</td>\n",
       "      <td>с</td>\n",
       "      <td>.</td>\n",
       "      <td>найденов</td>\n",
       "      <td>NaN</td>\n",
       "      <td>NaN</td>\n",
       "      <td>NaN</td>\n",
       "      <td>NaN</td>\n",
       "      <td>NaN</td>\n",
       "      <td>True</td>\n",
       "      <td>False</td>\n",
       "      <td>NaN</td>\n",
       "      <td>NaN</td>\n",
       "      <td>NaN</td>\n",
       "    </tr>\n",
       "    <tr>\n",
       "      <th>28981</th>\n",
       "      <td>28874</td>\n",
       "      <td>Иоганна</td>\n",
       "      <td>Георга</td>\n",
       "      <td>Корба</td>\n",
       "      <td>NaN</td>\n",
       "      <td>NaN</td>\n",
       "      <td>NaN</td>\n",
       "      <td>NaN</td>\n",
       "      <td>NaN</td>\n",
       "      <td>True</td>\n",
       "      <td>False</td>\n",
       "      <td>NaN</td>\n",
       "      <td>NaN</td>\n",
       "      <td>NaN</td>\n",
       "    </tr>\n",
       "    <tr>\n",
       "      <th>28982</th>\n",
       "      <td>28809</td>\n",
       "      <td>л</td>\n",
       "      <td>.</td>\n",
       "      <td>авилова</td>\n",
       "      <td>NaN</td>\n",
       "      <td>NaN</td>\n",
       "      <td>NaN</td>\n",
       "      <td>NaN</td>\n",
       "      <td>NaN</td>\n",
       "      <td>True</td>\n",
       "      <td>False</td>\n",
       "      <td>NaN</td>\n",
       "      <td>NaN</td>\n",
       "      <td>NaN</td>\n",
       "    </tr>\n",
       "    <tr>\n",
       "      <th>28983</th>\n",
       "      <td>29003</td>\n",
       "      <td>де</td>\n",
       "      <td>-</td>\n",
       "      <td>жимель</td>\n",
       "      <td>NaN</td>\n",
       "      <td>NaN</td>\n",
       "      <td>NaN</td>\n",
       "      <td>NaN</td>\n",
       "      <td>NaN</td>\n",
       "      <td>True</td>\n",
       "      <td>False</td>\n",
       "      <td>NaN</td>\n",
       "      <td>NaN</td>\n",
       "      <td>NaN</td>\n",
       "    </tr>\n",
       "    <tr>\n",
       "      <th>28984</th>\n",
       "      <td>7</td>\n",
       "      <td>NaN</td>\n",
       "      <td>NaN</td>\n",
       "      <td>NaN</td>\n",
       "      <td>NaN</td>\n",
       "      <td>NaN</td>\n",
       "      <td>NaN</td>\n",
       "      <td>NaN</td>\n",
       "      <td>NaN</td>\n",
       "      <td>False</td>\n",
       "      <td>False</td>\n",
       "      <td>NaN</td>\n",
       "      <td>NaN</td>\n",
       "      <td>NaN</td>\n",
       "    </tr>\n",
       "  </tbody>\n",
       "</table>\n",
       "<p>28985 rows × 14 columns</p>\n",
       "</div>"
      ],
      "text/plain": [
       "          id  first_name  patronymic     family_name  gender birth_date  \\\n",
       "0       3739    Чудинова  Александра      Дмитриевна     NaN        NaN   \n",
       "1       3740     Аборкин     Дмитрий      Георгиевич     NaN        NaN   \n",
       "2       3741     ТИХОНОВ      СЕРГЕЙ  Константинович     NaN        NaN   \n",
       "3       3742  Митрофанов    Владимир        Петрович     NaN        NaN   \n",
       "4       3743     Манский       Давыд       Моисеевич     NaN        NaN   \n",
       "...      ...         ...         ...             ...     ...        ...   \n",
       "28980  28808           с           .        найденов     NaN        NaN   \n",
       "28981  28874     Иоганна      Георга           Корба     NaN        NaN   \n",
       "28982  28809           л           .         авилова     NaN        NaN   \n",
       "28983  29003          де           -          жимель     NaN        NaN   \n",
       "28984      7         NaN         NaN             NaN     NaN        NaN   \n",
       "\n",
       "      death_date edition additional_info  from_natasha  from_tags info  \\\n",
       "0            NaN     NaN             NaN         False       True  NaN   \n",
       "1            NaN     NaN             NaN         False       True  NaN   \n",
       "2            NaN     NaN             NaN         False       True  NaN   \n",
       "3            NaN     NaN             NaN         False       True  NaN   \n",
       "4            NaN     NaN             NaN         False       True  NaN   \n",
       "...          ...     ...             ...           ...        ...  ...   \n",
       "28980        NaN     NaN             NaN          True      False  NaN   \n",
       "28981        NaN     NaN             NaN          True      False  NaN   \n",
       "28982        NaN     NaN             NaN          True      False  NaN   \n",
       "28983        NaN     NaN             NaN          True      False  NaN   \n",
       "28984        NaN     NaN             NaN         False      False  NaN   \n",
       "\n",
       "      nickname wiki  \n",
       "0          NaN  NaN  \n",
       "1          NaN  NaN  \n",
       "2          NaN  NaN  \n",
       "3          NaN  NaN  \n",
       "4          NaN  NaN  \n",
       "...        ...  ...  \n",
       "28980      NaN  NaN  \n",
       "28981      NaN  NaN  \n",
       "28982      NaN  NaN  \n",
       "28983      NaN  NaN  \n",
       "28984      NaN  NaN  \n",
       "\n",
       "[28985 rows x 14 columns]"
      ]
     },
     "execution_count": 5,
     "metadata": {},
     "output_type": "execute_result"
    }
   ],
   "source": [
    "authors_data"
   ]
  },
  {
   "cell_type": "code",
   "execution_count": 93,
   "id": "graduate-spine",
   "metadata": {},
   "outputs": [],
   "source": [
    "#authors_data[(authors_data[\"from_natasha\"] == False) & (authors_data[\"from_tags\"] == False)]\n",
    "#authors_data[authors_data.edition.notnull()|authors_data[\"from_natasha\"] == False]"
   ]
  },
  {
   "cell_type": "code",
   "execution_count": 6,
   "id": "psychological-benchmark",
   "metadata": {
    "tags": []
   },
   "outputs": [
    {
     "data": {
      "text/plain": [
       "gender\n",
       "0.0     810\n",
       "1.0    2882\n",
       "Name: id, dtype: int64"
      ]
     },
     "execution_count": 6,
     "metadata": {},
     "output_type": "execute_result"
    }
   ],
   "source": [
    "#считаем сколько мужчин и женщин в базе\n",
    "authors_data.groupby('gender')['id'].nunique()"
   ]
  },
  {
   "cell_type": "code",
   "execution_count": 381,
   "id": "communist-private",
   "metadata": {},
   "outputs": [
    {
     "data": {
      "text/plain": [
       "40"
      ]
     },
     "execution_count": 381,
     "metadata": {},
     "output_type": "execute_result"
    }
   ],
   "source": [
    "counter = 0\n",
    "for item in authors_data.edition[authors_data.edition.notnull()]:\n",
    "    if re.search(\"^(?!.*\\*\\*Издани(е|я):\\s?\\*\\*).*$\", str(item)):\n",
    "        counter+=1\n",
    "counter"
   ]
  },
  {
   "cell_type": "code",
   "execution_count": 6,
   "id": "ultimate-florist",
   "metadata": {},
   "outputs": [],
   "source": [
    "#функция для лемматизации\n",
    "def preprocess_text(some_text):\n",
    "    '''\n",
    "    берет обычный текст, возвращает лемматизированный\n",
    "    '''    \n",
    "    some_text = re.sub(r'\\[|\\]|\\\\|([0-9])|[a-zA-ZàâäôéèëêïîçùûüÿæœÀÂÄÔÉÈËÊÏÎŸÇÙÛÜÆŒ~]', '', str(some_text))\n",
    "    lemmatized_text = [morph.parse(word)[0].normal_form for word in word_tokenize(some_text.lower()) if\n",
    "                       morph.parse(word)[0].normal_form not in stoplist and morph.parse(word)[0].normal_form not in extended_punctuation]\n",
    "    return lemmatized_text"
   ]
  },
  {
   "cell_type": "code",
   "execution_count": 37,
   "id": "above-richardson",
   "metadata": {},
   "outputs": [],
   "source": [
    "stoplist2 = get_stop_words('ru') + ['фр', 'франц.', 'оный', 'сей', 'т.е', 'свой', 'едва', 'самый', 'го', 'мол', 'час', 'часы', 'ть', 'минута', 'метр', 'г.', 'ко', 'въ', 'съ', 'мнѣ', 'къ', 'какъ', 'отъ', 'такъ', 'ежели', 'себѣ', 'былъ', 'онъ', 'томъ', 'сие', 'нрзб', 'изъ', 'тѣмъ', 'ихъ', 'чѣмъ', 'всѣ'] + ['com', 'id', 'de', 'la', 'et', 'le', 'que', 'je', 'il', 'est', 'les', 'un']\n",
    "names_list = [\"владимир\", \"аля\", \"лёля\", \"ася\", \"ник\", \"никола\", \"юрий\", \"борис\", \"виктор\", \"андрей\", \"ирина\", \"варя\", \"валя\", \"анович\", \"шура\", \"боря\", \"шурочка\", \"леонид\", \"вера\", \"зуля\", \"зося\", \"михаилович\", \"николаевич\", \"наташа\", \"митя\", \"ляля\", \"иванович\", \"зина\", \"володя\", \"никита\", \"лена\", \"коля\", \"николай\", \"маруся\", \"лиза\", \"олег\", \"вася\", \"игорь\", \"георгий\", \"львович\", \"марина\", \"софья\", \"андреевич\", \"александр\", \"цветаев\", \"владимирович\", \"таня\", \"анна\", \"василиевич\", \"петрович\", \"сергей\", \"василиевич\", \"саша\", \"павлович\", \"маша\", \"миша\", \"константин\", \"пётр\", \"павел\", \"лена\", \"лев\", \"серёжа\", \"оля\", \"яковлевич\", \"нина\", \"шурик\", \"женя\", \"соня\", \"семён\", \"костя\"]\n",
    "def preprocess_text_for_topics(some_text):\n",
    "    '''\n",
    "    берет обычный текст, возвращает лемматизированный\n",
    "    '''    \n",
    "    some_text = re.sub(r'\\[|\\]|\\\\|([0-9])|[a-zA-ZàâäôéèëêïîçùûüÿæœÀÂÄÔÉÈËÊÏÎŸÇÙÛÜÆŒ~]', '', str(some_text))\n",
    "    lemmatized_text = [morph.parse(word)[0].normal_form for word in word_tokenize(some_text.lower()) if\n",
    "                       morph.parse(word)[0].normal_form not in stoplist2 and morph.parse(word)[0].normal_form not in extended_punctuation]\n",
    "    return lemmatized_text"
   ]
  },
  {
   "cell_type": "code",
   "execution_count": 9,
   "id": "opponent-stupid",
   "metadata": {},
   "outputs": [
    {
     "data": {
      "text/plain": [
       "384587"
      ]
     },
     "execution_count": 9,
     "metadata": {},
     "output_type": "execute_result"
    }
   ],
   "source": [
    "len(dw.notes)"
   ]
  },
  {
   "cell_type": "code",
   "execution_count": 153,
   "id": "separated-spain",
   "metadata": {
    "tags": []
   },
   "outputs": [],
   "source": [
    "#отделяем записи 17-19 века\n",
    "war_records = []\n",
    "period = dw.notes[(1942, 1, 1) : (1945, 12, 31)]\n",
    "for item in period:\n",
    "    war_records.append(item.text)    "
   ]
  },
  {
   "cell_type": "code",
   "execution_count": 154,
   "id": "native-beijing",
   "metadata": {},
   "outputs": [],
   "source": [
    "with open('one_more_war_records.txt', 'w') as f:\n",
    "    for item in war_records:\n",
    "        f.write(\"%s\\n\" % item)"
   ]
  },
  {
   "cell_type": "code",
   "execution_count": 116,
   "id": "instrumental-anderson",
   "metadata": {},
   "outputs": [
    {
     "data": {
      "text/plain": [
       "[329]"
      ]
     },
     "execution_count": 116,
     "metadata": {},
     "output_type": "execute_result"
    }
   ],
   "source": [
    "#dir(dw.notes[1])\n",
    "#diary_number = re.search(\"@515\", )\n",
    "number = []\n",
    "diary_number = re.compile(\"@\"+\"3\\s\")\n",
    "records_number = re.search(\"\\['\\d{1,5}',\\s'\\d{1,5}',\\s'.*?',\\s'(?P<records>\\d{1,4})'\", str(line))\n",
    "for line in dw.diaries:\n",
    "    if re.search(diary_number, str(line)):\n",
    "        number.append(len(line.notes))\n",
    "number"
   ]
  },
  {
   "cell_type": "code",
   "execution_count": 327,
   "id": "smooth-browse",
   "metadata": {},
   "outputs": [],
   "source": [
    "#отделяем записи 20 века\n",
    "twenty_cent = []\n",
    "twenty = dw.notes[(1960, 1, 1) : (1970, 12, 31)]\n",
    "#twenty_2 = dw.notes[(1948, 1, 1) : (1980, 12, 31)]\n",
    "for item in twenty:\n",
    "    twenty_cent.append(item.text) "
   ]
  },
  {
   "cell_type": "code",
   "execution_count": 555,
   "id": "velvet-greece",
   "metadata": {},
   "outputs": [],
   "source": [
    "#ищем самых популярных авторов периода\n",
    "authors5 = []\n",
    "records = dw.notes[(1980, 1, 1) : (2017, 12, 31)]\n",
    "for item in records:\n",
    "    authors5.append(item.author)"
   ]
  },
  {
   "cell_type": "code",
   "execution_count": 556,
   "id": "educational-daily",
   "metadata": {},
   "outputs": [],
   "source": [
    "authors5 = list(Counter(authors5).most_common())\n",
    "authors_5 = pd.DataFrame(authors5)\n",
    "authors_5.columns = [\"Author\", \"1\"]\n",
    "#len(authors_1[\"Author\"])"
   ]
  },
  {
   "cell_type": "code",
   "execution_count": 426,
   "id": "silver-prayer",
   "metadata": {},
   "outputs": [],
   "source": [
    "#ищем записи определенных авторов\n",
    "amitrov_texts = []\n",
    "kozakov_texts = []\n",
    "shvets_texts = []\n",
    "grobman_texts = []\n",
    "sokolov_texts = []\n",
    "records = dw.notes[(1948, 1, 1) : (1979, 12, 31)]\n",
    "for item in records:\n",
    "    author_kozakov = re.search(r\"Николай Николаевич Козаков\", str(item.author))\n",
    "    author_amitrov = re.search(r\"Олег Владимирович Амитров\", str(item.author))\n",
    "    author_shvets = re.search(r\"Владимир Афанасьевич Швец\", str(item.author))\n",
    "    author_grobman = re.search(r\"Михаил Яковлевич Гробман\", str(item.author))\n",
    "    author_sokolov = re.search(r\"Николай Алексеевич Соколов\", str(item.author))\n",
    "    if author_kozakov:\n",
    "        kozakov_texts.append(item.text)\n",
    "    if author_amitrov:\n",
    "        amitrov_texts.append(item.text)\n",
    "    if author_shvets:\n",
    "        shvets_texts.append(item.text)\n",
    "    if author_grobman:\n",
    "        grobman_texts.append(item.text)\n",
    "    if author_sokolov:\n",
    "        sokolov_texts.append(item.text)"
   ]
  },
  {
   "cell_type": "code",
   "execution_count": 339,
   "id": "antique-killing",
   "metadata": {},
   "outputs": [],
   "source": [
    "amitrov_tokenized = []\n",
    "kozakov_tokenized = []\n",
    "for item in amitrov_texts:\n",
    "    tokens = word_tokenize(str(item))\n",
    "    for token in tokens:\n",
    "        if token not in extended_punctuation:\n",
    "            amitrov_tokenized.append(token)\n",
    "for item in kozakov_texts:\n",
    "    tokens = word_tokenize(str(item))\n",
    "    for token in tokens:\n",
    "        if token not in extended_punctuation:\n",
    "            kozakov_tokenized.append(token)"
   ]
  },
  {
   "cell_type": "code",
   "execution_count": 353,
   "id": "latin-expert",
   "metadata": {},
   "outputs": [
    {
     "data": {
      "text/plain": [
       "476548"
      ]
     },
     "execution_count": 353,
     "metadata": {},
     "output_type": "execute_result"
    }
   ],
   "source": [
    "shvets_tokenized = []\n",
    "for item in shvets_texts:\n",
    "    tokens = word_tokenize(str(item))\n",
    "    for token in tokens:\n",
    "        if token not in extended_punctuation:\n",
    "            shvets_tokenized.append(token)\n",
    "len(shvets_tokenized)"
   ]
  },
  {
   "cell_type": "code",
   "execution_count": 341,
   "id": "returning-logistics",
   "metadata": {},
   "outputs": [
    {
     "data": {
      "text/plain": [
       "252230"
      ]
     },
     "execution_count": 341,
     "metadata": {},
     "output_type": "execute_result"
    }
   ],
   "source": [
    "len(amitrov_tokenized)"
   ]
  },
  {
   "cell_type": "code",
   "execution_count": 342,
   "id": "national-crowd",
   "metadata": {},
   "outputs": [
    {
     "data": {
      "text/plain": [
       "217389"
      ]
     },
     "execution_count": 342,
     "metadata": {},
     "output_type": "execute_result"
    }
   ],
   "source": [
    "len(kozakov_tokenized)"
   ]
  },
  {
   "cell_type": "code",
   "execution_count": 352,
   "id": "duplicate-swimming",
   "metadata": {},
   "outputs": [],
   "source": [
    "with open('shvets_records.txt', 'w') as f:\n",
    "    for item in shvets_texts:\n",
    "        f.write(\"%s\\n\" % item)"
   ]
  },
  {
   "cell_type": "code",
   "execution_count": 338,
   "id": "reflected-cathedral",
   "metadata": {},
   "outputs": [],
   "source": [
    "#amitrov_texts\n",
    "with open('amitrov_records.txt', 'w') as f:\n",
    "    for item in amitrov_texts:\n",
    "        f.write(\"%s\\n\" % item)\n",
    "with open('kozakov_records.txt', 'w') as f:\n",
    "    for item in kozakov_texts:\n",
    "        f.write(\"%s\\n\" % item)"
   ]
  },
  {
   "cell_type": "code",
   "execution_count": null,
   "id": "equipped-antibody",
   "metadata": {},
   "outputs": [],
   "source": [
    "#'1828-10-1') & (meta_info_cleaned['Дата'] <= '1898-12-31')]\n",
    "#meta_2 = meta_info_cleaned[(meta_info_cleaned['Дата'] > '1898-12-31') & (meta_info_cleaned['Дата'] <= '1922-12-31')]\n",
    "#meta_3 = meta_info_cleaned[(meta_info_cleaned['Дата'] > '1922-12-31') & (meta_info_cleaned['Дата'] <= '1938-12-31')]\n",
    "#meta_4 = meta_info_cleaned[(meta_info_cleaned['Дата'] > '1938-12-31') & (meta_info_cleaned['Дата'] <= '1945-12-31')]\n",
    "#meta_5 = meta_info_cleaned[(meta_info_cleaned['Дата'] > '1945-12-31') & (meta_info_cleaned['Дата'] <= '1959-12-31')]\n",
    "#meta_6 = meta_info_cleaned[(meta_info_cleaned['Дата'] > '1959-12-31') & (meta_info_cleaned['Дата'] <= '1979-12-31')]\n",
    "#meta_7 = meta_info_cleaned[(meta_info_cleaned['Дата'] > '1979-12-31') & (meta_info_cleaned['Дата'] <= '1999-12-31'"
   ]
  },
  {
   "cell_type": "code",
   "execution_count": 4,
   "id": "packed-nashville",
   "metadata": {},
   "outputs": [],
   "source": [
    "#считаем общее количество записей в периоде\n",
    "period_1 = dw.notes[(1799, 1, 1) : (1898, 12, 31)]\n",
    "period_2 = dw.notes[(1899, 1, 1) : (1938, 12, 31)]\n",
    "period_3 = dw.notes[(1939, 1, 1) : (1947, 12, 31)]\n",
    "period_4 = dw.notes[(1948, 1, 1) : (1979, 12, 31)]\n",
    "period_5 = dw.notes[(1980, 1, 1) : (2017, 12, 31)]\n",
    "#period_6 = dw.notes[(1960, 1, 1) : (1979, 12, 31)]\n",
    "#period_7 = dw.notes[(1980, 1, 1) : (1998, 12, 31)]\n",
    "#period_8 = dw.notes[(1999, 1, 1) : (2017, 12, 31)]"
   ]
  },
  {
   "cell_type": "code",
   "execution_count": 5,
   "id": "revolutionary-uncle",
   "metadata": {},
   "outputs": [
    {
     "data": {
      "text/plain": [
       "53151"
      ]
     },
     "execution_count": 5,
     "metadata": {},
     "output_type": "execute_result"
    }
   ],
   "source": [
    "len(period_5)"
   ]
  },
  {
   "cell_type": "code",
   "execution_count": 409,
   "id": "satellite-consumption",
   "metadata": {},
   "outputs": [
    {
     "data": {
      "application/vnd.jupyter.widget-view+json": {
       "model_id": "47d96f95ace94c8cb618b8b771a2497c",
       "version_major": 2,
       "version_minor": 0
      },
      "text/plain": [
       "  0%|          | 0/73045 [00:00<?, ?it/s]"
      ]
     },
     "metadata": {},
     "output_type": "display_data"
    }
   ],
   "source": [
    "#считаем сколько записей в периоде без швеца\n",
    "records_without_shvetsandko = []\n",
    "for item in tqdm(period_4):\n",
    "    author_shvets = re.search(r\"Владимир Афанасьевич Швец\", str(item.author))\n",
    "    author_grobman = re.search(r\"Михаил Яковлевич Гробман\", str(item.author))\n",
    "    author_sokolov = re.search(r\"Николай Алексеевич Соколов\", str(item.author))\n",
    "    if author_shvets:\n",
    "        continue\n",
    "    elif author_grobman:\n",
    "        continue\n",
    "    elif author_sokolov:\n",
    "        continue\n",
    "    else:\n",
    "        records_without_shvetsandko.append(item.text)\n",
    "#len(records_without_shvets)"
   ]
  },
  {
   "cell_type": "code",
   "execution_count": 410,
   "id": "gentle-syndication",
   "metadata": {},
   "outputs": [
    {
     "data": {
      "text/plain": [
       "60714"
      ]
     },
     "execution_count": 410,
     "metadata": {},
     "output_type": "execute_result"
    }
   ],
   "source": [
    "len(records_without_shvetsandko)"
   ]
  },
  {
   "cell_type": "code",
   "execution_count": 329,
   "id": "accomplished-leonard",
   "metadata": {},
   "outputs": [],
   "source": [
    "#считаем количество токенов в периоде \n",
    "period4_tokenized = []\n",
    "for item in twenty_cent:\n",
    "    tokens = word_tokenize(str(item))\n",
    "    for token in tokens:\n",
    "        if token not in extended_punctuation:\n",
    "            period4_tokenized.append(token)\n",
    "#len(period1_tokenized)"
   ]
  },
  {
   "cell_type": "code",
   "execution_count": 330,
   "id": "generous-cleanup",
   "metadata": {},
   "outputs": [
    {
     "data": {
      "text/plain": [
       "4304675"
      ]
     },
     "execution_count": 330,
     "metadata": {},
     "output_type": "execute_result"
    }
   ],
   "source": [
    "len(period4_tokenized)"
   ]
  },
  {
   "cell_type": "code",
   "execution_count": 331,
   "id": "gentle-wound",
   "metadata": {},
   "outputs": [],
   "source": [
    "with open('twenty_cent_per42.txt', 'w') as f:\n",
    "    for item in twenty_cent:\n",
    "        f.write(\"%s\\n\" % item)"
   ]
  },
  {
   "cell_type": "code",
   "execution_count": 24,
   "id": "willing-henry",
   "metadata": {},
   "outputs": [],
   "source": [
    "with open('old_records.txt', 'w') as f:\n",
    "    for item in old_records:\n",
    "        f.write(\"%s\\n\" % item)"
   ]
  },
  {
   "cell_type": "code",
   "execution_count": 202,
   "id": "sunset-mixer",
   "metadata": {},
   "outputs": [
    {
     "data": {
      "text/plain": [
       "['ночью',\n",
       " 'достигнуть',\n",
       " 'банк',\n",
       " 'антон-дорн',\n",
       " 'датский',\n",
       " 'пролив',\n",
       " 'исландия',\n",
       " 'гренландия',\n",
       " 'утром',\n",
       " 'погода',\n",
       " 'препротивный',\n",
       " 'сильный',\n",
       " 'дождь',\n",
       " 'сырость',\n",
       " 'пронизывать',\n",
       " 'ветер',\n",
       " 'дночерпатель',\n",
       " 'приносить',\n",
       " 'чудесный',\n",
       " 'коралл',\n",
       " 'стащить',\n",
       " 'вера',\n",
       " 'владимирович',\n",
       " 'подарить',\n",
       " 'рождение',\n",
       " 'вознаграждать',\n",
       " 'неприятный',\n",
       " 'труд',\n",
       " 'трал',\n",
       " 'принести',\n",
       " 'хороший',\n",
       " 'бентос',\n",
       " 'основное',\n",
       " 'губка',\n",
       " 'масса',\n",
       " 'больший',\n",
       " 'фиолетовый',\n",
       " 'медуза',\n",
       " 'живой',\n",
       " 'рыба',\n",
       " 'полдень',\n",
       " 'появиться',\n",
       " 'айсберг',\n",
       " 'фотографировать',\n",
       " 'дождь',\n",
       " 'кончиться',\n",
       " 'спуститься',\n",
       " 'густой',\n",
       " 'туман',\n",
       " 'судовой',\n",
       " 'известие',\n",
       " 'объявить',\n",
       " 'гренландия',\n",
       " 'лёд',\n",
       " 'пускать',\n",
       " 'далёкий',\n",
       " 'прийтись',\n",
       " 'идти',\n",
       " 'север',\n",
       " 'вдоль',\n",
       " 'бо',\n",
       " 'параллельно',\n",
       " 'берег',\n",
       " 'отправить',\n",
       " 'поздравительный',\n",
       " 'телеграмма',\n",
       " 'сашка',\n",
       " 'папа']"
      ]
     },
     "execution_count": 202,
     "metadata": {},
     "output_type": "execute_result"
    }
   ],
   "source": [
    "#тестовая лемматизация\n",
    "preprocess_text(dw.notes[1].text)"
   ]
  },
  {
   "cell_type": "code",
   "execution_count": 7,
   "id": "chinese-variable",
   "metadata": {},
   "outputs": [],
   "source": [
    "#собираем корпус с помощью регулярных выражений\n",
    "diaries_dic = {}\n",
    "info = {}\n",
    "info_list = []\n",
    "meta_info = pd.DataFrame(columns = ['ID записи', 'Автор', 'ID дневника', 'Дата'])\n",
    "for i, diaries in enumerate(dw.notes):\n",
    "    if re.search(r\"я\\s([а-яё-]+?\\s)?влюб(ился|илась|лен(\\s|а|ный|ная))\", dw.notes[i].text.lower()):\n",
    "    #if re.search(r\"влюб(ленност.{1,2}|ился|илась|лен(\\s|а|ный|ная))\", dw.notes[i].text.lower()):\n",
    "        diaries_dic[dw.notes[i].ID] = [dw.notes[i].text]\n",
    "        try:\n",
    "            info = {\"ID\" : dw.notes[i].ID, \"Автор\" : dw.notes[i].author, \"ID дневника\" : dw.notes[i].diary_ID, \"Дата\" : dw.notes[i].date}\n",
    "        except KeyError:\n",
    "            info = {\"ID\" : dw.notes[i].ID, \"Автор\" : 0, \"ID дневника\" : dw.notes[i].diary_ID, \"Дата\" : dw.notes[i].date}\n",
    "        info_list.append(info) "
   ]
  },
  {
   "cell_type": "code",
   "execution_count": 8,
   "id": "through-anime",
   "metadata": {},
   "outputs": [],
   "source": [
    "diaries_dic_again = {}\n",
    "#meta_info = pd.DataFrame(columns = ['ID записи', 'Автор', 'ID дневника', 'Дата'])\n",
    "# \"Автор\" : dw.notes[i].author\n",
    "for i, diaries in enumerate(dw.notes):\n",
    "    #if re.search(r\"(он|она|я)\\sизмени(л|ла)\\s\", dw.notes[i].text):\n",
    "    if re.search(r\"(я\\s([а-яё-]+?\\s)?разлюби(|л|ла))|(разлюби(л|ла|шь)\\sменя)\", dw.notes[i].text.lower()):\n",
    "        diaries_dic[dw.notes[i].ID] = [dw.notes[i].text]\n",
    "        try:\n",
    "            info = {\"ID\" : dw.notes[i].ID, \"Автор\" : dw.notes[i].author, \"ID дневника\" : dw.notes[i].diary_ID, \"Дата\" : dw.notes[i].date}\n",
    "        except KeyError:\n",
    "            info = {\"ID\" : dw.notes[i].ID, \"Автор\" : 0, \"ID дневника\" : dw.notes[i].diary_ID, \"Дата\" : dw.notes[i].date}\n",
    "        info_list.append(info)\n",
    "for i, diaries in enumerate(dw.notes):\n",
    "    if re.search(r\"(он|она|я|ты)\\sизмени(л|ла)\\s(мне)?\", dw.notes[i].text.lower()):\n",
    "    #if re.search(r\"разлюби(ть|л|ла)\", dw.notes[i].text):\n",
    "        diaries_dic[dw.notes[i].ID] = [dw.notes[i].text]\n",
    "        try:\n",
    "            info = {\"ID\" : dw.notes[i].ID, \"Автор\" : dw.notes[i].author, \"ID дневника\" : dw.notes[i].diary_ID, \"Дата\" : dw.notes[i].date}\n",
    "        except KeyError:\n",
    "            info = {\"ID\" : dw.notes[i].ID, \"Автор\" : 0, \"ID дневника\" : dw.notes[i].diary_ID, \"Дата\" : dw.notes[i].date}\n",
    "        info_list.append(info)\n",
    "for i, diaries in enumerate(dw.notes):\n",
    "    if re.search(r\"я\\s([а-яё-]+?\\s)?ревн(ую|овал|овала|ивый|ивая|ивец|ивица)\", dw.notes[i].text.lower()):\n",
    "    #if re.search(r\"разлюби(ть|л|ла)\", dw.notes[i].text):\n",
    "        diaries_dic[dw.notes[i].ID] = [dw.notes[i].text]\n",
    "        try:\n",
    "            info = {\"ID\" : dw.notes[i].ID, \"Автор\" : dw.notes[i].author, \"ID дневника\" : dw.notes[i].diary_ID, \"Дата\" : dw.notes[i].date}\n",
    "        except KeyError:\n",
    "            info = {\"ID\" : dw.notes[i].ID, \"Автор\" : 0, \"ID дневника\" : dw.notes[i].diary_ID, \"Дата\" : dw.notes[i].date}\n",
    "        info_list.append(info)"
   ]
  },
  {
   "cell_type": "code",
   "execution_count": 9,
   "id": "alpine-marble",
   "metadata": {},
   "outputs": [],
   "source": [
    "for i, diaries in enumerate(dw.notes):\n",
    "    if re.search(r\"ревн(овал|овала|уешь|ует)\\sменя\", dw.notes[i].text.lower()):\n",
    "    #if re.search(r\"разлюби(ть|л|ла)\", dw.notes[i].text):\n",
    "        diaries_dic[dw.notes[i].ID] = [dw.notes[i].text]\n",
    "        try:\n",
    "            info = {\"ID\" : dw.notes[i].ID, \"Автор\" : dw.notes[i].author, \"ID дневника\" : dw.notes[i].diary_ID, \"Дата\" : dw.notes[i].date}\n",
    "        except KeyError:\n",
    "            info = {\"ID\" : dw.notes[i].ID, \"Автор\" : 0, \"ID дневника\" : dw.notes[i].diary_ID, \"Дата\" : dw.notes[i].date}\n",
    "        info_list.append(info)"
   ]
  },
  {
   "cell_type": "code",
   "execution_count": 10,
   "id": "recent-universal",
   "metadata": {},
   "outputs": [],
   "source": [
    "for i, diaries in enumerate(dw.notes):\n",
    "    if re.search(r\"(любо?в.{0,2}\\s(мо.{1,2}|наш.{1,2}|сво.{1,2}|его|её|ее|тво.{1,2}))|((мо.{1,2}|наш.{1,2}|сво.{1,2}|его|ее|её|тво.{1,2})\\sлюбо?в.{0,2})\", dw.notes[i].text.lower()):\n",
    "        diaries_dic[dw.notes[i].ID] = [dw.notes[i].text]\n",
    "        try:\n",
    "            info = {\"ID\" : dw.notes[i].ID, \"Автор\" : dw.notes[i].author, \"ID дневника\" : dw.notes[i].diary_ID, \"Дата\" : dw.notes[i].date}\n",
    "        except KeyError:\n",
    "            info = {\"ID\" : dw.notes[i].ID, \"Автор\" : 0, \"ID дневника\" : dw.notes[i].diary_ID, \"Дата\" : dw.notes[i].date}\n",
    "        info_list.append(info)\n",
    "        meta_info = pd.DataFrame(info_list)  "
   ]
  },
  {
   "cell_type": "code",
   "execution_count": 11,
   "id": "latter-optics",
   "metadata": {},
   "outputs": [],
   "source": [
    " for i, diaries in enumerate(dw.notes):\n",
    "    if re.search(r\"любим.{0,3}\\sм{2,4}|м{2,4}\\sлюбим.{0,3}|я\\sлюбим.{0,2}\", dw.notes[i].text.lower()):\n",
    "        diaries_dic[dw.notes[i].ID] = [dw.notes[i].text]\n",
    "        try:\n",
    "            info = {\"ID\" : dw.notes[i].ID, \"Автор\" : dw.notes[i].author, \"ID дневника\" : dw.notes[i].diary_ID, \"Дата\" : dw.notes[i].date}\n",
    "        except KeyError:\n",
    "            info = {\"ID\" : dw.notes[i].ID, \"Автор\" : 0, \"ID дневника\" : dw.notes[i].diary_ID, \"Дата\" : dw.notes[i].date}\n",
    "        info_list.append(info)\n",
    "        meta_info = pd.DataFrame(info_list)  "
   ]
  },
  {
   "cell_type": "code",
   "execution_count": 12,
   "id": "juvenile-edinburgh",
   "metadata": {},
   "outputs": [],
   "source": [
    "diaries_dic_again = {}\n",
    "for i, diaries in enumerate(dw.notes):\n",
    "    if re.search(r\"я\\s([а-яё-]+?\\s)?(по)?люб(лю|я|ив|ил|ила|)\\s(вас|ваш|тебя|твой|его|ее|её)\", dw.notes[i].text.lower()):\n",
    "        diaries_dic[dw.notes[i].ID] = [dw.notes[i].text]\n",
    "        try:\n",
    "            info = {\"ID\" : dw.notes[i].ID, \"Автор\" : dw.notes[i].author, \"ID дневника\" : dw.notes[i].diary_ID, \"Дата\" : dw.notes[i].date}\n",
    "        except KeyError:\n",
    "            info = {\"ID\" : dw.notes[i].ID, \"Автор\" : 0, \"ID дневника\" : dw.notes[i].diary_ID, \"Дата\" : dw.notes[i].date}\n",
    "        info_list.append(info)\n",
    "        meta_info = pd.DataFrame(info_list) "
   ]
  },
  {
   "cell_type": "code",
   "execution_count": 13,
   "id": "demonstrated-elevation",
   "metadata": {},
   "outputs": [],
   "source": [
    "diaries_dic_again = {}\n",
    "for i, diaries in enumerate(dw.notes):\n",
    "    if re.search(r\"(ты|он|она)\\s(по|не\\s)?люб(ишь|я|ив|ил|ила|ит)\\sменя\", dw.notes[i].text.lower()):\n",
    "        diaries_dic[dw.notes[i].ID] = [dw.notes[i].text]\n",
    "        try:\n",
    "            info = {\"ID\" : dw.notes[i].ID, \"Автор\" : dw.notes[i].author, \"ID дневника\" : dw.notes[i].diary_ID, \"Дата\" : dw.notes[i].date}\n",
    "        except KeyError:\n",
    "            info = {\"ID\" : dw.notes[i].ID, \"Автор\" : 0, \"ID дневника\" : dw.notes[i].diary_ID, \"Дата\" : dw.notes[i].date}\n",
    "        info_list.append(info)\n",
    "        meta_info = pd.DataFrame(info_list)"
   ]
  },
  {
   "cell_type": "code",
   "execution_count": 14,
   "id": "dependent-leonard",
   "metadata": {},
   "outputs": [],
   "source": [
    "for i, diaries in enumerate(dw.notes):\n",
    "    if re.search(r\"я?\\s([а-яё-]+?\\s)?(вас|тебя|меня)\\s([а-яё,\\s-]+?)?(по)?люб(лю|я|ив|ил|ила|ишь)\", dw.notes[i].text.lower()):\n",
    "        diaries_dic[dw.notes[i].ID] = [dw.notes[i].text]\n",
    "        try:\n",
    "            info = {\"ID\" : dw.notes[i].ID, \"Автор\" : dw.notes[i].author, \"ID дневника\" : dw.notes[i].diary_ID, \"Дата\" : dw.notes[i].date}\n",
    "        except KeyError:\n",
    "            info = {\"ID\" : dw.notes[i].ID, \"Автор\" : 0, \"ID дневника\" : dw.notes[i].diary_ID, \"Дата\" : dw.notes[i].date}\n",
    "        info_list.append(info)\n",
    "        meta_info = pd.DataFrame(info_list) "
   ]
  },
  {
   "cell_type": "code",
   "execution_count": 15,
   "id": "copyrighted-utilization",
   "metadata": {},
   "outputs": [],
   "source": [
    "diaries_dic_again = {}\n",
    "diaries_dic_more = {}\n",
    "for i, diaries in enumerate(dw.notes):\n",
    "    #if re.search(r\"поцел(овал|овала|уй)\\sменя\", dw.notes[i].text.lower()):\n",
    "    if re.search(r\"перв.{1,3}поцелу.{1,3}\", dw.notes[i].text.lower()):\n",
    "        diaries_dic[dw.notes[i].ID] = [dw.notes[i].text]\n",
    "    #if re.search(r\"настоящ.{2,3}\\sлюбо?в{1,2}\", dw.notes[i].text.lower()):\n",
    "    #    diaries_dic_more[dw.notes[i].ID] = [dw.notes[i].text]\n",
    "        try:\n",
    "            info = {\"ID\" : dw.notes[i].ID, \"Автор\" : dw.notes[i].author, \"ID дневника\" : dw.notes[i].diary_ID, \"Дата\" : dw.notes[i].date}\n",
    "        except KeyError:\n",
    "            info = {\"ID\" : dw.notes[i].ID, \"Автор\" : 0, \"ID дневника\" : dw.notes[i].diary_ID, \"Дата\" : dw.notes[i].date}\n",
    "        info_list.append(info)\n",
    "        meta_info = pd.DataFrame(info_list) "
   ]
  },
  {
   "cell_type": "code",
   "execution_count": 16,
   "id": "auburn-universal",
   "metadata": {},
   "outputs": [],
   "source": [
    "diaries_dic_again = {}\n",
    "for i, diaries in enumerate(dw.notes):\n",
    "    if re.search(r\"(призна(лся|лась)\\s(мне\\sв\\sлюбви|в\\sлюбви\\sмне))|(признани.{1,2}\\sв\\sлюбви)\", dw.notes[i].text.lower()):\n",
    "        diaries_dic[dw.notes[i].ID] = [dw.notes[i].text]\n",
    "        try:\n",
    "            info = {\"ID\" : dw.notes[i].ID, \"Автор\" : dw.notes[i].author, \"ID дневника\" : dw.notes[i].diary_ID, \"Дата\" : dw.notes[i].date}\n",
    "        except KeyError:\n",
    "            info = {\"ID\" : dw.notes[i].ID, \"Автор\" : 0, \"ID дневника\" : dw.notes[i].diary_ID, \"Дата\" : dw.notes[i].date}\n",
    "        info_list.append(info)\n",
    "        meta_info = pd.DataFrame(info_list) "
   ]
  },
  {
   "cell_type": "code",
   "execution_count": 17,
   "id": "satisfactory-celtic",
   "metadata": {},
   "outputs": [],
   "source": [
    "for i, diaries in enumerate(dw.notes):\n",
    "    if re.search(r\"(мо.{1,3}\\sволокитств.{1,2})|(волочи(лся|ться)\\sза\\sмной)|(я\\s([а-яё-]+?\\s)?волочи(лся|ться))\", dw.notes[i].text.lower()):\n",
    "        diaries_dic[dw.notes[i].ID] = [dw.notes[i].text]\n",
    "        try:\n",
    "            info = {\"ID\" : dw.notes[i].ID, \"Автор\" : dw.notes[i].author, \"ID дневника\" : dw.notes[i].diary_ID, \"Дата\" : dw.notes[i].date}\n",
    "        except KeyError:\n",
    "            info = {\"ID\" : dw.notes[i].ID, \"Автор\" : 0, \"ID дневника\" : dw.notes[i].diary_ID, \"Дата\" : dw.notes[i].date}\n",
    "        info_list.append(info)\n",
    "        meta_info = pd.DataFrame(info_list) "
   ]
  },
  {
   "cell_type": "code",
   "execution_count": 18,
   "id": "brief-mills",
   "metadata": {},
   "outputs": [],
   "source": [
    "diaries_dic_again = {}\n",
    "diaries_dic_more = {}\n",
    "for i, diaries in enumerate(dw.notes):\n",
    "    if re.search(r\"любим.{2,3}\\s([а-яё-]+?\\s)?человек.{0,2}\", dw.notes[i].text.lower()):\n",
    "        diaries_dic[dw.notes[i].ID] = [dw.notes[i].text]\n",
    "        try:\n",
    "            info = {\"ID\" : dw.notes[i].ID, \"Автор\" : dw.notes[i].author, \"ID дневника\" : dw.notes[i].diary_ID, \"Дата\" : dw.notes[i].date}\n",
    "        except KeyError:\n",
    "            info = {\"ID\" : dw.notes[i].ID, \"Автор\" : 0, \"ID дневника\" : dw.notes[i].diary_ID, \"Дата\" : dw.notes[i].date}\n",
    "        info_list.append(info)\n",
    "        meta_info = pd.DataFrame(info_list) \n",
    "    #if re.search(r\"настоящ.{2,3}\\sлюбо?в{1,2}\", dw.notes[i].text.lower()):\n",
    "    #    diaries_dic_more[dw.notes[i].ID] = [dw.notes[i].text]"
   ]
  },
  {
   "cell_type": "code",
   "execution_count": 19,
   "id": "cross-hayes",
   "metadata": {},
   "outputs": [
    {
     "data": {
      "text/plain": [
       "6283"
      ]
     },
     "execution_count": 19,
     "metadata": {},
     "output_type": "execute_result"
    }
   ],
   "source": [
    "len(diaries_dic)"
   ]
  },
  {
   "cell_type": "code",
   "execution_count": 254,
   "id": "earlier-trunk",
   "metadata": {},
   "outputs": [],
   "source": [
    "#сколько всего записей в корпусе\n",
    "#len(diaries_dic)\n",
    "#len(diaries_dic)"
   ]
  },
  {
   "cell_type": "code",
   "execution_count": 154,
   "id": "faced-programming",
   "metadata": {},
   "outputs": [],
   "source": [
    "#отбираем записи 20 века\n",
    "twenty_cent = []\n",
    "for item in diaries_dic.items():\n",
    "    if re.search(\"\\(19\\d{2},\\s\\d{1,2},\\s\\d{1,2}\\)\", str(item[0])):\n",
    "    #if key.startswith('(1910'):\n",
    "        twenty_cent.append(item)\n",
    "#[key for key, value in diaries_dic if key.startswith('(1910')]"
   ]
  },
  {
   "cell_type": "code",
   "execution_count": 156,
   "id": "expressed-deadline",
   "metadata": {},
   "outputs": [],
   "source": [
    "#twenty_cent"
   ]
  },
  {
   "cell_type": "code",
   "execution_count": 161,
   "id": "following-passing",
   "metadata": {},
   "outputs": [],
   "source": [
    "#так тоже можно выбирать записи \n",
    "regex = '\\((17|18).*\\)'\n",
    "\n",
    "results = [v for k, v in diaries_dic.items() if re.match(regex, str(k))]"
   ]
  },
  {
   "cell_type": "code",
   "execution_count": 254,
   "id": "casual-volunteer",
   "metadata": {},
   "outputs": [],
   "source": [
    "#results"
   ]
  },
  {
   "cell_type": "code",
   "execution_count": 255,
   "id": "endless-philosophy",
   "metadata": {},
   "outputs": [
    {
     "data": {
      "text/html": [
       "<div>\n",
       "<style scoped>\n",
       "    .dataframe tbody tr th:only-of-type {\n",
       "        vertical-align: middle;\n",
       "    }\n",
       "\n",
       "    .dataframe tbody tr th {\n",
       "        vertical-align: top;\n",
       "    }\n",
       "\n",
       "    .dataframe thead th {\n",
       "        text-align: right;\n",
       "    }\n",
       "</style>\n",
       "<table border=\"1\" class=\"dataframe\">\n",
       "  <thead>\n",
       "    <tr style=\"text-align: right;\">\n",
       "      <th></th>\n",
       "      <th>ID</th>\n",
       "      <th>Автор</th>\n",
       "      <th>ID дневника</th>\n",
       "      <th>Дата</th>\n",
       "    </tr>\n",
       "  </thead>\n",
       "  <tbody>\n",
       "    <tr>\n",
       "      <th>1480</th>\n",
       "      <td>1471</td>\n",
       "      <td>0</td>\n",
       "      <td>2</td>\n",
       "      <td>(1917, 2, 14)</td>\n",
       "    </tr>\n",
       "    <tr>\n",
       "      <th>4291</th>\n",
       "      <td>1471</td>\n",
       "      <td>0</td>\n",
       "      <td>2</td>\n",
       "      <td>(1917, 2, 14)</td>\n",
       "    </tr>\n",
       "    <tr>\n",
       "      <th>84</th>\n",
       "      <td>2404</td>\n",
       "      <td>#13 Александр Александрович Блок</td>\n",
       "      <td>10</td>\n",
       "      <td>(1911, 12, 1)</td>\n",
       "    </tr>\n",
       "    <tr>\n",
       "      <th>5652</th>\n",
       "      <td>2404</td>\n",
       "      <td>#13 Александр Александрович Блок</td>\n",
       "      <td>10</td>\n",
       "      <td>(1911, 12, 1)</td>\n",
       "    </tr>\n",
       "    <tr>\n",
       "      <th>118</th>\n",
       "      <td>2869</td>\n",
       "      <td>#13 Александр Александрович Блок</td>\n",
       "      <td>10</td>\n",
       "      <td>(1920, 11, 7)</td>\n",
       "    </tr>\n",
       "    <tr>\n",
       "      <th>...</th>\n",
       "      <td>...</td>\n",
       "      <td>...</td>\n",
       "      <td>...</td>\n",
       "      <td>...</td>\n",
       "    </tr>\n",
       "    <tr>\n",
       "      <th>6947</th>\n",
       "      <td>467461</td>\n",
       "      <td>#1478    Нелли</td>\n",
       "      <td>1488</td>\n",
       "      <td>(1917, 9, 25)</td>\n",
       "    </tr>\n",
       "    <tr>\n",
       "      <th>1725</th>\n",
       "      <td>468335</td>\n",
       "      <td>#3334 Ольга Ивановна Баранова</td>\n",
       "      <td>3344</td>\n",
       "      <td>(1923, 1, 21)</td>\n",
       "    </tr>\n",
       "    <tr>\n",
       "      <th>5835</th>\n",
       "      <td>468335</td>\n",
       "      <td>#3334 Ольга Ивановна Баранова</td>\n",
       "      <td>3344</td>\n",
       "      <td>(1923, 1, 21)</td>\n",
       "    </tr>\n",
       "    <tr>\n",
       "      <th>199</th>\n",
       "      <td>468933</td>\n",
       "      <td>#3477 Эра Гансовна Мундецем</td>\n",
       "      <td>3487</td>\n",
       "      <td>(1944, 6, 8)</td>\n",
       "    </tr>\n",
       "    <tr>\n",
       "      <th>6827</th>\n",
       "      <td>468933</td>\n",
       "      <td>#3477 Эра Гансовна Мундецем</td>\n",
       "      <td>3487</td>\n",
       "      <td>(1944, 6, 8)</td>\n",
       "    </tr>\n",
       "  </tbody>\n",
       "</table>\n",
       "<p>1572 rows × 4 columns</p>\n",
       "</div>"
      ],
      "text/plain": [
       "          ID                             Автор  ID дневника           Дата\n",
       "1480    1471                                 0            2  (1917, 2, 14)\n",
       "4291    1471                                 0            2  (1917, 2, 14)\n",
       "84      2404  #13 Александр Александрович Блок           10  (1911, 12, 1)\n",
       "5652    2404  #13 Александр Александрович Блок           10  (1911, 12, 1)\n",
       "118     2869  #13 Александр Александрович Блок           10  (1920, 11, 7)\n",
       "...      ...                               ...          ...            ...\n",
       "6947  467461                    #1478    Нелли         1488  (1917, 9, 25)\n",
       "1725  468335    #3334 Ольга Ивановна Баранова          3344  (1923, 1, 21)\n",
       "5835  468335    #3334 Ольга Ивановна Баранова          3344  (1923, 1, 21)\n",
       "199   468933       #3477 Эра Гансовна Мундецем         3487   (1944, 6, 8)\n",
       "6827  468933       #3477 Эра Гансовна Мундецем         3487   (1944, 6, 8)\n",
       "\n",
       "[1572 rows x 4 columns]"
      ]
     },
     "execution_count": 255,
     "metadata": {},
     "output_type": "execute_result"
    }
   ],
   "source": [
    "#ищем повторяющиеся записи в метаданных\n",
    "pd.concat(g for _, g in meta_info.groupby(\"ID\") if len(g) > 1)"
   ]
  },
  {
   "cell_type": "code",
   "execution_count": 32,
   "id": "governing-scope",
   "metadata": {},
   "outputs": [
    {
     "data": {
      "text/html": [
       "<div>\n",
       "<style scoped>\n",
       "    .dataframe tbody tr th:only-of-type {\n",
       "        vertical-align: middle;\n",
       "    }\n",
       "\n",
       "    .dataframe tbody tr th {\n",
       "        vertical-align: top;\n",
       "    }\n",
       "\n",
       "    .dataframe thead th {\n",
       "        text-align: right;\n",
       "    }\n",
       "</style>\n",
       "<table border=\"1\" class=\"dataframe\">\n",
       "  <thead>\n",
       "    <tr style=\"text-align: right;\">\n",
       "      <th></th>\n",
       "      <th>ID</th>\n",
       "      <th>Автор</th>\n",
       "      <th>ID дневника</th>\n",
       "      <th>Дата</th>\n",
       "    </tr>\n",
       "  </thead>\n",
       "  <tbody>\n",
       "    <tr>\n",
       "      <th>0</th>\n",
       "      <td>140292</td>\n",
       "      <td>#507 Степан Петрович Жихарев</td>\n",
       "      <td>515</td>\n",
       "      <td>(1805, 7, 20)</td>\n",
       "    </tr>\n",
       "    <tr>\n",
       "      <th>1</th>\n",
       "      <td>444870</td>\n",
       "      <td>#719 Николай Дмитриевич Дурново</td>\n",
       "      <td>729</td>\n",
       "      <td>(1812, 1, 22)</td>\n",
       "    </tr>\n",
       "    <tr>\n",
       "      <th>2</th>\n",
       "      <td>178659</td>\n",
       "      <td>#763 Анна Алексеевна Андро</td>\n",
       "      <td>773</td>\n",
       "      <td>(1828, 10, 6)</td>\n",
       "    </tr>\n",
       "    <tr>\n",
       "      <th>3</th>\n",
       "      <td>171755</td>\n",
       "      <td>#706 Алексей Николаевич Вульф</td>\n",
       "      <td>716</td>\n",
       "      <td>(1831, 2, 10)</td>\n",
       "    </tr>\n",
       "    <tr>\n",
       "      <th>4</th>\n",
       "      <td>442455</td>\n",
       "      <td>#790 Дарья Фёдоровна Фикельмон</td>\n",
       "      <td>800</td>\n",
       "      <td>(1831, 7, 5)</td>\n",
       "    </tr>\n",
       "    <tr>\n",
       "      <th>...</th>\n",
       "      <td>...</td>\n",
       "      <td>...</td>\n",
       "      <td>...</td>\n",
       "      <td>...</td>\n",
       "    </tr>\n",
       "    <tr>\n",
       "      <th>7136</th>\n",
       "      <td>435616</td>\n",
       "      <td>#1949 Юрий Михайлович Кублановский</td>\n",
       "      <td>1959</td>\n",
       "      <td>(2010, 3, 14)</td>\n",
       "    </tr>\n",
       "    <tr>\n",
       "      <th>7137</th>\n",
       "      <td>394573</td>\n",
       "      <td>#2338 Ирина Львовна Шолохова</td>\n",
       "      <td>2348</td>\n",
       "      <td>(2011, 1, 3)</td>\n",
       "    </tr>\n",
       "    <tr>\n",
       "      <th>7139</th>\n",
       "      <td>394581</td>\n",
       "      <td>#2338 Ирина Львовна Шолохова</td>\n",
       "      <td>2348</td>\n",
       "      <td>(2012, 12, 2)</td>\n",
       "    </tr>\n",
       "    <tr>\n",
       "      <th>7140</th>\n",
       "      <td>394582</td>\n",
       "      <td>#2338 Ирина Львовна Шолохова</td>\n",
       "      <td>2348</td>\n",
       "      <td>(2012, 12, 29)</td>\n",
       "    </tr>\n",
       "    <tr>\n",
       "      <th>7142</th>\n",
       "      <td>364873</td>\n",
       "      <td>#981 Галина Г. Ларская</td>\n",
       "      <td>991</td>\n",
       "      <td>(2017, 1, 27)</td>\n",
       "    </tr>\n",
       "  </tbody>\n",
       "</table>\n",
       "<p>6283 rows × 4 columns</p>\n",
       "</div>"
      ],
      "text/plain": [
       "          ID                               Автор  ID дневника            Дата\n",
       "0     140292        #507 Степан Петрович Жихарев          515   (1805, 7, 20)\n",
       "1     444870     #719 Николай Дмитриевич Дурново          729   (1812, 1, 22)\n",
       "2     178659          #763 Анна Алексеевна Андро          773   (1828, 10, 6)\n",
       "3     171755       #706 Алексей Николаевич Вульф          716   (1831, 2, 10)\n",
       "4     442455      #790 Дарья Фёдоровна Фикельмон          800    (1831, 7, 5)\n",
       "...      ...                                 ...          ...             ...\n",
       "7136  435616  #1949 Юрий Михайлович Кублановский         1959   (2010, 3, 14)\n",
       "7137  394573        #2338 Ирина Львовна Шолохова         2348    (2011, 1, 3)\n",
       "7139  394581        #2338 Ирина Львовна Шолохова         2348   (2012, 12, 2)\n",
       "7140  394582        #2338 Ирина Львовна Шолохова         2348  (2012, 12, 29)\n",
       "7142  364873              #981 Галина Г. Ларская          991   (2017, 1, 27)\n",
       "\n",
       "[6283 rows x 4 columns]"
      ]
     },
     "execution_count": 32,
     "metadata": {},
     "output_type": "execute_result"
    }
   ],
   "source": [
    "#убираем их\n",
    "meta_info_cleaned = meta_info.drop_duplicates(subset=['ID'])\n",
    "meta_info_cleaned"
   ]
  },
  {
   "cell_type": "code",
   "execution_count": 40,
   "id": "horizontal-block",
   "metadata": {},
   "outputs": [
    {
     "name": "stdout",
     "output_type": "stream",
     "text": [
      "<class 'pandas.core.frame.DataFrame'>\n",
      "Int64Index: 6283 entries, 0 to 7142\n",
      "Data columns (total 4 columns):\n",
      " #   Column       Non-Null Count  Dtype         \n",
      "---  ------       --------------  -----         \n",
      " 0   ID           6283 non-null   int64         \n",
      " 1   Автор        6280 non-null   object        \n",
      " 2   ID дневника  6283 non-null   int64         \n",
      " 3   Дата         6283 non-null   datetime64[ns]\n",
      "dtypes: datetime64[ns](1), int64(2), object(1)\n",
      "memory usage: 245.4+ KB\n"
     ]
    },
    {
     "name": "stderr",
     "output_type": "stream",
     "text": [
      "/Library/Frameworks/Python.framework/Versions/3.7/lib/python3.7/site-packages/ipykernel_launcher.py:5: SettingWithCopyWarning: \n",
      "A value is trying to be set on a copy of a slice from a DataFrame.\n",
      "Try using .loc[row_indexer,col_indexer] = value instead\n",
      "\n",
      "See the caveats in the documentation: https://pandas.pydata.org/pandas-docs/stable/user_guide/indexing.html#returning-a-view-versus-a-copy\n",
      "  \"\"\"\n"
     ]
    }
   ],
   "source": [
    "#превращаем дату в datetime object\n",
    "#meta_info_cleaned.info()\n",
    "#meta_info_cleaned['Автор']= meta_info_cleaned['Автор'].astype(str)\n",
    "#meta_info_cleaned['Дата']= meta_info_cleaned['Дата'].astype('datetime64[ns]')\n",
    "meta_info_cleaned['Дата'] = pd.to_datetime(meta_info_cleaned['Дата'], format='(%Y, %m, %d)')\n",
    "meta_info_cleaned.info()"
   ]
  },
  {
   "cell_type": "code",
   "execution_count": 298,
   "id": "indian-facing",
   "metadata": {},
   "outputs": [],
   "source": [
    "#отбираем записи определенного периода\n",
    "#meta_info_cleaned[meta_info_cleaned.index.isin(['2010-1-2', '2017-6-8'])]\n",
    "#print(meta_info_cleaned.loc['2000-1-1':'2017-6-8'])\n",
    "#meta_1 = meta_info_cleaned[(meta_info_cleaned['Дата'] > '1828-10-1') & (meta_info_cleaned['Дата'] <= '1898-12-31')]\n",
    "#meta_2 = meta_info_cleaned[(meta_info_cleaned['Дата'] > '1898-12-31') & (meta_info_cleaned['Дата'] <= '1922-12-31')]\n",
    "#meta_3 = meta_info_cleaned[(meta_info_cleaned['Дата'] > '1922-12-31') & (meta_info_cleaned['Дата'] <= '1938-12-31')]\n",
    "#meta_4 = meta_info_cleaned[(meta_info_cleaned['Дата'] > '1938-12-31') & (meta_info_cleaned['Дата'] <= '1945-12-31')]\n",
    "#meta_5 = meta_info_cleaned[(meta_info_cleaned['Дата'] > '1945-12-31') & (meta_info_cleaned['Дата'] <= '1959-12-31')]\n",
    "#meta_6 = meta_info_cleaned[(meta_info_cleaned['Дата'] > '1959-12-31') & (meta_info_cleaned['Дата'] <= '1979-12-31')]\n",
    "#meta_7 = meta_info_cleaned[(meta_info_cleaned['Дата'] > '1979-12-31') & (meta_info_cleaned['Дата'] <= '1998-12-31')]\n",
    "#meta_8 = meta_info_cleaned[(meta_info_cleaned['Дата'] > '1998-12-31') & (meta_info_cleaned['Дата'] <= '2017-12-31')]"
   ]
  },
  {
   "cell_type": "code",
   "execution_count": 86,
   "id": "satisfactory-remainder",
   "metadata": {},
   "outputs": [],
   "source": [
    "#meta_1 771 запись -- 46107 записей всего\n",
    "#meta_2 1437 записей -- 79599 записей всего\n",
    "#meta_3 805 записей -- 50995 записей всего\n",
    "#meta_4 1186 записей -- 68083 записей всего\n",
    "#meta_5 468 записей -- 31066 записей всего\n",
    "#meta_6 635 записей -- 47007 записей всего\n",
    "#meta_7 747 записи -- 40143 записей всего\n",
    "#meta_8 356 записей -- 13008 записей всего"
   ]
  },
  {
   "cell_type": "code",
   "execution_count": 42,
   "id": "arbitrary-finding",
   "metadata": {},
   "outputs": [],
   "source": [
    "#отбираем записи определенного периода\n",
    "meta_1 = meta_info_cleaned[(meta_info_cleaned['Дата'] > '1798-12-31') & (meta_info_cleaned['Дата'] <= '1898-12-31')]\n",
    "meta_2 = meta_info_cleaned[(meta_info_cleaned['Дата'] > '1898-12-31') & (meta_info_cleaned['Дата'] <= '1938-12-31')]\n",
    "meta_3 = meta_info_cleaned[(meta_info_cleaned['Дата'] > '1938-12-31') & (meta_info_cleaned['Дата'] <= '1947-12-31')]\n",
    "meta_4 = meta_info_cleaned[(meta_info_cleaned['Дата'] > '1947-12-31') & (meta_info_cleaned['Дата'] <= '1979-12-31')]\n",
    "meta_5 = meta_info_cleaned[(meta_info_cleaned['Дата'] > '1979-12-31') & (meta_info_cleaned['Дата'] <= '2017-12-31')]"
   ]
  },
  {
   "cell_type": "code",
   "execution_count": 622,
   "id": "after-pixel",
   "metadata": {},
   "outputs": [
    {
     "data": {
      "text/plain": [
       "1017"
      ]
     },
     "execution_count": 622,
     "metadata": {},
     "output_type": "execute_result"
    }
   ],
   "source": [
    "#len(meta_1) #818 записи -- 50467 записей всего 0.016\n",
    "#len(meta_2) #2207 записи -- 130594 записей всего 0.017\n",
    "#len(meta_3) #1301 записей -- 73111 записей всего 0.018\n",
    "#len(meta_4) #936 записи -- 73045 записей всего 0.013\n",
    "#len(meta_5) #1017 записи -- 53151 записей всего 0.019"
   ]
  },
  {
   "cell_type": "code",
   "execution_count": 125,
   "id": "laden-dream",
   "metadata": {},
   "outputs": [],
   "source": [
    "#отбираем ID записей определенного периода\n",
    "period1_ids = []\n",
    "period2_ids = []\n",
    "period3_ids = []\n",
    "period4_ids = []\n",
    "period5_ids = []\n",
    "for item in meta_1[\"ID\"]:\n",
    "    period1_ids.append(item)\n",
    "for item in meta_2[\"ID\"]:\n",
    "    period2_ids.append(item)\n",
    "for item in meta_3[\"ID\"]:\n",
    "    period3_ids.append(item)\n",
    "for item in meta_4[\"ID\"]:\n",
    "    period4_ids.append(item)\n",
    "for item in meta_5[\"ID\"]:\n",
    "    period5_ids.append(item)"
   ]
  },
  {
   "cell_type": "code",
   "execution_count": 619,
   "id": "after-poison",
   "metadata": {},
   "outputs": [],
   "source": [
    "#собираем записи разных периодов в списки (способ нерабочий, удалять жалко)\n",
    "#period1_records = []\n",
    "#period1_ids_regex = re.compile(\"\"+\"|\".join(str(x) for x in period1_ids))\n",
    "#for item in diaries_dic.items():\n",
    "#    period1_match = re.search(period1_ids_regex, str(item[0]))\n",
    "#    if period1_match:\n",
    "#        period1_records.append(item[1])"
   ]
  },
  {
   "cell_type": "code",
   "execution_count": 126,
   "id": "acoustic-sight",
   "metadata": {},
   "outputs": [],
   "source": [
    "#собираем записи разных периодов в списки\n",
    "period1_records = []\n",
    "period2_records = []\n",
    "period3_records = []\n",
    "period4_records = []\n",
    "period5_records = []\n",
    "for item in diaries_dic.items():\n",
    "    for x in period1_ids:\n",
    "        if item[0] == x:\n",
    "            period1_records.append(item[1])\n",
    "    for x in period2_ids:\n",
    "        if item[0] == x:\n",
    "            period2_records.append(item[1])\n",
    "    for x in period3_ids:\n",
    "        if item[0] == x:\n",
    "            period3_records.append(item[1])\n",
    "    for x in period4_ids:\n",
    "        if item[0] == x:\n",
    "            period4_records.append(item[1])\n",
    "    for x in period5_ids:\n",
    "        if item[0] == x:\n",
    "            period5_records.append(item[1])"
   ]
  },
  {
   "cell_type": "code",
   "execution_count": 127,
   "id": "exact-satisfaction",
   "metadata": {},
   "outputs": [
    {
     "data": {
      "text/plain": [
       "936"
      ]
     },
     "execution_count": 127,
     "metadata": {},
     "output_type": "execute_result"
    }
   ],
   "source": [
    "len(period4_records)"
   ]
  },
  {
   "cell_type": "code",
   "execution_count": 169,
   "id": "nearby-hollywood",
   "metadata": {},
   "outputs": [
    {
     "data": {
      "text/plain": [
       "818"
      ]
     },
     "execution_count": 169,
     "metadata": {},
     "output_type": "execute_result"
    }
   ],
   "source": [
    "len(period1_records)"
   ]
  },
  {
   "cell_type": "code",
   "execution_count": 167,
   "id": "lasting-crash",
   "metadata": {},
   "outputs": [],
   "source": [
    "#считаем количество токенов в периоде\n",
    "period5_tokenized = []\n",
    "for item in period5_records:\n",
    "    tokens = word_tokenize(str(item))\n",
    "    for token in tokens:\n",
    "        if token not in extended_punctuation:\n",
    "            period5_tokenized.append(token)\n",
    "#len(period1_tokenized)"
   ]
  },
  {
   "cell_type": "code",
   "execution_count": 168,
   "id": "governing-dictionary",
   "metadata": {},
   "outputs": [
    {
     "data": {
      "text/plain": [
       "458551"
      ]
     },
     "execution_count": 168,
     "metadata": {},
     "output_type": "execute_result"
    }
   ],
   "source": [
    "len(period5_tokenized)"
   ]
  },
  {
   "cell_type": "code",
   "execution_count": 147,
   "id": "biblical-familiar",
   "metadata": {},
   "outputs": [],
   "source": [
    "#period1_tokenized"
   ]
  },
  {
   "cell_type": "code",
   "execution_count": 708,
   "id": "periodic-sapphire",
   "metadata": {},
   "outputs": [],
   "source": [
    "#выгружаем записи в txt\n",
    "with open('period1_records.txt', 'w') as p1:\n",
    "    for item in period1_records:\n",
    "        p1.write(\"%s\\n\" % item)\n",
    "with open('period3_records.txt', 'w') as p3:\n",
    "    for item in period3_records:\n",
    "        p3.write(\"%s\\n\" % item)\n",
    "with open('period4_records.txt', 'w') as p4:\n",
    "    for item in period4_records:\n",
    "        p4.write(\"%s\\n\" % item)"
   ]
  },
  {
   "cell_type": "code",
   "execution_count": 108,
   "id": "german-reflection",
   "metadata": {},
   "outputs": [],
   "source": [
    "with open('period2_records.txt', 'w') as p2:\n",
    "    for item in period2_records:\n",
    "        p2.write(\"%s\\n\" % item)\n",
    "with open('period5_records.txt', 'w') as p5:\n",
    "    for item in period5_records:\n",
    "        p5.write(\"%s\\n\" % item)"
   ]
  },
  {
   "cell_type": "code",
   "execution_count": 317,
   "id": "earlier-international",
   "metadata": {},
   "outputs": [],
   "source": [
    "#meta_info_cleaned[(meta_info_cleaned['Дата'] > '2013-1-1') & (meta_info_cleaned['Дата'] < '2017-6-8')]\n",
    "#meta_info_cleaned[(meta_info_cleaned['Дата']>datetime.date(2016, 1, 1)) & (meta_info_cleaned['Дата']<datetime.date(2017, 6, 8))]"
   ]
  },
  {
   "cell_type": "code",
   "execution_count": 37,
   "id": "rotary-infrastructure",
   "metadata": {},
   "outputs": [],
   "source": [
    "#отбираем имена, чтобы разделить по гендеру\n",
    "names = set()\n",
    "for item in meta_info_cleaned[\"Автор\"]:\n",
    "    name = re.search(\"#\\d{1,5}\\s(?P<name>[А-ЯЁ][а-яё]+)\", str(item))\n",
    "    if name:\n",
    "        names.add(name.group (\"name\"))"
   ]
  },
  {
   "cell_type": "code",
   "execution_count": 38,
   "id": "spectacular-sapphire",
   "metadata": {},
   "outputs": [],
   "source": [
    "female = []\n",
    "male = []\n",
    "ambig_fem = [\"Любовь\", \"Рашель\", \"Эсфирь\", \"Элен\", \"Нуне\"]\n",
    "ambig_male = [\"Микола\", \"Илья\", \"Дзига\", \"Никита\"] \n",
    "for name in names:\n",
    "    if re.search(\"(а|я|и)$\", name) and name not in ambig_male:\n",
    "        female.append(name)\n",
    "    elif name in ambig_fem:\n",
    "        female.append(name)\n",
    "    else:\n",
    "         male.append(name)"
   ]
  },
  {
   "cell_type": "code",
   "execution_count": 39,
   "id": "suspected-current",
   "metadata": {},
   "outputs": [],
   "source": [
    "female_regex = re.compile(\"\"+\"|\".join(female))\n",
    "#regex = re.compile(\"^(\"+\"|\".join(item_list)+\")\\.\")\n",
    "male_regex = re.compile(\"\"+\"|\".join(male))"
   ]
  },
  {
   "cell_type": "code",
   "execution_count": 40,
   "id": "brief-peter",
   "metadata": {},
   "outputs": [
    {
     "name": "stderr",
     "output_type": "stream",
     "text": [
      "/Library/Frameworks/Python.framework/Versions/3.7/lib/python3.7/site-packages/ipykernel_launcher.py:12: SettingWithCopyWarning: \n",
      "A value is trying to be set on a copy of a slice from a DataFrame.\n",
      "Try using .loc[row_indexer,col_indexer] = value instead\n",
      "\n",
      "See the caveats in the documentation: https://pandas.pydata.org/pandas-docs/stable/user_guide/indexing.html#returning-a-view-versus-a-copy\n",
      "  if sys.path[0] == '':\n"
     ]
    }
   ],
   "source": [
    "#создаем новый столбец с гендером\n",
    "gender = []\n",
    "for item in meta_info_cleaned[\"Автор\"]:\n",
    "    fem_match = re.search(female_regex, str(item))\n",
    "    male_match = re.search(male_regex, str(item))\n",
    "    if fem_match:\n",
    "        gender.append(\"Женский\")\n",
    "    elif male_match:\n",
    "        gender.append(\"Мужской\")\n",
    "    else:\n",
    "        gender.append(\"\")\n",
    "meta_info_cleaned[\"Гендер\"] = gender"
   ]
  },
  {
   "cell_type": "code",
   "execution_count": 41,
   "id": "motivated-leader",
   "metadata": {},
   "outputs": [
    {
     "data": {
      "text/html": [
       "<div>\n",
       "<style scoped>\n",
       "    .dataframe tbody tr th:only-of-type {\n",
       "        vertical-align: middle;\n",
       "    }\n",
       "\n",
       "    .dataframe tbody tr th {\n",
       "        vertical-align: top;\n",
       "    }\n",
       "\n",
       "    .dataframe thead th {\n",
       "        text-align: right;\n",
       "    }\n",
       "</style>\n",
       "<table border=\"1\" class=\"dataframe\">\n",
       "  <thead>\n",
       "    <tr style=\"text-align: right;\">\n",
       "      <th></th>\n",
       "      <th>ID</th>\n",
       "      <th>Автор</th>\n",
       "      <th>ID дневника</th>\n",
       "      <th>Дата</th>\n",
       "      <th>Гендер</th>\n",
       "    </tr>\n",
       "  </thead>\n",
       "  <tbody>\n",
       "    <tr>\n",
       "      <th>0</th>\n",
       "      <td>140292</td>\n",
       "      <td>#507 Степан Петрович Жихарев</td>\n",
       "      <td>515</td>\n",
       "      <td>1805-07-20</td>\n",
       "      <td>Мужской</td>\n",
       "    </tr>\n",
       "    <tr>\n",
       "      <th>1</th>\n",
       "      <td>444870</td>\n",
       "      <td>#719 Николай Дмитриевич Дурново</td>\n",
       "      <td>729</td>\n",
       "      <td>1812-01-22</td>\n",
       "      <td>Мужской</td>\n",
       "    </tr>\n",
       "    <tr>\n",
       "      <th>2</th>\n",
       "      <td>178659</td>\n",
       "      <td>#763 Анна Алексеевна Андро</td>\n",
       "      <td>773</td>\n",
       "      <td>1828-10-06</td>\n",
       "      <td>Женский</td>\n",
       "    </tr>\n",
       "    <tr>\n",
       "      <th>3</th>\n",
       "      <td>171755</td>\n",
       "      <td>#706 Алексей Николаевич Вульф</td>\n",
       "      <td>716</td>\n",
       "      <td>1831-02-10</td>\n",
       "      <td>Мужской</td>\n",
       "    </tr>\n",
       "    <tr>\n",
       "      <th>4</th>\n",
       "      <td>442455</td>\n",
       "      <td>#790 Дарья Фёдоровна Фикельмон</td>\n",
       "      <td>800</td>\n",
       "      <td>1831-07-05</td>\n",
       "      <td>Женский</td>\n",
       "    </tr>\n",
       "    <tr>\n",
       "      <th>...</th>\n",
       "      <td>...</td>\n",
       "      <td>...</td>\n",
       "      <td>...</td>\n",
       "      <td>...</td>\n",
       "      <td>...</td>\n",
       "    </tr>\n",
       "    <tr>\n",
       "      <th>7136</th>\n",
       "      <td>435616</td>\n",
       "      <td>#1949 Юрий Михайлович Кублановский</td>\n",
       "      <td>1959</td>\n",
       "      <td>2010-03-14</td>\n",
       "      <td>Мужской</td>\n",
       "    </tr>\n",
       "    <tr>\n",
       "      <th>7137</th>\n",
       "      <td>394573</td>\n",
       "      <td>#2338 Ирина Львовна Шолохова</td>\n",
       "      <td>2348</td>\n",
       "      <td>2011-01-03</td>\n",
       "      <td>Женский</td>\n",
       "    </tr>\n",
       "    <tr>\n",
       "      <th>7139</th>\n",
       "      <td>394581</td>\n",
       "      <td>#2338 Ирина Львовна Шолохова</td>\n",
       "      <td>2348</td>\n",
       "      <td>2012-12-02</td>\n",
       "      <td>Женский</td>\n",
       "    </tr>\n",
       "    <tr>\n",
       "      <th>7140</th>\n",
       "      <td>394582</td>\n",
       "      <td>#2338 Ирина Львовна Шолохова</td>\n",
       "      <td>2348</td>\n",
       "      <td>2012-12-29</td>\n",
       "      <td>Женский</td>\n",
       "    </tr>\n",
       "    <tr>\n",
       "      <th>7142</th>\n",
       "      <td>364873</td>\n",
       "      <td>#981 Галина Г. Ларская</td>\n",
       "      <td>991</td>\n",
       "      <td>2017-01-27</td>\n",
       "      <td>Женский</td>\n",
       "    </tr>\n",
       "  </tbody>\n",
       "</table>\n",
       "<p>6283 rows × 5 columns</p>\n",
       "</div>"
      ],
      "text/plain": [
       "          ID                               Автор  ID дневника       Дата  \\\n",
       "0     140292        #507 Степан Петрович Жихарев          515 1805-07-20   \n",
       "1     444870     #719 Николай Дмитриевич Дурново          729 1812-01-22   \n",
       "2     178659          #763 Анна Алексеевна Андро          773 1828-10-06   \n",
       "3     171755       #706 Алексей Николаевич Вульф          716 1831-02-10   \n",
       "4     442455      #790 Дарья Фёдоровна Фикельмон          800 1831-07-05   \n",
       "...      ...                                 ...          ...        ...   \n",
       "7136  435616  #1949 Юрий Михайлович Кублановский         1959 2010-03-14   \n",
       "7137  394573        #2338 Ирина Львовна Шолохова         2348 2011-01-03   \n",
       "7139  394581        #2338 Ирина Львовна Шолохова         2348 2012-12-02   \n",
       "7140  394582        #2338 Ирина Львовна Шолохова         2348 2012-12-29   \n",
       "7142  364873              #981 Галина Г. Ларская          991 2017-01-27   \n",
       "\n",
       "       Гендер  \n",
       "0     Мужской  \n",
       "1     Мужской  \n",
       "2     Женский  \n",
       "3     Мужской  \n",
       "4     Женский  \n",
       "...       ...  \n",
       "7136  Мужской  \n",
       "7137  Женский  \n",
       "7139  Женский  \n",
       "7140  Женский  \n",
       "7142  Женский  \n",
       "\n",
       "[6283 rows x 5 columns]"
      ]
     },
     "execution_count": 41,
     "metadata": {},
     "output_type": "execute_result"
    }
   ],
   "source": [
    "meta_info_cleaned"
   ]
  },
  {
   "cell_type": "code",
   "execution_count": 42,
   "id": "bigger-bacteria",
   "metadata": {},
   "outputs": [
    {
     "name": "stderr",
     "output_type": "stream",
     "text": [
      "/Library/Frameworks/Python.framework/Versions/3.7/lib/python3.7/site-packages/ipykernel_launcher.py:11: SettingWithCopyWarning: \n",
      "A value is trying to be set on a copy of a slice from a DataFrame.\n",
      "Try using .loc[row_indexer,col_indexer] = value instead\n",
      "\n",
      "See the caveats in the documentation: https://pandas.pydata.org/pandas-docs/stable/user_guide/indexing.html#returning-a-view-versus-a-copy\n",
      "  # This is added back by InteractiveShellApp.init_path()\n",
      "/Library/Frameworks/Python.framework/Versions/3.7/lib/python3.7/site-packages/ipykernel_launcher.py:13: SettingWithCopyWarning: \n",
      "A value is trying to be set on a copy of a slice from a DataFrame.\n",
      "Try using .loc[row_indexer,col_indexer] = value instead\n",
      "\n",
      "See the caveats in the documentation: https://pandas.pydata.org/pandas-docs/stable/user_guide/indexing.html#returning-a-view-versus-a-copy\n",
      "  del sys.path[0]\n"
     ]
    },
    {
     "data": {
      "text/html": [
       "<div>\n",
       "<style scoped>\n",
       "    .dataframe tbody tr th:only-of-type {\n",
       "        vertical-align: middle;\n",
       "    }\n",
       "\n",
       "    .dataframe tbody tr th {\n",
       "        vertical-align: top;\n",
       "    }\n",
       "\n",
       "    .dataframe thead th {\n",
       "        text-align: right;\n",
       "    }\n",
       "</style>\n",
       "<table border=\"1\" class=\"dataframe\">\n",
       "  <thead>\n",
       "    <tr style=\"text-align: right;\">\n",
       "      <th></th>\n",
       "      <th>ID</th>\n",
       "      <th>Автор</th>\n",
       "      <th>ID дневника</th>\n",
       "      <th>Дата</th>\n",
       "      <th>Гендер</th>\n",
       "      <th>ID автора</th>\n",
       "    </tr>\n",
       "  </thead>\n",
       "  <tbody>\n",
       "    <tr>\n",
       "      <th>0</th>\n",
       "      <td>140292</td>\n",
       "      <td>Степан Петрович Жихарев</td>\n",
       "      <td>515</td>\n",
       "      <td>1805-07-20</td>\n",
       "      <td>Мужской</td>\n",
       "      <td>507</td>\n",
       "    </tr>\n",
       "    <tr>\n",
       "      <th>1</th>\n",
       "      <td>444870</td>\n",
       "      <td>Николай Дмитриевич Дурново</td>\n",
       "      <td>729</td>\n",
       "      <td>1812-01-22</td>\n",
       "      <td>Мужской</td>\n",
       "      <td>719</td>\n",
       "    </tr>\n",
       "    <tr>\n",
       "      <th>2</th>\n",
       "      <td>178659</td>\n",
       "      <td>Анна Алексеевна Андро</td>\n",
       "      <td>773</td>\n",
       "      <td>1828-10-06</td>\n",
       "      <td>Женский</td>\n",
       "      <td>763</td>\n",
       "    </tr>\n",
       "    <tr>\n",
       "      <th>3</th>\n",
       "      <td>171755</td>\n",
       "      <td>Алексей Николаевич Вульф</td>\n",
       "      <td>716</td>\n",
       "      <td>1831-02-10</td>\n",
       "      <td>Мужской</td>\n",
       "      <td>706</td>\n",
       "    </tr>\n",
       "    <tr>\n",
       "      <th>4</th>\n",
       "      <td>442455</td>\n",
       "      <td>Дарья Фёдоровна Фикельмон</td>\n",
       "      <td>800</td>\n",
       "      <td>1831-07-05</td>\n",
       "      <td>Женский</td>\n",
       "      <td>790</td>\n",
       "    </tr>\n",
       "    <tr>\n",
       "      <th>...</th>\n",
       "      <td>...</td>\n",
       "      <td>...</td>\n",
       "      <td>...</td>\n",
       "      <td>...</td>\n",
       "      <td>...</td>\n",
       "      <td>...</td>\n",
       "    </tr>\n",
       "    <tr>\n",
       "      <th>7136</th>\n",
       "      <td>435616</td>\n",
       "      <td>Юрий Михайлович Кублановский</td>\n",
       "      <td>1959</td>\n",
       "      <td>2010-03-14</td>\n",
       "      <td>Мужской</td>\n",
       "      <td>1949</td>\n",
       "    </tr>\n",
       "    <tr>\n",
       "      <th>7137</th>\n",
       "      <td>394573</td>\n",
       "      <td>Ирина Львовна Шолохова</td>\n",
       "      <td>2348</td>\n",
       "      <td>2011-01-03</td>\n",
       "      <td>Женский</td>\n",
       "      <td>2338</td>\n",
       "    </tr>\n",
       "    <tr>\n",
       "      <th>7139</th>\n",
       "      <td>394581</td>\n",
       "      <td>Ирина Львовна Шолохова</td>\n",
       "      <td>2348</td>\n",
       "      <td>2012-12-02</td>\n",
       "      <td>Женский</td>\n",
       "      <td>2338</td>\n",
       "    </tr>\n",
       "    <tr>\n",
       "      <th>7140</th>\n",
       "      <td>394582</td>\n",
       "      <td>Ирина Львовна Шолохова</td>\n",
       "      <td>2348</td>\n",
       "      <td>2012-12-29</td>\n",
       "      <td>Женский</td>\n",
       "      <td>2338</td>\n",
       "    </tr>\n",
       "    <tr>\n",
       "      <th>7142</th>\n",
       "      <td>364873</td>\n",
       "      <td>Галина Г. Ларская</td>\n",
       "      <td>991</td>\n",
       "      <td>2017-01-27</td>\n",
       "      <td>Женский</td>\n",
       "      <td>981</td>\n",
       "    </tr>\n",
       "  </tbody>\n",
       "</table>\n",
       "<p>6283 rows × 6 columns</p>\n",
       "</div>"
      ],
      "text/plain": [
       "          ID                         Автор  ID дневника       Дата   Гендер  \\\n",
       "0     140292       Степан Петрович Жихарев          515 1805-07-20  Мужской   \n",
       "1     444870    Николай Дмитриевич Дурново          729 1812-01-22  Мужской   \n",
       "2     178659         Анна Алексеевна Андро          773 1828-10-06  Женский   \n",
       "3     171755      Алексей Николаевич Вульф          716 1831-02-10  Мужской   \n",
       "4     442455     Дарья Фёдоровна Фикельмон          800 1831-07-05  Женский   \n",
       "...      ...                           ...          ...        ...      ...   \n",
       "7136  435616  Юрий Михайлович Кублановский         1959 2010-03-14  Мужской   \n",
       "7137  394573        Ирина Львовна Шолохова         2348 2011-01-03  Женский   \n",
       "7139  394581        Ирина Львовна Шолохова         2348 2012-12-02  Женский   \n",
       "7140  394582        Ирина Львовна Шолохова         2348 2012-12-29  Женский   \n",
       "7142  364873             Галина Г. Ларская          991 2017-01-27  Женский   \n",
       "\n",
       "     ID автора  \n",
       "0          507  \n",
       "1          719  \n",
       "2          763  \n",
       "3          706  \n",
       "4          790  \n",
       "...        ...  \n",
       "7136      1949  \n",
       "7137      2338  \n",
       "7139      2338  \n",
       "7140      2338  \n",
       "7142       981  \n",
       "\n",
       "[6283 rows x 6 columns]"
      ]
     },
     "execution_count": 42,
     "metadata": {},
     "output_type": "execute_result"
    }
   ],
   "source": [
    "#приводим метаданные к единому формату\n",
    "ids = []\n",
    "for item in meta_info_cleaned[\"Автор\"]:\n",
    "    number = re.search(r\"\\d{1,5}\", str(item))\n",
    "    if number:\n",
    "        ids.append(number.group())\n",
    "    else: \n",
    "        ids.append(0)\n",
    "        \n",
    "p = re.compile(r\"#\\d{1,5}\\s\")\n",
    "meta_info_cleaned[\"Автор\"] = [p.sub('', str(x)) for x in meta_info_cleaned[\"Автор\"]]\n",
    "        \n",
    "meta_info_cleaned[\"ID автора\"] = ids   \n",
    "meta_info_cleaned"
   ]
  },
  {
   "cell_type": "code",
   "execution_count": 43,
   "id": "known-scott",
   "metadata": {},
   "outputs": [
    {
     "name": "stderr",
     "output_type": "stream",
     "text": [
      "/Library/Frameworks/Python.framework/Versions/3.7/lib/python3.7/site-packages/ipykernel_launcher.py:1: SettingWithCopyWarning: \n",
      "A value is trying to be set on a copy of a slice from a DataFrame.\n",
      "Try using .loc[row_indexer,col_indexer] = value instead\n",
      "\n",
      "See the caveats in the documentation: https://pandas.pydata.org/pandas-docs/stable/user_guide/indexing.html#returning-a-view-versus-a-copy\n",
      "  \"\"\"Entry point for launching an IPython kernel.\n"
     ]
    }
   ],
   "source": [
    "meta_info_cleaned['ID автора']= meta_info_cleaned['ID автора'].astype(int)"
   ]
  },
  {
   "cell_type": "code",
   "execution_count": 44,
   "id": "beautiful-postage",
   "metadata": {},
   "outputs": [
    {
     "ename": "KeyboardInterrupt",
     "evalue": "",
     "output_type": "error",
     "traceback": [
      "\u001b[0;31m---------------------------------------------------------------------------\u001b[0m",
      "\u001b[0;31mKeyboardInterrupt\u001b[0m                         Traceback (most recent call last)",
      "\u001b[0;32m<ipython-input-44-2d86088f99f0>\u001b[0m in \u001b[0;36m<module>\u001b[0;34m\u001b[0m\n\u001b[1;32m      7\u001b[0m             \u001b[0mnumber\u001b[0m \u001b[0;34m=\u001b[0m \u001b[0mlen\u001b[0m\u001b[0;34m(\u001b[0m\u001b[0mline\u001b[0m\u001b[0;34m.\u001b[0m\u001b[0mnotes\u001b[0m\u001b[0;34m)\u001b[0m\u001b[0;34m\u001b[0m\u001b[0;34m\u001b[0m\u001b[0m\n\u001b[1;32m      8\u001b[0m             \u001b[0;32mreturn\u001b[0m \u001b[0mnumber\u001b[0m\u001b[0;34m\u001b[0m\u001b[0;34m\u001b[0m\u001b[0m\n\u001b[0;32m----> 9\u001b[0;31m \u001b[0mmeta_info_cleaned\u001b[0m\u001b[0;34m[\u001b[0m\u001b[0;34m'Количество записей'\u001b[0m\u001b[0;34m]\u001b[0m \u001b[0;34m=\u001b[0m \u001b[0mmeta_info_cleaned\u001b[0m\u001b[0;34m.\u001b[0m\u001b[0mapply\u001b[0m\u001b[0;34m(\u001b[0m\u001b[0mrecord_number\u001b[0m\u001b[0;34m,\u001b[0m \u001b[0maxis\u001b[0m\u001b[0;34m=\u001b[0m\u001b[0;36m1\u001b[0m\u001b[0;34m)\u001b[0m\u001b[0;34m\u001b[0m\u001b[0;34m\u001b[0m\u001b[0m\n\u001b[0m",
      "\u001b[0;32m/Library/Frameworks/Python.framework/Versions/3.7/lib/python3.7/site-packages/pandas/core/frame.py\u001b[0m in \u001b[0;36mapply\u001b[0;34m(self, func, axis, raw, result_type, args, **kwds)\u001b[0m\n\u001b[1;32m   7763\u001b[0m             \u001b[0mkwds\u001b[0m\u001b[0;34m=\u001b[0m\u001b[0mkwds\u001b[0m\u001b[0;34m,\u001b[0m\u001b[0;34m\u001b[0m\u001b[0;34m\u001b[0m\u001b[0m\n\u001b[1;32m   7764\u001b[0m         )\n\u001b[0;32m-> 7765\u001b[0;31m         \u001b[0;32mreturn\u001b[0m \u001b[0mop\u001b[0m\u001b[0;34m.\u001b[0m\u001b[0mget_result\u001b[0m\u001b[0;34m(\u001b[0m\u001b[0;34m)\u001b[0m\u001b[0;34m\u001b[0m\u001b[0;34m\u001b[0m\u001b[0m\n\u001b[0m\u001b[1;32m   7766\u001b[0m \u001b[0;34m\u001b[0m\u001b[0m\n\u001b[1;32m   7767\u001b[0m     \u001b[0;32mdef\u001b[0m \u001b[0mapplymap\u001b[0m\u001b[0;34m(\u001b[0m\u001b[0mself\u001b[0m\u001b[0;34m,\u001b[0m \u001b[0mfunc\u001b[0m\u001b[0;34m,\u001b[0m \u001b[0mna_action\u001b[0m\u001b[0;34m:\u001b[0m \u001b[0mOptional\u001b[0m\u001b[0;34m[\u001b[0m\u001b[0mstr\u001b[0m\u001b[0;34m]\u001b[0m \u001b[0;34m=\u001b[0m \u001b[0;32mNone\u001b[0m\u001b[0;34m)\u001b[0m \u001b[0;34m->\u001b[0m \u001b[0mDataFrame\u001b[0m\u001b[0;34m:\u001b[0m\u001b[0;34m\u001b[0m\u001b[0;34m\u001b[0m\u001b[0m\n",
      "\u001b[0;32m/Library/Frameworks/Python.framework/Versions/3.7/lib/python3.7/site-packages/pandas/core/apply.py\u001b[0m in \u001b[0;36mget_result\u001b[0;34m(self)\u001b[0m\n\u001b[1;32m    183\u001b[0m             \u001b[0;32mreturn\u001b[0m \u001b[0mself\u001b[0m\u001b[0;34m.\u001b[0m\u001b[0mapply_raw\u001b[0m\u001b[0;34m(\u001b[0m\u001b[0;34m)\u001b[0m\u001b[0;34m\u001b[0m\u001b[0;34m\u001b[0m\u001b[0m\n\u001b[1;32m    184\u001b[0m \u001b[0;34m\u001b[0m\u001b[0m\n\u001b[0;32m--> 185\u001b[0;31m         \u001b[0;32mreturn\u001b[0m \u001b[0mself\u001b[0m\u001b[0;34m.\u001b[0m\u001b[0mapply_standard\u001b[0m\u001b[0;34m(\u001b[0m\u001b[0;34m)\u001b[0m\u001b[0;34m\u001b[0m\u001b[0;34m\u001b[0m\u001b[0m\n\u001b[0m\u001b[1;32m    186\u001b[0m \u001b[0;34m\u001b[0m\u001b[0m\n\u001b[1;32m    187\u001b[0m     \u001b[0;32mdef\u001b[0m \u001b[0mapply_empty_result\u001b[0m\u001b[0;34m(\u001b[0m\u001b[0mself\u001b[0m\u001b[0;34m)\u001b[0m\u001b[0;34m:\u001b[0m\u001b[0;34m\u001b[0m\u001b[0;34m\u001b[0m\u001b[0m\n",
      "\u001b[0;32m/Library/Frameworks/Python.framework/Versions/3.7/lib/python3.7/site-packages/pandas/core/apply.py\u001b[0m in \u001b[0;36mapply_standard\u001b[0;34m(self)\u001b[0m\n\u001b[1;32m    274\u001b[0m \u001b[0;34m\u001b[0m\u001b[0m\n\u001b[1;32m    275\u001b[0m     \u001b[0;32mdef\u001b[0m \u001b[0mapply_standard\u001b[0m\u001b[0;34m(\u001b[0m\u001b[0mself\u001b[0m\u001b[0;34m)\u001b[0m\u001b[0;34m:\u001b[0m\u001b[0;34m\u001b[0m\u001b[0;34m\u001b[0m\u001b[0m\n\u001b[0;32m--> 276\u001b[0;31m         \u001b[0mresults\u001b[0m\u001b[0;34m,\u001b[0m \u001b[0mres_index\u001b[0m \u001b[0;34m=\u001b[0m \u001b[0mself\u001b[0m\u001b[0;34m.\u001b[0m\u001b[0mapply_series_generator\u001b[0m\u001b[0;34m(\u001b[0m\u001b[0;34m)\u001b[0m\u001b[0;34m\u001b[0m\u001b[0;34m\u001b[0m\u001b[0m\n\u001b[0m\u001b[1;32m    277\u001b[0m \u001b[0;34m\u001b[0m\u001b[0m\n\u001b[1;32m    278\u001b[0m         \u001b[0;31m# wrap results\u001b[0m\u001b[0;34m\u001b[0m\u001b[0;34m\u001b[0m\u001b[0;34m\u001b[0m\u001b[0m\n",
      "\u001b[0;32m/Library/Frameworks/Python.framework/Versions/3.7/lib/python3.7/site-packages/pandas/core/apply.py\u001b[0m in \u001b[0;36mapply_series_generator\u001b[0;34m(self)\u001b[0m\n\u001b[1;32m    288\u001b[0m             \u001b[0;32mfor\u001b[0m \u001b[0mi\u001b[0m\u001b[0;34m,\u001b[0m \u001b[0mv\u001b[0m \u001b[0;32min\u001b[0m \u001b[0menumerate\u001b[0m\u001b[0;34m(\u001b[0m\u001b[0mseries_gen\u001b[0m\u001b[0;34m)\u001b[0m\u001b[0;34m:\u001b[0m\u001b[0;34m\u001b[0m\u001b[0;34m\u001b[0m\u001b[0m\n\u001b[1;32m    289\u001b[0m                 \u001b[0;31m# ignore SettingWithCopy here in case the user mutates\u001b[0m\u001b[0;34m\u001b[0m\u001b[0;34m\u001b[0m\u001b[0;34m\u001b[0m\u001b[0m\n\u001b[0;32m--> 290\u001b[0;31m                 \u001b[0mresults\u001b[0m\u001b[0;34m[\u001b[0m\u001b[0mi\u001b[0m\u001b[0;34m]\u001b[0m \u001b[0;34m=\u001b[0m \u001b[0mself\u001b[0m\u001b[0;34m.\u001b[0m\u001b[0mf\u001b[0m\u001b[0;34m(\u001b[0m\u001b[0mv\u001b[0m\u001b[0;34m)\u001b[0m\u001b[0;34m\u001b[0m\u001b[0;34m\u001b[0m\u001b[0m\n\u001b[0m\u001b[1;32m    291\u001b[0m                 \u001b[0;32mif\u001b[0m \u001b[0misinstance\u001b[0m\u001b[0;34m(\u001b[0m\u001b[0mresults\u001b[0m\u001b[0;34m[\u001b[0m\u001b[0mi\u001b[0m\u001b[0;34m]\u001b[0m\u001b[0;34m,\u001b[0m \u001b[0mABCSeries\u001b[0m\u001b[0;34m)\u001b[0m\u001b[0;34m:\u001b[0m\u001b[0;34m\u001b[0m\u001b[0;34m\u001b[0m\u001b[0m\n\u001b[1;32m    292\u001b[0m                     \u001b[0;31m# If we have a view on v, we need to make a copy because\u001b[0m\u001b[0;34m\u001b[0m\u001b[0;34m\u001b[0m\u001b[0;34m\u001b[0m\u001b[0m\n",
      "\u001b[0;32m<ipython-input-44-2d86088f99f0>\u001b[0m in \u001b[0;36mrecord_number\u001b[0;34m(row)\u001b[0m\n\u001b[1;32m      5\u001b[0m     \u001b[0;32mfor\u001b[0m \u001b[0mline\u001b[0m \u001b[0;32min\u001b[0m \u001b[0mdw\u001b[0m\u001b[0;34m.\u001b[0m\u001b[0mdiaries\u001b[0m\u001b[0;34m:\u001b[0m\u001b[0;34m\u001b[0m\u001b[0;34m\u001b[0m\u001b[0m\n\u001b[1;32m      6\u001b[0m         \u001b[0;32mif\u001b[0m \u001b[0mre\u001b[0m\u001b[0;34m.\u001b[0m\u001b[0msearch\u001b[0m\u001b[0;34m(\u001b[0m\u001b[0mdiary_number\u001b[0m\u001b[0;34m,\u001b[0m \u001b[0mstr\u001b[0m\u001b[0;34m(\u001b[0m\u001b[0mline\u001b[0m\u001b[0;34m)\u001b[0m\u001b[0;34m)\u001b[0m\u001b[0;34m:\u001b[0m\u001b[0;34m\u001b[0m\u001b[0;34m\u001b[0m\u001b[0m\n\u001b[0;32m----> 7\u001b[0;31m             \u001b[0mnumber\u001b[0m \u001b[0;34m=\u001b[0m \u001b[0mlen\u001b[0m\u001b[0;34m(\u001b[0m\u001b[0mline\u001b[0m\u001b[0;34m.\u001b[0m\u001b[0mnotes\u001b[0m\u001b[0;34m)\u001b[0m\u001b[0;34m\u001b[0m\u001b[0;34m\u001b[0m\u001b[0m\n\u001b[0m\u001b[1;32m      8\u001b[0m             \u001b[0;32mreturn\u001b[0m \u001b[0mnumber\u001b[0m\u001b[0;34m\u001b[0m\u001b[0;34m\u001b[0m\u001b[0m\n\u001b[1;32m      9\u001b[0m \u001b[0mmeta_info_cleaned\u001b[0m\u001b[0;34m[\u001b[0m\u001b[0;34m'Количество записей'\u001b[0m\u001b[0;34m]\u001b[0m \u001b[0;34m=\u001b[0m \u001b[0mmeta_info_cleaned\u001b[0m\u001b[0;34m.\u001b[0m\u001b[0mapply\u001b[0m\u001b[0;34m(\u001b[0m\u001b[0mrecord_number\u001b[0m\u001b[0;34m,\u001b[0m \u001b[0maxis\u001b[0m\u001b[0;34m=\u001b[0m\u001b[0;36m1\u001b[0m\u001b[0;34m)\u001b[0m\u001b[0;34m\u001b[0m\u001b[0;34m\u001b[0m\u001b[0m\n",
      "\u001b[0;32m~/prozhitotools/diary.py\u001b[0m in \u001b[0;36mnotes\u001b[0;34m(self)\u001b[0m\n\u001b[1;32m     46\u001b[0m     \u001b[0;32mdef\u001b[0m \u001b[0mnotes\u001b[0m\u001b[0;34m(\u001b[0m\u001b[0mself\u001b[0m\u001b[0;34m)\u001b[0m\u001b[0;34m:\u001b[0m\u001b[0;34m\u001b[0m\u001b[0;34m\u001b[0m\u001b[0m\n\u001b[1;32m     47\u001b[0m         \u001b[0mnotes_of_diary\u001b[0m \u001b[0;34m=\u001b[0m \u001b[0mfilter\u001b[0m\u001b[0;34m(\u001b[0m\u001b[0;32mlambda\u001b[0m \u001b[0mnote\u001b[0m\u001b[0;34m:\u001b[0m \u001b[0mnote\u001b[0m\u001b[0;34m.\u001b[0m\u001b[0mdiary_ID\u001b[0m \u001b[0;34m==\u001b[0m \u001b[0mself\u001b[0m\u001b[0;34m.\u001b[0m\u001b[0mID\u001b[0m\u001b[0;34m,\u001b[0m \u001b[0mself\u001b[0m\u001b[0;34m.\u001b[0m\u001b[0mdw\u001b[0m\u001b[0;34m.\u001b[0m\u001b[0mnotes\u001b[0m\u001b[0;34m)\u001b[0m\u001b[0;34m\u001b[0m\u001b[0;34m\u001b[0m\u001b[0m\n\u001b[0;32m---> 48\u001b[0;31m         \u001b[0;32mreturn\u001b[0m \u001b[0mProzhitoNotes\u001b[0m\u001b[0;34m.\u001b[0m\u001b[0mnew_from_list\u001b[0m\u001b[0;34m(\u001b[0m\u001b[0mself\u001b[0m\u001b[0;34m.\u001b[0m\u001b[0mdw\u001b[0m\u001b[0;34m,\u001b[0m \u001b[0mnotes_of_diary\u001b[0m\u001b[0;34m)\u001b[0m\u001b[0;34m\u001b[0m\u001b[0;34m\u001b[0m\u001b[0m\n\u001b[0m\u001b[1;32m     49\u001b[0m \u001b[0;34m\u001b[0m\u001b[0m\n\u001b[1;32m     50\u001b[0m     \u001b[0;32mdef\u001b[0m \u001b[0m__repr__\u001b[0m\u001b[0;34m(\u001b[0m\u001b[0mself\u001b[0m\u001b[0;34m)\u001b[0m\u001b[0;34m:\u001b[0m\u001b[0;34m\u001b[0m\u001b[0;34m\u001b[0m\u001b[0m\n",
      "\u001b[0;32m~/prozhitotools/notes.py\u001b[0m in \u001b[0;36mnew_from_list\u001b[0;34m(cls, dumpwrap, notes_iter)\u001b[0m\n\u001b[1;32m     23\u001b[0m     \u001b[0;32mdef\u001b[0m \u001b[0mnew_from_list\u001b[0m\u001b[0;34m(\u001b[0m\u001b[0mcls\u001b[0m\u001b[0;34m,\u001b[0m \u001b[0mdumpwrap\u001b[0m\u001b[0;34m,\u001b[0m \u001b[0mnotes_iter\u001b[0m\u001b[0;34m)\u001b[0m\u001b[0;34m:\u001b[0m\u001b[0;34m\u001b[0m\u001b[0;34m\u001b[0m\u001b[0m\n\u001b[1;32m     24\u001b[0m         \u001b[0mnotes\u001b[0m \u001b[0;34m=\u001b[0m \u001b[0mcls\u001b[0m\u001b[0;34m(\u001b[0m\u001b[0mdumpwrap\u001b[0m\u001b[0;34m)\u001b[0m\u001b[0;34m\u001b[0m\u001b[0;34m\u001b[0m\u001b[0m\n\u001b[0;32m---> 25\u001b[0;31m         \u001b[0mnotes\u001b[0m\u001b[0;34m.\u001b[0m\u001b[0mnotes_list\u001b[0m \u001b[0;34m=\u001b[0m \u001b[0mlist\u001b[0m\u001b[0;34m(\u001b[0m\u001b[0mnotes_iter\u001b[0m\u001b[0;34m)\u001b[0m\u001b[0;34m\u001b[0m\u001b[0;34m\u001b[0m\u001b[0m\n\u001b[0m\u001b[1;32m     26\u001b[0m         \u001b[0mnotes\u001b[0m\u001b[0;34m.\u001b[0m\u001b[0mrecalc_dates\u001b[0m\u001b[0;34m(\u001b[0m\u001b[0;34m)\u001b[0m\u001b[0;34m\u001b[0m\u001b[0;34m\u001b[0m\u001b[0m\n\u001b[1;32m     27\u001b[0m         \u001b[0;32mreturn\u001b[0m \u001b[0mnotes\u001b[0m\u001b[0;34m\u001b[0m\u001b[0;34m\u001b[0m\u001b[0m\n",
      "\u001b[0;32m~/prozhitotools/notes.py\u001b[0m in \u001b[0;36mget_note_by_date\u001b[0;34m(self, di)\u001b[0m\n\u001b[1;32m     71\u001b[0m \u001b[0;34m\u001b[0m\u001b[0m\n\u001b[1;32m     72\u001b[0m     \u001b[0;32mdef\u001b[0m \u001b[0mget_note_by_date\u001b[0m\u001b[0;34m(\u001b[0m\u001b[0mself\u001b[0m\u001b[0;34m,\u001b[0m \u001b[0mdi\u001b[0m\u001b[0;34m)\u001b[0m\u001b[0;34m:\u001b[0m\u001b[0;34m\u001b[0m\u001b[0;34m\u001b[0m\u001b[0m\n\u001b[0;32m---> 73\u001b[0;31m         \u001b[0;32mreturn\u001b[0m \u001b[0mself\u001b[0m\u001b[0;34m.\u001b[0m\u001b[0mnotes_list\u001b[0m\u001b[0;34m[\u001b[0m\u001b[0mdi\u001b[0m\u001b[0;34m[\u001b[0m\u001b[0;36m1\u001b[0m\u001b[0;34m]\u001b[0m\u001b[0;34m]\u001b[0m\u001b[0;34m\u001b[0m\u001b[0;34m\u001b[0m\u001b[0m\n\u001b[0m\u001b[1;32m     74\u001b[0m \u001b[0;34m\u001b[0m\u001b[0m\n\u001b[1;32m     75\u001b[0m     \u001b[0;32mdef\u001b[0m \u001b[0mget_note_by_date_index\u001b[0m\u001b[0;34m(\u001b[0m\u001b[0mself\u001b[0m\u001b[0;34m,\u001b[0m \u001b[0mi\u001b[0m\u001b[0;34m)\u001b[0m\u001b[0;34m:\u001b[0m\u001b[0;34m\u001b[0m\u001b[0;34m\u001b[0m\u001b[0m\n",
      "\u001b[0;31mKeyboardInterrupt\u001b[0m: "
     ]
    }
   ],
   "source": [
    "#функция для колонки с количеством записей в дневнике\n",
    "def record_number(row):\n",
    "    #for item in tqdm(row[\"ID дневника\"]):\n",
    "    diary_number = re.compile(\"@\"+str(row[\"ID дневника\"])+\"\\s\")\n",
    "    for line in dw.diaries:\n",
    "        if re.search(diary_number, str(line)):\n",
    "            number = len(line.notes)\n",
    "            return number\n",
    "meta_info_cleaned['Количество записей'] = meta_info_cleaned.apply(record_number, axis=1)"
   ]
  },
  {
   "cell_type": "code",
   "execution_count": 36,
   "id": "romance-pantyhose",
   "metadata": {},
   "outputs": [
    {
     "data": {
      "application/vnd.jupyter.widget-view+json": {
       "model_id": "4006a818022b4f26a6c648cb0f3fe80e",
       "version_major": 2,
       "version_minor": 0
      },
      "text/plain": [
       "  0%|          | 0/6283 [00:00<?, ?it/s]"
      ]
     },
     "metadata": {},
     "output_type": "display_data"
    }
   ],
   "source": [
    "#создаём колонку с периодом записи\n",
    "period_column = []\n",
    "for item in tqdm(meta_info_cleaned['Дата']):\n",
    "    #item = datetime.strptime(item, \"%Y-%m-%d\")\n",
    "    if item > datetime.strptime('1798-12-31', \"%Y-%m-%d\") and item <= datetime.strptime('1898-12-31', \"%Y-%m-%d\"):\n",
    "        period_column.append(\"Период 1\")\n",
    "    elif item > datetime.strptime('1898-12-31', \"%Y-%m-%d\") and item <= datetime.strptime('1938-12-31', \"%Y-%m-%d\"):\n",
    "        period_column.append(\"Период 2\")\n",
    "    elif item > datetime.strptime('1938-12-31', \"%Y-%m-%d\") and item <= datetime.strptime('1947-12-31', \"%Y-%m-%d\"):\n",
    "        period_column.append(\"Период 3\")\n",
    "    elif item > datetime.strptime('1947-12-31', \"%Y-%m-%d\") and item <= datetime.strptime('1979-12-31', \"%Y-%m-%d\"):\n",
    "        period_column.append(\"Период 4\")\n",
    "    elif item > datetime.strptime('1979-12-31', \"%Y-%m-%d\") and item <= datetime.strptime('2017-12-31', \"%Y-%m-%d\"):\n",
    "        period_column.append(\"Период 5\")\n",
    "    else:\n",
    "        period_column.append(\"\")"
   ]
  },
  {
   "cell_type": "code",
   "execution_count": 37,
   "id": "chief-ticket",
   "metadata": {},
   "outputs": [
    {
     "name": "stderr",
     "output_type": "stream",
     "text": [
      "/Library/Frameworks/Python.framework/Versions/3.7/lib/python3.7/site-packages/ipykernel_launcher.py:2: SettingWithCopyWarning: \n",
      "A value is trying to be set on a copy of a slice from a DataFrame.\n",
      "Try using .loc[row_indexer,col_indexer] = value instead\n",
      "\n",
      "See the caveats in the documentation: https://pandas.pydata.org/pandas-docs/stable/user_guide/indexing.html#returning-a-view-versus-a-copy\n",
      "  \n"
     ]
    }
   ],
   "source": [
    "#meta_info_cleaned[\"Количество записей\"] = numbers \n",
    "meta_info_cleaned[\"Период\"] = period_column"
   ]
  },
  {
   "cell_type": "code",
   "execution_count": 38,
   "id": "hidden-professor",
   "metadata": {},
   "outputs": [
    {
     "data": {
      "text/html": [
       "<div>\n",
       "<style scoped>\n",
       "    .dataframe tbody tr th:only-of-type {\n",
       "        vertical-align: middle;\n",
       "    }\n",
       "\n",
       "    .dataframe tbody tr th {\n",
       "        vertical-align: top;\n",
       "    }\n",
       "\n",
       "    .dataframe thead th {\n",
       "        text-align: right;\n",
       "    }\n",
       "</style>\n",
       "<table border=\"1\" class=\"dataframe\">\n",
       "  <thead>\n",
       "    <tr style=\"text-align: right;\">\n",
       "      <th></th>\n",
       "      <th>ID</th>\n",
       "      <th>Автор</th>\n",
       "      <th>ID дневника</th>\n",
       "      <th>Дата</th>\n",
       "      <th>Гендер</th>\n",
       "      <th>ID автора</th>\n",
       "      <th>Период</th>\n",
       "    </tr>\n",
       "  </thead>\n",
       "  <tbody>\n",
       "    <tr>\n",
       "      <th>0</th>\n",
       "      <td>140292</td>\n",
       "      <td>Степан Петрович Жихарев</td>\n",
       "      <td>515</td>\n",
       "      <td>1805-07-20</td>\n",
       "      <td>Мужской</td>\n",
       "      <td>507</td>\n",
       "      <td>Период 1</td>\n",
       "    </tr>\n",
       "    <tr>\n",
       "      <th>1</th>\n",
       "      <td>444870</td>\n",
       "      <td>Николай Дмитриевич Дурново</td>\n",
       "      <td>729</td>\n",
       "      <td>1812-01-22</td>\n",
       "      <td>Мужской</td>\n",
       "      <td>719</td>\n",
       "      <td>Период 1</td>\n",
       "    </tr>\n",
       "    <tr>\n",
       "      <th>2</th>\n",
       "      <td>178659</td>\n",
       "      <td>Анна Алексеевна Андро</td>\n",
       "      <td>773</td>\n",
       "      <td>1828-10-06</td>\n",
       "      <td>Женский</td>\n",
       "      <td>763</td>\n",
       "      <td>Период 1</td>\n",
       "    </tr>\n",
       "    <tr>\n",
       "      <th>3</th>\n",
       "      <td>171755</td>\n",
       "      <td>Алексей Николаевич Вульф</td>\n",
       "      <td>716</td>\n",
       "      <td>1831-02-10</td>\n",
       "      <td>Мужской</td>\n",
       "      <td>706</td>\n",
       "      <td>Период 1</td>\n",
       "    </tr>\n",
       "    <tr>\n",
       "      <th>4</th>\n",
       "      <td>442455</td>\n",
       "      <td>Дарья Фёдоровна Фикельмон</td>\n",
       "      <td>800</td>\n",
       "      <td>1831-07-05</td>\n",
       "      <td>Женский</td>\n",
       "      <td>790</td>\n",
       "      <td>Период 1</td>\n",
       "    </tr>\n",
       "    <tr>\n",
       "      <th>...</th>\n",
       "      <td>...</td>\n",
       "      <td>...</td>\n",
       "      <td>...</td>\n",
       "      <td>...</td>\n",
       "      <td>...</td>\n",
       "      <td>...</td>\n",
       "      <td>...</td>\n",
       "    </tr>\n",
       "    <tr>\n",
       "      <th>7136</th>\n",
       "      <td>435616</td>\n",
       "      <td>Юрий Михайлович Кублановский</td>\n",
       "      <td>1959</td>\n",
       "      <td>2010-03-14</td>\n",
       "      <td>Мужской</td>\n",
       "      <td>1949</td>\n",
       "      <td>Период 5</td>\n",
       "    </tr>\n",
       "    <tr>\n",
       "      <th>7137</th>\n",
       "      <td>394573</td>\n",
       "      <td>Ирина Львовна Шолохова</td>\n",
       "      <td>2348</td>\n",
       "      <td>2011-01-03</td>\n",
       "      <td>Женский</td>\n",
       "      <td>2338</td>\n",
       "      <td>Период 5</td>\n",
       "    </tr>\n",
       "    <tr>\n",
       "      <th>7139</th>\n",
       "      <td>394581</td>\n",
       "      <td>Ирина Львовна Шолохова</td>\n",
       "      <td>2348</td>\n",
       "      <td>2012-12-02</td>\n",
       "      <td>Женский</td>\n",
       "      <td>2338</td>\n",
       "      <td>Период 5</td>\n",
       "    </tr>\n",
       "    <tr>\n",
       "      <th>7140</th>\n",
       "      <td>394582</td>\n",
       "      <td>Ирина Львовна Шолохова</td>\n",
       "      <td>2348</td>\n",
       "      <td>2012-12-29</td>\n",
       "      <td>Женский</td>\n",
       "      <td>2338</td>\n",
       "      <td>Период 5</td>\n",
       "    </tr>\n",
       "    <tr>\n",
       "      <th>7142</th>\n",
       "      <td>364873</td>\n",
       "      <td>Галина Г. Ларская</td>\n",
       "      <td>991</td>\n",
       "      <td>2017-01-27</td>\n",
       "      <td>Женский</td>\n",
       "      <td>981</td>\n",
       "      <td>Период 5</td>\n",
       "    </tr>\n",
       "  </tbody>\n",
       "</table>\n",
       "<p>6283 rows × 7 columns</p>\n",
       "</div>"
      ],
      "text/plain": [
       "          ID                         Автор  ID дневника       Дата   Гендер  \\\n",
       "0     140292       Степан Петрович Жихарев          515 1805-07-20  Мужской   \n",
       "1     444870    Николай Дмитриевич Дурново          729 1812-01-22  Мужской   \n",
       "2     178659         Анна Алексеевна Андро          773 1828-10-06  Женский   \n",
       "3     171755      Алексей Николаевич Вульф          716 1831-02-10  Мужской   \n",
       "4     442455     Дарья Фёдоровна Фикельмон          800 1831-07-05  Женский   \n",
       "...      ...                           ...          ...        ...      ...   \n",
       "7136  435616  Юрий Михайлович Кублановский         1959 2010-03-14  Мужской   \n",
       "7137  394573        Ирина Львовна Шолохова         2348 2011-01-03  Женский   \n",
       "7139  394581        Ирина Львовна Шолохова         2348 2012-12-02  Женский   \n",
       "7140  394582        Ирина Львовна Шолохова         2348 2012-12-29  Женский   \n",
       "7142  364873             Галина Г. Ларская          991 2017-01-27  Женский   \n",
       "\n",
       "      ID автора    Период  \n",
       "0           507  Период 1  \n",
       "1           719  Период 1  \n",
       "2           763  Период 1  \n",
       "3           706  Период 1  \n",
       "4           790  Период 1  \n",
       "...         ...       ...  \n",
       "7136       1949  Период 5  \n",
       "7137       2338  Период 5  \n",
       "7139       2338  Период 5  \n",
       "7140       2338  Период 5  \n",
       "7142        981  Период 5  \n",
       "\n",
       "[6283 rows x 7 columns]"
      ]
     },
     "execution_count": 38,
     "metadata": {},
     "output_type": "execute_result"
    }
   ],
   "source": [
    "meta_info_cleaned"
   ]
  },
  {
   "cell_type": "code",
   "execution_count": 148,
   "id": "alike-measure",
   "metadata": {},
   "outputs": [],
   "source": [
    "meta_info_cleaned.to_csv(\"prozhito_meta.csv\", index=False)"
   ]
  },
  {
   "cell_type": "code",
   "execution_count": 40,
   "id": "printable-township",
   "metadata": {},
   "outputs": [],
   "source": [
    "#объединяем датафреймы\n",
    "full_meta_data = pd.merge(meta_info_cleaned, authors_data, left_on='ID автора', right_on='id', how='left').drop(['id', 'first_name', 'family_name', 'patronymic', 'gender', 'from_natasha', 'from_tags'], axis=1)"
   ]
  },
  {
   "cell_type": "code",
   "execution_count": 41,
   "id": "subtle-disability",
   "metadata": {},
   "outputs": [
    {
     "data": {
      "text/html": [
       "<div>\n",
       "<style scoped>\n",
       "    .dataframe tbody tr th:only-of-type {\n",
       "        vertical-align: middle;\n",
       "    }\n",
       "\n",
       "    .dataframe tbody tr th {\n",
       "        vertical-align: top;\n",
       "    }\n",
       "\n",
       "    .dataframe thead th {\n",
       "        text-align: right;\n",
       "    }\n",
       "</style>\n",
       "<table border=\"1\" class=\"dataframe\">\n",
       "  <thead>\n",
       "    <tr style=\"text-align: right;\">\n",
       "      <th></th>\n",
       "      <th>ID</th>\n",
       "      <th>Автор</th>\n",
       "      <th>ID дневника</th>\n",
       "      <th>Дата</th>\n",
       "      <th>Гендер</th>\n",
       "      <th>ID автора</th>\n",
       "      <th>Период</th>\n",
       "      <th>birth_date</th>\n",
       "      <th>death_date</th>\n",
       "      <th>edition</th>\n",
       "      <th>additional_info</th>\n",
       "      <th>info</th>\n",
       "      <th>nickname</th>\n",
       "      <th>wiki</th>\n",
       "    </tr>\n",
       "  </thead>\n",
       "  <tbody>\n",
       "    <tr>\n",
       "      <th>0</th>\n",
       "      <td>140292</td>\n",
       "      <td>Степан Петрович Жихарев</td>\n",
       "      <td>515</td>\n",
       "      <td>1805-07-20</td>\n",
       "      <td>Мужской</td>\n",
       "      <td>507</td>\n",
       "      <td>Период 1</td>\n",
       "      <td>1787-02-28</td>\n",
       "      <td>1860-09-12</td>\n",
       "      <td>**Издание:** [* Жихарев С.П.* Записки современ...</td>\n",
       "      <td>NaN</td>\n",
       "      <td>Писатель, драматург, переводчик, сенатор, теат...</td>\n",
       "      <td>NaN</td>\n",
       "      <td>https://ru.wikipedia.org/wiki/%D0%96%D0%B8%D1%...</td>\n",
       "    </tr>\n",
       "    <tr>\n",
       "      <th>1</th>\n",
       "      <td>444870</td>\n",
       "      <td>Николай Дмитриевич Дурново</td>\n",
       "      <td>729</td>\n",
       "      <td>1812-01-22</td>\n",
       "      <td>Мужской</td>\n",
       "      <td>719</td>\n",
       "      <td>Период 1</td>\n",
       "      <td>1725-01-01</td>\n",
       "      <td>1816-12-31</td>\n",
       "      <td>**Издание:** [1812 год... Военные дневники / С...</td>\n",
       "      <td>NaN</td>\n",
       "      <td>Генерал-аншеф, сенатор.</td>\n",
       "      <td>NaN</td>\n",
       "      <td>https://ru.wikipedia.org/wiki/Дурново,_Николай...</td>\n",
       "    </tr>\n",
       "    <tr>\n",
       "      <th>2</th>\n",
       "      <td>178659</td>\n",
       "      <td>Анна Алексеевна Андро</td>\n",
       "      <td>773</td>\n",
       "      <td>1828-10-06</td>\n",
       "      <td>Женский</td>\n",
       "      <td>763</td>\n",
       "      <td>Период 1</td>\n",
       "      <td>1808-08-23</td>\n",
       "      <td>1888-12-27</td>\n",
       "      <td>**Издание:** \\n* *Оленина А.А. *Дневник. Воспо...</td>\n",
       "      <td>**Критика комментариев к изданию 1999 года: **...</td>\n",
       "      <td>Возлюбленная А.С. Пушкина.</td>\n",
       "      <td>Оленина</td>\n",
       "      <td>https://ru.wikipedia.org/wiki/Оленина,_Анна_Ал...</td>\n",
       "    </tr>\n",
       "    <tr>\n",
       "      <th>3</th>\n",
       "      <td>171755</td>\n",
       "      <td>Алексей Николаевич Вульф</td>\n",
       "      <td>716</td>\n",
       "      <td>1831-02-10</td>\n",
       "      <td>Мужской</td>\n",
       "      <td>706</td>\n",
       "      <td>Период 1</td>\n",
       "      <td>1805-12-28</td>\n",
       "      <td>1881-04-29</td>\n",
       "      <td>**Издания:** \\n* *А. Н. Вульф*. Дневники : Люб...</td>\n",
       "      <td>NaN</td>\n",
       "      <td>Мемуарист. Близкий друг [А. С. Пушкина](http:/...</td>\n",
       "      <td>NaN</td>\n",
       "      <td>https://ru.wikipedia.org/wiki/Вульф,_Алексей_Н...</td>\n",
       "    </tr>\n",
       "    <tr>\n",
       "      <th>4</th>\n",
       "      <td>442455</td>\n",
       "      <td>Дарья Фёдоровна Фикельмон</td>\n",
       "      <td>800</td>\n",
       "      <td>1831-07-05</td>\n",
       "      <td>Женский</td>\n",
       "      <td>790</td>\n",
       "      <td>Период 1</td>\n",
       "      <td>1804-10-26</td>\n",
       "      <td>1863-04-22</td>\n",
       "      <td>**Издания:**\\n\\n* *Kauchtschwili N.* Il diario...</td>\n",
       "      <td>* *Гиллельсон М. И.* Пушкин в итальянском изда...</td>\n",
       "      <td>Внучка [М. И. Кутузова](http://prozhito.org/pe...</td>\n",
       "      <td>Долли</td>\n",
       "      <td>https://ru.wikipedia.org/wiki/Фикельмон,_Дарья...</td>\n",
       "    </tr>\n",
       "    <tr>\n",
       "      <th>...</th>\n",
       "      <td>...</td>\n",
       "      <td>...</td>\n",
       "      <td>...</td>\n",
       "      <td>...</td>\n",
       "      <td>...</td>\n",
       "      <td>...</td>\n",
       "      <td>...</td>\n",
       "      <td>...</td>\n",
       "      <td>...</td>\n",
       "      <td>...</td>\n",
       "      <td>...</td>\n",
       "      <td>...</td>\n",
       "      <td>...</td>\n",
       "      <td>...</td>\n",
       "    </tr>\n",
       "    <tr>\n",
       "      <th>6278</th>\n",
       "      <td>435616</td>\n",
       "      <td>Юрий Михайлович Кублановский</td>\n",
       "      <td>1959</td>\n",
       "      <td>2010-03-14</td>\n",
       "      <td>Мужской</td>\n",
       "      <td>1949</td>\n",
       "      <td>Период 5</td>\n",
       "      <td>1947-04-30</td>\n",
       "      <td>NaN</td>\n",
       "      <td>**Издание:** *Кублановский Ю.* Год за год // Н...</td>\n",
       "      <td>NaN</td>\n",
       "      <td>Поэт и эссеист, публицист, критик, искусствовед.</td>\n",
       "      <td>NaN</td>\n",
       "      <td>https://ru.wikipedia.org/wiki/Кублановский,_Юр...</td>\n",
       "    </tr>\n",
       "    <tr>\n",
       "      <th>6279</th>\n",
       "      <td>394573</td>\n",
       "      <td>Ирина Львовна Шолохова</td>\n",
       "      <td>2348</td>\n",
       "      <td>2011-01-03</td>\n",
       "      <td>Женский</td>\n",
       "      <td>2338</td>\n",
       "      <td>Период 5</td>\n",
       "      <td>1971-04-15</td>\n",
       "      <td>NaN</td>\n",
       "      <td>Мы сердечно благодарим [автора](https://vk.com...</td>\n",
       "      <td>NaN</td>\n",
       "      <td>Ведущий специалист литературной части Санкт-Пе...</td>\n",
       "      <td>NaN</td>\n",
       "      <td>NaN</td>\n",
       "    </tr>\n",
       "    <tr>\n",
       "      <th>6280</th>\n",
       "      <td>394581</td>\n",
       "      <td>Ирина Львовна Шолохова</td>\n",
       "      <td>2348</td>\n",
       "      <td>2012-12-02</td>\n",
       "      <td>Женский</td>\n",
       "      <td>2338</td>\n",
       "      <td>Период 5</td>\n",
       "      <td>1971-04-15</td>\n",
       "      <td>NaN</td>\n",
       "      <td>Мы сердечно благодарим [автора](https://vk.com...</td>\n",
       "      <td>NaN</td>\n",
       "      <td>Ведущий специалист литературной части Санкт-Пе...</td>\n",
       "      <td>NaN</td>\n",
       "      <td>NaN</td>\n",
       "    </tr>\n",
       "    <tr>\n",
       "      <th>6281</th>\n",
       "      <td>394582</td>\n",
       "      <td>Ирина Львовна Шолохова</td>\n",
       "      <td>2348</td>\n",
       "      <td>2012-12-29</td>\n",
       "      <td>Женский</td>\n",
       "      <td>2338</td>\n",
       "      <td>Период 5</td>\n",
       "      <td>1971-04-15</td>\n",
       "      <td>NaN</td>\n",
       "      <td>Мы сердечно благодарим [автора](https://vk.com...</td>\n",
       "      <td>NaN</td>\n",
       "      <td>Ведущий специалист литературной части Санкт-Пе...</td>\n",
       "      <td>NaN</td>\n",
       "      <td>NaN</td>\n",
       "    </tr>\n",
       "    <tr>\n",
       "      <th>6282</th>\n",
       "      <td>364873</td>\n",
       "      <td>Галина Г. Ларская</td>\n",
       "      <td>991</td>\n",
       "      <td>2017-01-27</td>\n",
       "      <td>Женский</td>\n",
       "      <td>981</td>\n",
       "      <td>Период 5</td>\n",
       "      <td>NaN</td>\n",
       "      <td>NaN</td>\n",
       "      <td>Текст закрыт на время согласования публикации ...</td>\n",
       "      <td>## Автобиография Галины Ларской\\n\\nРодилась я ...</td>\n",
       "      <td>Певица, художница, поэтесса, преподаватель фор...</td>\n",
       "      <td>NaN</td>\n",
       "      <td>NaN</td>\n",
       "    </tr>\n",
       "  </tbody>\n",
       "</table>\n",
       "<p>6283 rows × 14 columns</p>\n",
       "</div>"
      ],
      "text/plain": [
       "          ID                         Автор  ID дневника       Дата   Гендер  \\\n",
       "0     140292       Степан Петрович Жихарев          515 1805-07-20  Мужской   \n",
       "1     444870    Николай Дмитриевич Дурново          729 1812-01-22  Мужской   \n",
       "2     178659         Анна Алексеевна Андро          773 1828-10-06  Женский   \n",
       "3     171755      Алексей Николаевич Вульф          716 1831-02-10  Мужской   \n",
       "4     442455     Дарья Фёдоровна Фикельмон          800 1831-07-05  Женский   \n",
       "...      ...                           ...          ...        ...      ...   \n",
       "6278  435616  Юрий Михайлович Кублановский         1959 2010-03-14  Мужской   \n",
       "6279  394573        Ирина Львовна Шолохова         2348 2011-01-03  Женский   \n",
       "6280  394581        Ирина Львовна Шолохова         2348 2012-12-02  Женский   \n",
       "6281  394582        Ирина Львовна Шолохова         2348 2012-12-29  Женский   \n",
       "6282  364873             Галина Г. Ларская          991 2017-01-27  Женский   \n",
       "\n",
       "      ID автора    Период  birth_date  death_date  \\\n",
       "0           507  Период 1  1787-02-28  1860-09-12   \n",
       "1           719  Период 1  1725-01-01  1816-12-31   \n",
       "2           763  Период 1  1808-08-23  1888-12-27   \n",
       "3           706  Период 1  1805-12-28  1881-04-29   \n",
       "4           790  Период 1  1804-10-26  1863-04-22   \n",
       "...         ...       ...         ...         ...   \n",
       "6278       1949  Период 5  1947-04-30         NaN   \n",
       "6279       2338  Период 5  1971-04-15         NaN   \n",
       "6280       2338  Период 5  1971-04-15         NaN   \n",
       "6281       2338  Период 5  1971-04-15         NaN   \n",
       "6282        981  Период 5         NaN         NaN   \n",
       "\n",
       "                                                edition  \\\n",
       "0     **Издание:** [* Жихарев С.П.* Записки современ...   \n",
       "1     **Издание:** [1812 год... Военные дневники / С...   \n",
       "2     **Издание:** \\n* *Оленина А.А. *Дневник. Воспо...   \n",
       "3     **Издания:** \\n* *А. Н. Вульф*. Дневники : Люб...   \n",
       "4     **Издания:**\\n\\n* *Kauchtschwili N.* Il diario...   \n",
       "...                                                 ...   \n",
       "6278  **Издание:** *Кублановский Ю.* Год за год // Н...   \n",
       "6279  Мы сердечно благодарим [автора](https://vk.com...   \n",
       "6280  Мы сердечно благодарим [автора](https://vk.com...   \n",
       "6281  Мы сердечно благодарим [автора](https://vk.com...   \n",
       "6282  Текст закрыт на время согласования публикации ...   \n",
       "\n",
       "                                        additional_info  \\\n",
       "0                                                   NaN   \n",
       "1                                                   NaN   \n",
       "2     **Критика комментариев к изданию 1999 года: **...   \n",
       "3                                                   NaN   \n",
       "4     * *Гиллельсон М. И.* Пушкин в итальянском изда...   \n",
       "...                                                 ...   \n",
       "6278                                                NaN   \n",
       "6279                                                NaN   \n",
       "6280                                                NaN   \n",
       "6281                                                NaN   \n",
       "6282  ## Автобиография Галины Ларской\\n\\nРодилась я ...   \n",
       "\n",
       "                                                   info nickname  \\\n",
       "0     Писатель, драматург, переводчик, сенатор, теат...      NaN   \n",
       "1                               Генерал-аншеф, сенатор.      NaN   \n",
       "2                            Возлюбленная А.С. Пушкина.  Оленина   \n",
       "3     Мемуарист. Близкий друг [А. С. Пушкина](http:/...      NaN   \n",
       "4     Внучка [М. И. Кутузова](http://prozhito.org/pe...    Долли   \n",
       "...                                                 ...      ...   \n",
       "6278   Поэт и эссеист, публицист, критик, искусствовед.      NaN   \n",
       "6279  Ведущий специалист литературной части Санкт-Пе...      NaN   \n",
       "6280  Ведущий специалист литературной части Санкт-Пе...      NaN   \n",
       "6281  Ведущий специалист литературной части Санкт-Пе...      NaN   \n",
       "6282  Певица, художница, поэтесса, преподаватель фор...      NaN   \n",
       "\n",
       "                                                   wiki  \n",
       "0     https://ru.wikipedia.org/wiki/%D0%96%D0%B8%D1%...  \n",
       "1     https://ru.wikipedia.org/wiki/Дурново,_Николай...  \n",
       "2     https://ru.wikipedia.org/wiki/Оленина,_Анна_Ал...  \n",
       "3     https://ru.wikipedia.org/wiki/Вульф,_Алексей_Н...  \n",
       "4     https://ru.wikipedia.org/wiki/Фикельмон,_Дарья...  \n",
       "...                                                 ...  \n",
       "6278  https://ru.wikipedia.org/wiki/Кублановский,_Юр...  \n",
       "6279                                                NaN  \n",
       "6280                                                NaN  \n",
       "6281                                                NaN  \n",
       "6282                                                NaN  \n",
       "\n",
       "[6283 rows x 14 columns]"
      ]
     },
     "execution_count": 41,
     "metadata": {},
     "output_type": "execute_result"
    }
   ],
   "source": [
    "full_meta_data"
   ]
  },
  {
   "cell_type": "code",
   "execution_count": 42,
   "id": "dedicated-exhibit",
   "metadata": {},
   "outputs": [],
   "source": [
    "full_meta_data['birth_date'] = pd.to_datetime(full_meta_data['birth_date'], format='%Y-%m-%d')\n",
    "full_meta_data['death_date'] = pd.to_datetime(full_meta_data['death_date'], format='%Y-%m-%d', errors = 'coerce')\n",
    "full_meta_data['Дата'] = pd.to_datetime(full_meta_data['Дата'], format='(%Y, %m, %d)')"
   ]
  },
  {
   "cell_type": "code",
   "execution_count": 43,
   "id": "french-virus",
   "metadata": {},
   "outputs": [],
   "source": [
    "full_meta_data['date_year'] = full_meta_data.Дата.apply(lambda x: x.year)\n",
    "full_meta_data['birth_date_year'] = full_meta_data.birth_date.apply(lambda x: x.year)\n",
    "full_meta_data['age'] = full_meta_data['date_year'] - full_meta_data['birth_date_year']"
   ]
  },
  {
   "cell_type": "code",
   "execution_count": 44,
   "id": "active-dublin",
   "metadata": {},
   "outputs": [
    {
     "data": {
      "text/html": [
       "<div>\n",
       "<style scoped>\n",
       "    .dataframe tbody tr th:only-of-type {\n",
       "        vertical-align: middle;\n",
       "    }\n",
       "\n",
       "    .dataframe tbody tr th {\n",
       "        vertical-align: top;\n",
       "    }\n",
       "\n",
       "    .dataframe thead th {\n",
       "        text-align: right;\n",
       "    }\n",
       "</style>\n",
       "<table border=\"1\" class=\"dataframe\">\n",
       "  <thead>\n",
       "    <tr style=\"text-align: right;\">\n",
       "      <th></th>\n",
       "      <th>ID</th>\n",
       "      <th>Автор</th>\n",
       "      <th>ID дневника</th>\n",
       "      <th>Дата</th>\n",
       "      <th>Гендер</th>\n",
       "      <th>ID автора</th>\n",
       "      <th>Период</th>\n",
       "      <th>birth_date</th>\n",
       "      <th>death_date</th>\n",
       "      <th>edition</th>\n",
       "      <th>additional_info</th>\n",
       "      <th>info</th>\n",
       "      <th>nickname</th>\n",
       "      <th>wiki</th>\n",
       "      <th>age</th>\n",
       "    </tr>\n",
       "  </thead>\n",
       "  <tbody>\n",
       "    <tr>\n",
       "      <th>0</th>\n",
       "      <td>140292</td>\n",
       "      <td>Степан Петрович Жихарев</td>\n",
       "      <td>515</td>\n",
       "      <td>1805-07-20</td>\n",
       "      <td>Мужской</td>\n",
       "      <td>507</td>\n",
       "      <td>Период 1</td>\n",
       "      <td>1787-02-28</td>\n",
       "      <td>1860-09-12</td>\n",
       "      <td>**Издание:** [* Жихарев С.П.* Записки современ...</td>\n",
       "      <td>NaN</td>\n",
       "      <td>Писатель, драматург, переводчик, сенатор, теат...</td>\n",
       "      <td>NaN</td>\n",
       "      <td>https://ru.wikipedia.org/wiki/%D0%96%D0%B8%D1%...</td>\n",
       "      <td>18.0</td>\n",
       "    </tr>\n",
       "    <tr>\n",
       "      <th>1</th>\n",
       "      <td>444870</td>\n",
       "      <td>Николай Дмитриевич Дурново</td>\n",
       "      <td>729</td>\n",
       "      <td>1812-01-22</td>\n",
       "      <td>Мужской</td>\n",
       "      <td>719</td>\n",
       "      <td>Период 1</td>\n",
       "      <td>1725-01-01</td>\n",
       "      <td>1816-12-31</td>\n",
       "      <td>**Издание:** [1812 год... Военные дневники / С...</td>\n",
       "      <td>NaN</td>\n",
       "      <td>Генерал-аншеф, сенатор.</td>\n",
       "      <td>NaN</td>\n",
       "      <td>https://ru.wikipedia.org/wiki/Дурново,_Николай...</td>\n",
       "      <td>87.0</td>\n",
       "    </tr>\n",
       "    <tr>\n",
       "      <th>2</th>\n",
       "      <td>178659</td>\n",
       "      <td>Анна Алексеевна Андро</td>\n",
       "      <td>773</td>\n",
       "      <td>1828-10-06</td>\n",
       "      <td>Женский</td>\n",
       "      <td>763</td>\n",
       "      <td>Период 1</td>\n",
       "      <td>1808-08-23</td>\n",
       "      <td>1888-12-27</td>\n",
       "      <td>**Издание:** \\n* *Оленина А.А. *Дневник. Воспо...</td>\n",
       "      <td>**Критика комментариев к изданию 1999 года: **...</td>\n",
       "      <td>Возлюбленная А.С. Пушкина.</td>\n",
       "      <td>Оленина</td>\n",
       "      <td>https://ru.wikipedia.org/wiki/Оленина,_Анна_Ал...</td>\n",
       "      <td>20.0</td>\n",
       "    </tr>\n",
       "    <tr>\n",
       "      <th>3</th>\n",
       "      <td>171755</td>\n",
       "      <td>Алексей Николаевич Вульф</td>\n",
       "      <td>716</td>\n",
       "      <td>1831-02-10</td>\n",
       "      <td>Мужской</td>\n",
       "      <td>706</td>\n",
       "      <td>Период 1</td>\n",
       "      <td>1805-12-28</td>\n",
       "      <td>1881-04-29</td>\n",
       "      <td>**Издания:** \\n* *А. Н. Вульф*. Дневники : Люб...</td>\n",
       "      <td>NaN</td>\n",
       "      <td>Мемуарист. Близкий друг [А. С. Пушкина](http:/...</td>\n",
       "      <td>NaN</td>\n",
       "      <td>https://ru.wikipedia.org/wiki/Вульф,_Алексей_Н...</td>\n",
       "      <td>26.0</td>\n",
       "    </tr>\n",
       "    <tr>\n",
       "      <th>4</th>\n",
       "      <td>442455</td>\n",
       "      <td>Дарья Фёдоровна Фикельмон</td>\n",
       "      <td>800</td>\n",
       "      <td>1831-07-05</td>\n",
       "      <td>Женский</td>\n",
       "      <td>790</td>\n",
       "      <td>Период 1</td>\n",
       "      <td>1804-10-26</td>\n",
       "      <td>1863-04-22</td>\n",
       "      <td>**Издания:**\\n\\n* *Kauchtschwili N.* Il diario...</td>\n",
       "      <td>* *Гиллельсон М. И.* Пушкин в итальянском изда...</td>\n",
       "      <td>Внучка [М. И. Кутузова](http://prozhito.org/pe...</td>\n",
       "      <td>Долли</td>\n",
       "      <td>https://ru.wikipedia.org/wiki/Фикельмон,_Дарья...</td>\n",
       "      <td>27.0</td>\n",
       "    </tr>\n",
       "    <tr>\n",
       "      <th>...</th>\n",
       "      <td>...</td>\n",
       "      <td>...</td>\n",
       "      <td>...</td>\n",
       "      <td>...</td>\n",
       "      <td>...</td>\n",
       "      <td>...</td>\n",
       "      <td>...</td>\n",
       "      <td>...</td>\n",
       "      <td>...</td>\n",
       "      <td>...</td>\n",
       "      <td>...</td>\n",
       "      <td>...</td>\n",
       "      <td>...</td>\n",
       "      <td>...</td>\n",
       "      <td>...</td>\n",
       "    </tr>\n",
       "    <tr>\n",
       "      <th>6278</th>\n",
       "      <td>435616</td>\n",
       "      <td>Юрий Михайлович Кублановский</td>\n",
       "      <td>1959</td>\n",
       "      <td>2010-03-14</td>\n",
       "      <td>Мужской</td>\n",
       "      <td>1949</td>\n",
       "      <td>Период 5</td>\n",
       "      <td>1947-04-30</td>\n",
       "      <td>NaT</td>\n",
       "      <td>**Издание:** *Кублановский Ю.* Год за год // Н...</td>\n",
       "      <td>NaN</td>\n",
       "      <td>Поэт и эссеист, публицист, критик, искусствовед.</td>\n",
       "      <td>NaN</td>\n",
       "      <td>https://ru.wikipedia.org/wiki/Кублановский,_Юр...</td>\n",
       "      <td>63.0</td>\n",
       "    </tr>\n",
       "    <tr>\n",
       "      <th>6279</th>\n",
       "      <td>394573</td>\n",
       "      <td>Ирина Львовна Шолохова</td>\n",
       "      <td>2348</td>\n",
       "      <td>2011-01-03</td>\n",
       "      <td>Женский</td>\n",
       "      <td>2338</td>\n",
       "      <td>Период 5</td>\n",
       "      <td>1971-04-15</td>\n",
       "      <td>NaT</td>\n",
       "      <td>Мы сердечно благодарим [автора](https://vk.com...</td>\n",
       "      <td>NaN</td>\n",
       "      <td>Ведущий специалист литературной части Санкт-Пе...</td>\n",
       "      <td>NaN</td>\n",
       "      <td>NaN</td>\n",
       "      <td>40.0</td>\n",
       "    </tr>\n",
       "    <tr>\n",
       "      <th>6280</th>\n",
       "      <td>394581</td>\n",
       "      <td>Ирина Львовна Шолохова</td>\n",
       "      <td>2348</td>\n",
       "      <td>2012-12-02</td>\n",
       "      <td>Женский</td>\n",
       "      <td>2338</td>\n",
       "      <td>Период 5</td>\n",
       "      <td>1971-04-15</td>\n",
       "      <td>NaT</td>\n",
       "      <td>Мы сердечно благодарим [автора](https://vk.com...</td>\n",
       "      <td>NaN</td>\n",
       "      <td>Ведущий специалист литературной части Санкт-Пе...</td>\n",
       "      <td>NaN</td>\n",
       "      <td>NaN</td>\n",
       "      <td>41.0</td>\n",
       "    </tr>\n",
       "    <tr>\n",
       "      <th>6281</th>\n",
       "      <td>394582</td>\n",
       "      <td>Ирина Львовна Шолохова</td>\n",
       "      <td>2348</td>\n",
       "      <td>2012-12-29</td>\n",
       "      <td>Женский</td>\n",
       "      <td>2338</td>\n",
       "      <td>Период 5</td>\n",
       "      <td>1971-04-15</td>\n",
       "      <td>NaT</td>\n",
       "      <td>Мы сердечно благодарим [автора](https://vk.com...</td>\n",
       "      <td>NaN</td>\n",
       "      <td>Ведущий специалист литературной части Санкт-Пе...</td>\n",
       "      <td>NaN</td>\n",
       "      <td>NaN</td>\n",
       "      <td>41.0</td>\n",
       "    </tr>\n",
       "    <tr>\n",
       "      <th>6282</th>\n",
       "      <td>364873</td>\n",
       "      <td>Галина Г. Ларская</td>\n",
       "      <td>991</td>\n",
       "      <td>2017-01-27</td>\n",
       "      <td>Женский</td>\n",
       "      <td>981</td>\n",
       "      <td>Период 5</td>\n",
       "      <td>NaT</td>\n",
       "      <td>NaT</td>\n",
       "      <td>Текст закрыт на время согласования публикации ...</td>\n",
       "      <td>## Автобиография Галины Ларской\\n\\nРодилась я ...</td>\n",
       "      <td>Певица, художница, поэтесса, преподаватель фор...</td>\n",
       "      <td>NaN</td>\n",
       "      <td>NaN</td>\n",
       "      <td>NaN</td>\n",
       "    </tr>\n",
       "  </tbody>\n",
       "</table>\n",
       "<p>6283 rows × 15 columns</p>\n",
       "</div>"
      ],
      "text/plain": [
       "          ID                         Автор  ID дневника       Дата   Гендер  \\\n",
       "0     140292       Степан Петрович Жихарев          515 1805-07-20  Мужской   \n",
       "1     444870    Николай Дмитриевич Дурново          729 1812-01-22  Мужской   \n",
       "2     178659         Анна Алексеевна Андро          773 1828-10-06  Женский   \n",
       "3     171755      Алексей Николаевич Вульф          716 1831-02-10  Мужской   \n",
       "4     442455     Дарья Фёдоровна Фикельмон          800 1831-07-05  Женский   \n",
       "...      ...                           ...          ...        ...      ...   \n",
       "6278  435616  Юрий Михайлович Кублановский         1959 2010-03-14  Мужской   \n",
       "6279  394573        Ирина Львовна Шолохова         2348 2011-01-03  Женский   \n",
       "6280  394581        Ирина Львовна Шолохова         2348 2012-12-02  Женский   \n",
       "6281  394582        Ирина Львовна Шолохова         2348 2012-12-29  Женский   \n",
       "6282  364873             Галина Г. Ларская          991 2017-01-27  Женский   \n",
       "\n",
       "      ID автора    Период birth_date death_date  \\\n",
       "0           507  Период 1 1787-02-28 1860-09-12   \n",
       "1           719  Период 1 1725-01-01 1816-12-31   \n",
       "2           763  Период 1 1808-08-23 1888-12-27   \n",
       "3           706  Период 1 1805-12-28 1881-04-29   \n",
       "4           790  Период 1 1804-10-26 1863-04-22   \n",
       "...         ...       ...        ...        ...   \n",
       "6278       1949  Период 5 1947-04-30        NaT   \n",
       "6279       2338  Период 5 1971-04-15        NaT   \n",
       "6280       2338  Период 5 1971-04-15        NaT   \n",
       "6281       2338  Период 5 1971-04-15        NaT   \n",
       "6282        981  Период 5        NaT        NaT   \n",
       "\n",
       "                                                edition  \\\n",
       "0     **Издание:** [* Жихарев С.П.* Записки современ...   \n",
       "1     **Издание:** [1812 год... Военные дневники / С...   \n",
       "2     **Издание:** \\n* *Оленина А.А. *Дневник. Воспо...   \n",
       "3     **Издания:** \\n* *А. Н. Вульф*. Дневники : Люб...   \n",
       "4     **Издания:**\\n\\n* *Kauchtschwili N.* Il diario...   \n",
       "...                                                 ...   \n",
       "6278  **Издание:** *Кублановский Ю.* Год за год // Н...   \n",
       "6279  Мы сердечно благодарим [автора](https://vk.com...   \n",
       "6280  Мы сердечно благодарим [автора](https://vk.com...   \n",
       "6281  Мы сердечно благодарим [автора](https://vk.com...   \n",
       "6282  Текст закрыт на время согласования публикации ...   \n",
       "\n",
       "                                        additional_info  \\\n",
       "0                                                   NaN   \n",
       "1                                                   NaN   \n",
       "2     **Критика комментариев к изданию 1999 года: **...   \n",
       "3                                                   NaN   \n",
       "4     * *Гиллельсон М. И.* Пушкин в итальянском изда...   \n",
       "...                                                 ...   \n",
       "6278                                                NaN   \n",
       "6279                                                NaN   \n",
       "6280                                                NaN   \n",
       "6281                                                NaN   \n",
       "6282  ## Автобиография Галины Ларской\\n\\nРодилась я ...   \n",
       "\n",
       "                                                   info nickname  \\\n",
       "0     Писатель, драматург, переводчик, сенатор, теат...      NaN   \n",
       "1                               Генерал-аншеф, сенатор.      NaN   \n",
       "2                            Возлюбленная А.С. Пушкина.  Оленина   \n",
       "3     Мемуарист. Близкий друг [А. С. Пушкина](http:/...      NaN   \n",
       "4     Внучка [М. И. Кутузова](http://prozhito.org/pe...    Долли   \n",
       "...                                                 ...      ...   \n",
       "6278   Поэт и эссеист, публицист, критик, искусствовед.      NaN   \n",
       "6279  Ведущий специалист литературной части Санкт-Пе...      NaN   \n",
       "6280  Ведущий специалист литературной части Санкт-Пе...      NaN   \n",
       "6281  Ведущий специалист литературной части Санкт-Пе...      NaN   \n",
       "6282  Певица, художница, поэтесса, преподаватель фор...      NaN   \n",
       "\n",
       "                                                   wiki   age  \n",
       "0     https://ru.wikipedia.org/wiki/%D0%96%D0%B8%D1%...  18.0  \n",
       "1     https://ru.wikipedia.org/wiki/Дурново,_Николай...  87.0  \n",
       "2     https://ru.wikipedia.org/wiki/Оленина,_Анна_Ал...  20.0  \n",
       "3     https://ru.wikipedia.org/wiki/Вульф,_Алексей_Н...  26.0  \n",
       "4     https://ru.wikipedia.org/wiki/Фикельмон,_Дарья...  27.0  \n",
       "...                                                 ...   ...  \n",
       "6278  https://ru.wikipedia.org/wiki/Кублановский,_Юр...  63.0  \n",
       "6279                                                NaN  40.0  \n",
       "6280                                                NaN  41.0  \n",
       "6281                                                NaN  41.0  \n",
       "6282                                                NaN   NaN  \n",
       "\n",
       "[6283 rows x 15 columns]"
      ]
     },
     "execution_count": 44,
     "metadata": {},
     "output_type": "execute_result"
    }
   ],
   "source": [
    "full_meta_data.drop(['date_year', 'birth_date_year'], axis=1)"
   ]
  },
  {
   "cell_type": "code",
   "execution_count": 44,
   "id": "postal-arcade",
   "metadata": {},
   "outputs": [
    {
     "name": "stdout",
     "output_type": "stream",
     "text": [
      "440 1705 1486 1283 894\n"
     ]
    }
   ],
   "source": [
    "#считаем возрастные группы\n",
    "counter1 = 0\n",
    "counter2 = 0\n",
    "counter3 = 0\n",
    "counter4 = 0\n",
    "counter5 = 0\n",
    "for item in full_meta_data[\"age\"]:\n",
    "    if item <= 16:\n",
    "        counter1 += 1\n",
    "for item in full_meta_data[\"age\"]:\n",
    "    if item > 16 and item <= 26: \n",
    "        counter2 += 1\n",
    "for item in full_meta_data[\"age\"]:\n",
    "    if item > 26 and item <= 41: \n",
    "        counter3 += 1\n",
    "for item in full_meta_data[\"age\"]:\n",
    "    if item > 41 and item <= 60: \n",
    "        counter4 += 1\n",
    "for item in full_meta_data[\"age\"]:\n",
    "    if item > 60: \n",
    "        counter5 += 1\n",
    "print(counter1, counter2, counter3, counter4, counter5)"
   ]
  },
  {
   "cell_type": "code",
   "execution_count": 407,
   "id": "adjacent-sight",
   "metadata": {},
   "outputs": [],
   "source": [
    "#meta_info_cleaned[meta_info_cleaned['Автор'].str.contains(\"#78 Евгений Львович Шварц\")]"
   ]
  },
  {
   "cell_type": "code",
   "execution_count": 45,
   "id": "occupied-jones",
   "metadata": {},
   "outputs": [],
   "source": [
    "#Объединяем авторов в один датафрейм, чтобы посчитать среднее эмоциональное\n",
    "\n",
    "authors4_corpus = meta_4.Автор.value_counts()\n",
    "authors4_corpus = pd.DataFrame(authors4_corpus)\n",
    "authors4_corpus = authors4_corpus.reset_index()\n",
    "authors4_corpus.columns = [\"Author\", \"2\"]"
   ]
  },
  {
   "cell_type": "code",
   "execution_count": 47,
   "id": "simple-benefit",
   "metadata": {},
   "outputs": [
    {
     "data": {
      "text/plain": [
       "138"
      ]
     },
     "execution_count": 47,
     "metadata": {},
     "output_type": "execute_result"
    }
   ],
   "source": [
    "len(authors4_corpus[\"Author\"])"
   ]
  },
  {
   "cell_type": "code",
   "execution_count": 48,
   "id": "legislative-berkeley",
   "metadata": {},
   "outputs": [
    {
     "ename": "NameError",
     "evalue": "name 'authors_4' is not defined",
     "output_type": "error",
     "traceback": [
      "\u001b[0;31m---------------------------------------------------------------------------\u001b[0m",
      "\u001b[0;31mNameError\u001b[0m                                 Traceback (most recent call last)",
      "\u001b[0;32m<ipython-input-48-e0580472cbc0>\u001b[0m in \u001b[0;36m<module>\u001b[0;34m\u001b[0m\n\u001b[0;32m----> 1\u001b[0;31m \u001b[0mauthors4_full\u001b[0m \u001b[0;34m=\u001b[0m \u001b[0mpd\u001b[0m\u001b[0;34m.\u001b[0m\u001b[0mmerge\u001b[0m\u001b[0;34m(\u001b[0m\u001b[0mauthors_4\u001b[0m\u001b[0;34m,\u001b[0m \u001b[0mauthors4_corpus\u001b[0m\u001b[0;34m,\u001b[0m \u001b[0mon\u001b[0m\u001b[0;34m=\u001b[0m\u001b[0;34m\"Author\"\u001b[0m\u001b[0;34m)\u001b[0m\u001b[0;34m\u001b[0m\u001b[0;34m\u001b[0m\u001b[0m\n\u001b[0m",
      "\u001b[0;31mNameError\u001b[0m: name 'authors_4' is not defined"
     ]
    }
   ],
   "source": [
    "authors4_full = pd.merge(authors_4, authors4_corpus, on=\"Author\")"
   ]
  },
  {
   "cell_type": "code",
   "execution_count": 494,
   "id": "conditional-captain",
   "metadata": {},
   "outputs": [
    {
     "data": {
      "text/plain": [
       "0.054407282287850876"
      ]
     },
     "execution_count": 494,
     "metadata": {},
     "output_type": "execute_result"
    }
   ],
   "source": [
    "new_column = authors4_full[\"2\"] / authors4_full[\"1\"]\n",
    "authors4_full[\"3\"] = new_column\n",
    "authors4_full[\"3\"].mean()"
   ]
  },
  {
   "cell_type": "code",
   "execution_count": 500,
   "id": "effective-lesson",
   "metadata": {},
   "outputs": [],
   "source": [
    "#То же самое с 3 периодом\n",
    "authors3_corpus = meta_3.Автор.value_counts()\n",
    "authors3_corpus = pd.DataFrame(authors3_corpus)\n",
    "authors3_corpus = authors3_corpus.reset_index()\n",
    "authors3_corpus.columns = [\"Author\", \"2\"]"
   ]
  },
  {
   "cell_type": "code",
   "execution_count": 501,
   "id": "australian-universal",
   "metadata": {},
   "outputs": [],
   "source": [
    "authors3_full = pd.merge(authors_3, authors3_corpus, on=\"Author\")"
   ]
  },
  {
   "cell_type": "code",
   "execution_count": 502,
   "id": "excellent-nerve",
   "metadata": {},
   "outputs": [
    {
     "data": {
      "text/plain": [
       "0.05215995940294942"
      ]
     },
     "execution_count": 502,
     "metadata": {},
     "output_type": "execute_result"
    }
   ],
   "source": [
    "new_column = authors3_full[\"2\"] / authors3_full[\"1\"]\n",
    "authors3_full[\"3\"] = new_column\n",
    "authors3_full[\"3\"].mean()"
   ]
  },
  {
   "cell_type": "code",
   "execution_count": 512,
   "id": "specified-catalyst",
   "metadata": {},
   "outputs": [],
   "source": [
    "#Второй период\n",
    "authors2_corpus = meta_2.Автор.value_counts()\n",
    "authors2_corpus = pd.DataFrame(authors2_corpus)\n",
    "authors2_corpus = authors2_corpus.reset_index()\n",
    "authors2_corpus.columns = [\"Author\", \"2\"]"
   ]
  },
  {
   "cell_type": "code",
   "execution_count": 513,
   "id": "pressed-alarm",
   "metadata": {},
   "outputs": [
    {
     "data": {
      "text/plain": [
       "0.042479003633874815"
      ]
     },
     "execution_count": 513,
     "metadata": {},
     "output_type": "execute_result"
    }
   ],
   "source": [
    "authors2_full = pd.merge(authors_2, authors2_corpus, on=\"Author\")\n",
    "new_column = authors2_full[\"2\"] / authors2_full[\"1\"]\n",
    "authors3_full[\"3\"] = new_column\n",
    "authors3_full[\"3\"].mean()"
   ]
  },
  {
   "cell_type": "code",
   "execution_count": 514,
   "id": "graduate-sacramento",
   "metadata": {},
   "outputs": [],
   "source": [
    "#Первый период\n",
    "authors1_corpus = meta_1.Автор.value_counts()\n",
    "authors1_corpus = pd.DataFrame(authors1_corpus)\n",
    "authors1_corpus = authors1_corpus.reset_index()\n",
    "authors1_corpus.columns = [\"Author\", \"2\"]"
   ]
  },
  {
   "cell_type": "code",
   "execution_count": 515,
   "id": "further-relevance",
   "metadata": {},
   "outputs": [
    {
     "data": {
      "text/plain": [
       "0.06629841037155669"
      ]
     },
     "execution_count": 515,
     "metadata": {},
     "output_type": "execute_result"
    }
   ],
   "source": [
    "authors1_full = pd.merge(authors_1, authors1_corpus, on=\"Author\")\n",
    "new_column = authors1_full[\"2\"] / authors1_full[\"1\"]\n",
    "authors1_full[\"3\"] = new_column\n",
    "authors1_full[\"3\"].mean()"
   ]
  },
  {
   "cell_type": "code",
   "execution_count": 527,
   "id": "exclusive-comparison",
   "metadata": {},
   "outputs": [],
   "source": [
    "#Пятый период\n",
    "authors5_corpus = meta_5.Автор.value_counts()\n",
    "authors5_corpus = pd.DataFrame(authors5_corpus)\n",
    "authors5_corpus = authors5_corpus.reset_index()\n",
    "authors5_corpus.columns = [\"Author\", \"2\"]"
   ]
  },
  {
   "cell_type": "code",
   "execution_count": 528,
   "id": "appointed-fisher",
   "metadata": {},
   "outputs": [
    {
     "data": {
      "text/plain": [
       "0.04132390911505409"
      ]
     },
     "execution_count": 528,
     "metadata": {},
     "output_type": "execute_result"
    }
   ],
   "source": [
    "authors5_full = pd.merge(authors_5, authors5_corpus, on=\"Author\")\n",
    "new_column = authors5_full[\"2\"] / authors5_full[\"1\"]\n",
    "authors5_full[\"3\"] = new_column\n",
    "authors5_full[\"3\"].mean()"
   ]
  },
  {
   "cell_type": "code",
   "execution_count": 47,
   "id": "persistent-cursor",
   "metadata": {},
   "outputs": [
    {
     "data": {
      "text/plain": [
       "#981 Галина Г. Ларская                  280\n",
       "#491 Елена Викторовна Полюшкина          93\n",
       "#102 Валерий Сергеевич Золотухин         69\n",
       "#878 Сергей Николаевич Есин              56\n",
       "#621 Владимир Александрович Бессонов     35\n",
       "                                       ... \n",
       "#1794 Семён Борисович Ласкин              1\n",
       "#1309 Игорь  Холодяков                    1\n",
       "#1248 Катарина  Венцль                    1\n",
       "#531 Лев Абрамович Остерман               1\n",
       "#3381 Руслан Геннадьевич Сидоров          1\n",
       "Name: Автор, Length: 98, dtype: int64"
      ]
     },
     "execution_count": 47,
     "metadata": {},
     "output_type": "execute_result"
    }
   ],
   "source": [
    "#meta_4[\"Автор\"].count()\n",
    "#pd.set_option(\"display.max_rows\", 20, \"display.max_columns\", None)\n",
    "meta_5.Автор.value_counts()"
   ]
  },
  {
   "cell_type": "code",
   "execution_count": 91,
   "id": "undefined-absolute",
   "metadata": {},
   "outputs": [
    {
     "data": {
      "text/plain": [
       "Гендер\n",
       "            12\n",
       "Женский    243\n",
       "Мужской    444\n",
       "Name: Автор, dtype: int64"
      ]
     },
     "execution_count": 91,
     "metadata": {},
     "output_type": "execute_result"
    }
   ],
   "source": [
    "#считаем, сколько женщин и мужчин в корпусе\n",
    "#meta_info_cleaned.groupby('Автор')('Гендер').value_counts()\n",
    "meta_info_cleaned.groupby('Гендер')['Автор'].nunique()"
   ]
  },
  {
   "cell_type": "code",
   "execution_count": 53,
   "id": "otherwise-auction",
   "metadata": {},
   "outputs": [
    {
     "ename": "KeyError",
     "evalue": "'Гендер'",
     "output_type": "error",
     "traceback": [
      "\u001b[0;31m---------------------------------------------------------------------------\u001b[0m",
      "\u001b[0;31mKeyError\u001b[0m                                  Traceback (most recent call last)",
      "\u001b[0;32m/Library/Frameworks/Python.framework/Versions/3.7/lib/python3.7/site-packages/pandas/core/indexes/base.py\u001b[0m in \u001b[0;36mget_loc\u001b[0;34m(self, key, method, tolerance)\u001b[0m\n\u001b[1;32m   3079\u001b[0m             \u001b[0;32mtry\u001b[0m\u001b[0;34m:\u001b[0m\u001b[0;34m\u001b[0m\u001b[0;34m\u001b[0m\u001b[0m\n\u001b[0;32m-> 3080\u001b[0;31m                 \u001b[0;32mreturn\u001b[0m \u001b[0mself\u001b[0m\u001b[0;34m.\u001b[0m\u001b[0m_engine\u001b[0m\u001b[0;34m.\u001b[0m\u001b[0mget_loc\u001b[0m\u001b[0;34m(\u001b[0m\u001b[0mcasted_key\u001b[0m\u001b[0;34m)\u001b[0m\u001b[0;34m\u001b[0m\u001b[0;34m\u001b[0m\u001b[0m\n\u001b[0m\u001b[1;32m   3081\u001b[0m             \u001b[0;32mexcept\u001b[0m \u001b[0mKeyError\u001b[0m \u001b[0;32mas\u001b[0m \u001b[0merr\u001b[0m\u001b[0;34m:\u001b[0m\u001b[0;34m\u001b[0m\u001b[0;34m\u001b[0m\u001b[0m\n",
      "\u001b[0;32mpandas/_libs/index.pyx\u001b[0m in \u001b[0;36mpandas._libs.index.IndexEngine.get_loc\u001b[0;34m()\u001b[0m\n",
      "\u001b[0;32mpandas/_libs/index.pyx\u001b[0m in \u001b[0;36mpandas._libs.index.IndexEngine.get_loc\u001b[0;34m()\u001b[0m\n",
      "\u001b[0;32mpandas/_libs/hashtable_class_helper.pxi\u001b[0m in \u001b[0;36mpandas._libs.hashtable.PyObjectHashTable.get_item\u001b[0;34m()\u001b[0m\n",
      "\u001b[0;32mpandas/_libs/hashtable_class_helper.pxi\u001b[0m in \u001b[0;36mpandas._libs.hashtable.PyObjectHashTable.get_item\u001b[0;34m()\u001b[0m\n",
      "\u001b[0;31mKeyError\u001b[0m: 'Гендер'",
      "\nThe above exception was the direct cause of the following exception:\n",
      "\u001b[0;31mKeyError\u001b[0m                                  Traceback (most recent call last)",
      "\u001b[0;32m<ipython-input-53-c96ef1a8f547>\u001b[0m in \u001b[0;36m<module>\u001b[0;34m\u001b[0m\n\u001b[1;32m      2\u001b[0m \u001b[0mfemale_ids\u001b[0m \u001b[0;34m=\u001b[0m \u001b[0;34m[\u001b[0m\u001b[0;34m]\u001b[0m\u001b[0;34m\u001b[0m\u001b[0;34m\u001b[0m\u001b[0m\n\u001b[1;32m      3\u001b[0m \u001b[0mmale_ids\u001b[0m \u001b[0;34m=\u001b[0m \u001b[0;34m[\u001b[0m\u001b[0;34m]\u001b[0m\u001b[0;34m\u001b[0m\u001b[0;34m\u001b[0m\u001b[0m\n\u001b[0;32m----> 4\u001b[0;31m \u001b[0;32mfor\u001b[0m \u001b[0mitem\u001b[0m \u001b[0;32min\u001b[0m \u001b[0mmeta_info_cleaned\u001b[0m\u001b[0;34m[\u001b[0m\u001b[0mmeta_info_cleaned\u001b[0m\u001b[0;34m[\u001b[0m\u001b[0;34m'Гендер'\u001b[0m\u001b[0;34m]\u001b[0m\u001b[0;34m.\u001b[0m\u001b[0mstr\u001b[0m\u001b[0;34m.\u001b[0m\u001b[0mmatch\u001b[0m\u001b[0;34m(\u001b[0m\u001b[0;34m'Женский'\u001b[0m\u001b[0;34m)\u001b[0m\u001b[0;34m]\u001b[0m\u001b[0;34m[\u001b[0m\u001b[0;34m\"ID\"\u001b[0m\u001b[0;34m]\u001b[0m\u001b[0;34m:\u001b[0m\u001b[0;34m\u001b[0m\u001b[0;34m\u001b[0m\u001b[0m\n\u001b[0m\u001b[1;32m      5\u001b[0m     \u001b[0mfemale_ids\u001b[0m\u001b[0;34m.\u001b[0m\u001b[0mappend\u001b[0m\u001b[0;34m(\u001b[0m\u001b[0mitem\u001b[0m\u001b[0;34m)\u001b[0m\u001b[0;34m\u001b[0m\u001b[0;34m\u001b[0m\u001b[0m\n\u001b[1;32m      6\u001b[0m \u001b[0;32mfor\u001b[0m \u001b[0mitem\u001b[0m \u001b[0;32min\u001b[0m \u001b[0mmeta_info_cleaned\u001b[0m\u001b[0;34m[\u001b[0m\u001b[0mmeta_info_cleaned\u001b[0m\u001b[0;34m[\u001b[0m\u001b[0;34m'Гендер'\u001b[0m\u001b[0;34m]\u001b[0m\u001b[0;34m.\u001b[0m\u001b[0mstr\u001b[0m\u001b[0;34m.\u001b[0m\u001b[0mmatch\u001b[0m\u001b[0;34m(\u001b[0m\u001b[0;34m'Мужской'\u001b[0m\u001b[0;34m)\u001b[0m\u001b[0;34m]\u001b[0m\u001b[0;34m[\u001b[0m\u001b[0;34m\"ID\"\u001b[0m\u001b[0;34m]\u001b[0m\u001b[0;34m:\u001b[0m\u001b[0;34m\u001b[0m\u001b[0;34m\u001b[0m\u001b[0m\n",
      "\u001b[0;32m/Library/Frameworks/Python.framework/Versions/3.7/lib/python3.7/site-packages/pandas/core/frame.py\u001b[0m in \u001b[0;36m__getitem__\u001b[0;34m(self, key)\u001b[0m\n\u001b[1;32m   3022\u001b[0m             \u001b[0;32mif\u001b[0m \u001b[0mself\u001b[0m\u001b[0;34m.\u001b[0m\u001b[0mcolumns\u001b[0m\u001b[0;34m.\u001b[0m\u001b[0mnlevels\u001b[0m \u001b[0;34m>\u001b[0m \u001b[0;36m1\u001b[0m\u001b[0;34m:\u001b[0m\u001b[0;34m\u001b[0m\u001b[0;34m\u001b[0m\u001b[0m\n\u001b[1;32m   3023\u001b[0m                 \u001b[0;32mreturn\u001b[0m \u001b[0mself\u001b[0m\u001b[0;34m.\u001b[0m\u001b[0m_getitem_multilevel\u001b[0m\u001b[0;34m(\u001b[0m\u001b[0mkey\u001b[0m\u001b[0;34m)\u001b[0m\u001b[0;34m\u001b[0m\u001b[0;34m\u001b[0m\u001b[0m\n\u001b[0;32m-> 3024\u001b[0;31m             \u001b[0mindexer\u001b[0m \u001b[0;34m=\u001b[0m \u001b[0mself\u001b[0m\u001b[0;34m.\u001b[0m\u001b[0mcolumns\u001b[0m\u001b[0;34m.\u001b[0m\u001b[0mget_loc\u001b[0m\u001b[0;34m(\u001b[0m\u001b[0mkey\u001b[0m\u001b[0;34m)\u001b[0m\u001b[0;34m\u001b[0m\u001b[0;34m\u001b[0m\u001b[0m\n\u001b[0m\u001b[1;32m   3025\u001b[0m             \u001b[0;32mif\u001b[0m \u001b[0mis_integer\u001b[0m\u001b[0;34m(\u001b[0m\u001b[0mindexer\u001b[0m\u001b[0;34m)\u001b[0m\u001b[0;34m:\u001b[0m\u001b[0;34m\u001b[0m\u001b[0;34m\u001b[0m\u001b[0m\n\u001b[1;32m   3026\u001b[0m                 \u001b[0mindexer\u001b[0m \u001b[0;34m=\u001b[0m \u001b[0;34m[\u001b[0m\u001b[0mindexer\u001b[0m\u001b[0;34m]\u001b[0m\u001b[0;34m\u001b[0m\u001b[0;34m\u001b[0m\u001b[0m\n",
      "\u001b[0;32m/Library/Frameworks/Python.framework/Versions/3.7/lib/python3.7/site-packages/pandas/core/indexes/base.py\u001b[0m in \u001b[0;36mget_loc\u001b[0;34m(self, key, method, tolerance)\u001b[0m\n\u001b[1;32m   3080\u001b[0m                 \u001b[0;32mreturn\u001b[0m \u001b[0mself\u001b[0m\u001b[0;34m.\u001b[0m\u001b[0m_engine\u001b[0m\u001b[0;34m.\u001b[0m\u001b[0mget_loc\u001b[0m\u001b[0;34m(\u001b[0m\u001b[0mcasted_key\u001b[0m\u001b[0;34m)\u001b[0m\u001b[0;34m\u001b[0m\u001b[0;34m\u001b[0m\u001b[0m\n\u001b[1;32m   3081\u001b[0m             \u001b[0;32mexcept\u001b[0m \u001b[0mKeyError\u001b[0m \u001b[0;32mas\u001b[0m \u001b[0merr\u001b[0m\u001b[0;34m:\u001b[0m\u001b[0;34m\u001b[0m\u001b[0;34m\u001b[0m\u001b[0m\n\u001b[0;32m-> 3082\u001b[0;31m                 \u001b[0;32mraise\u001b[0m \u001b[0mKeyError\u001b[0m\u001b[0;34m(\u001b[0m\u001b[0mkey\u001b[0m\u001b[0;34m)\u001b[0m \u001b[0;32mfrom\u001b[0m \u001b[0merr\u001b[0m\u001b[0;34m\u001b[0m\u001b[0;34m\u001b[0m\u001b[0m\n\u001b[0m\u001b[1;32m   3083\u001b[0m \u001b[0;34m\u001b[0m\u001b[0m\n\u001b[1;32m   3084\u001b[0m         \u001b[0;32mif\u001b[0m \u001b[0mtolerance\u001b[0m \u001b[0;32mis\u001b[0m \u001b[0;32mnot\u001b[0m \u001b[0;32mNone\u001b[0m\u001b[0;34m:\u001b[0m\u001b[0;34m\u001b[0m\u001b[0;34m\u001b[0m\u001b[0m\n",
      "\u001b[0;31mKeyError\u001b[0m: 'Гендер'"
     ]
    }
   ],
   "source": [
    "#выбираем ID записей женщин и мужчин\n",
    "female_ids = []\n",
    "male_ids = []\n",
    "for item in meta_info_cleaned[meta_info_cleaned['Гендер'].str.match('Женский')][\"ID\"]:\n",
    "    female_ids.append(item)\n",
    "for item in meta_info_cleaned[meta_info_cleaned['Гендер'].str.match('Мужской')][\"ID\"]:\n",
    "    male_ids.append(item)"
   ]
  },
  {
   "cell_type": "code",
   "execution_count": 641,
   "id": "planned-bermuda",
   "metadata": {},
   "outputs": [
    {
     "data": {
      "text/plain": [
       "2618"
      ]
     },
     "execution_count": 641,
     "metadata": {},
     "output_type": "execute_result"
    }
   ],
   "source": [
    "#len(female_ids)"
   ]
  },
  {
   "cell_type": "code",
   "execution_count": 655,
   "id": "excellent-region",
   "metadata": {},
   "outputs": [],
   "source": [
    "#собираем записи женщин и мужчин в списки\n",
    "female_records = []\n",
    "male_records = []\n",
    "for item in diaries_dic.items():\n",
    "    for x in female_ids:\n",
    "        if item[0] == x:\n",
    "            female_records.append(item[1])\n",
    "       #female_records.append(item)\n",
    "    for x in male_ids:\n",
    "        if item[0] == x:\n",
    "            male_records.append(item[1])      "
   ]
  },
  {
   "cell_type": "code",
   "execution_count": 656,
   "id": "worst-madison",
   "metadata": {},
   "outputs": [
    {
     "data": {
      "text/plain": [
       "2618"
      ]
     },
     "execution_count": 656,
     "metadata": {},
     "output_type": "execute_result"
    }
   ],
   "source": [
    "len(female_records)"
   ]
  },
  {
   "cell_type": "code",
   "execution_count": 84,
   "id": "robust-shoot",
   "metadata": {},
   "outputs": [],
   "source": [
    "#выгружаем записи в txt\n",
    "with open('female_records.txt', 'w') as f:\n",
    "    for item in female_records:\n",
    "        f.write(\"%s\\n\" % item)"
   ]
  },
  {
   "cell_type": "code",
   "execution_count": 85,
   "id": "third-crest",
   "metadata": {},
   "outputs": [],
   "source": [
    "with open('male_records.txt', 'w') as m:\n",
    "    for item in male_records:\n",
    "        m.write(\"%s\\n\" % item)"
   ]
  },
  {
   "cell_type": "code",
   "execution_count": 390,
   "id": "broken-effect",
   "metadata": {},
   "outputs": [],
   "source": [
    "#не получилось\n",
    "fem = []\n",
    "for item in diaries_dic.items():\n",
    "    if item[0] == (x for x in female_ids):\n",
    "        fem.append(item)"
   ]
  },
  {
   "cell_type": "code",
   "execution_count": 188,
   "id": "pleased-arlington",
   "metadata": {},
   "outputs": [],
   "source": [
    "#лемматизируем корпус\n",
    "for key, value in diaries_dic.items():\n",
    "    diaries_dic[key] = preprocess_text(diaries_dic[key])"
   ]
  },
  {
   "cell_type": "code",
   "execution_count": 280,
   "id": "realistic-tuition",
   "metadata": {},
   "outputs": [],
   "source": [
    "#diaries_dic"
   ]
  },
  {
   "cell_type": "code",
   "execution_count": 25,
   "id": "eleven-latitude",
   "metadata": {},
   "outputs": [],
   "source": [
    "def flatten_list(_2d_list):\n",
    "    '''\n",
    "    берет вложенный список, возвращает плоский\n",
    "    '''\n",
    "    flat_list = []\n",
    "    # Iterate through the outer list\n",
    "    for element in _2d_list:\n",
    "        if type(element) is list:\n",
    "            # If the element is of type list, iterate through the sublist\n",
    "            for item in element:\n",
    "                flat_list.append(item)\n",
    "        else:\n",
    "            flat_list.append(element)\n",
    "    return flat_list"
   ]
  },
  {
   "cell_type": "code",
   "execution_count": 42,
   "id": "outdoor-leeds",
   "metadata": {},
   "outputs": [],
   "source": [
    "period1_records_flat = flatten_list(period1_records)"
   ]
  },
  {
   "cell_type": "code",
   "execution_count": 455,
   "id": "partial-spending",
   "metadata": {},
   "outputs": [],
   "source": [
    "#экспериментальный чанк \n",
    "period1_tokenized_records = []\n",
    "for item in period1_records_flat:\n",
    "    items = word_tokenize(item.lower())\n",
    "    period1_tokenized_records.append(items)"
   ]
  },
  {
   "cell_type": "code",
   "execution_count": 46,
   "id": "subtle-philip",
   "metadata": {},
   "outputs": [],
   "source": [
    "all_records = []\n",
    "for item in diaries_dic.items():\n",
    "    all_records.append(item[1])"
   ]
  },
  {
   "cell_type": "code",
   "execution_count": 47,
   "id": "threaded-carroll",
   "metadata": {},
   "outputs": [],
   "source": [
    "all_records_flat = flatten_list(all_records)"
   ]
  },
  {
   "cell_type": "code",
   "execution_count": 48,
   "id": "convenient-neutral",
   "metadata": {},
   "outputs": [],
   "source": [
    "#period1_records_2\n",
    "periods_lemmatized = []\n",
    "for item in all_records_flat:\n",
    "    periods_lemmatized.append(preprocess_text(item))"
   ]
  },
  {
   "cell_type": "code",
   "execution_count": 43,
   "id": "spread-shark",
   "metadata": {},
   "outputs": [],
   "source": [
    "period1_lemmatized = []\n",
    "for item in period1_records_flat:\n",
    "    period1_lemmatized.append(preprocess_text(item))"
   ]
  },
  {
   "cell_type": "code",
   "execution_count": 54,
   "id": "australian-springfield",
   "metadata": {},
   "outputs": [],
   "source": [
    "names_list = [\"степанович\", \"алик\", \"люся\", \"ир\", \"екатерина\", \"лёня\", \"люба\", \"герман\", \"митя\", \"давид\", \"вячеслав\", \"алла\", \"галя\", \"эфроса\", \"витя\", \"губенко\", \"лина\", \"наталья\", \"мишка\", \"валерий\", \"дима\", \"лариса\", \"аня\", \"ляла\", \"татьяна\", \"аксюша\", \"юзеф\", \"дмитрий\", \"алексей\", \"дмитриевич\", \"петров\", \"петя\", \"андрей\", \"гриша\", \"боря\", \"николаев\", \"аля\", \"елена\", \"сереж\", \"григориевич\", \"василий\", \"сомовый\", \"павлик\", \"шура\", \"наташа\", \"катя\", \"александрович\", \"иван\", \"юрий\", \"надя\", \"владимир\", \"лида\", \"виктор\", \"иванов\", \"ирина\", \"валя\", \"борис\", \"анович\", \"мария\", \"чертков\", \"сергеевич\", \"ольга\", \"лёля\", \"фёдорович\", \"григорий\", \"михаилович\", \"николаевич\", \"анна\", \"пётр\", \"петрович\", \"васильевич\", \"ляля\", \"иванович\", \"зина\", \"володя\", \"никита\", \"лена\", \"коля\", \"николай\", \"маруся\", \"лиза\", \"олег\", \"вася\", \"игорь\", \"георгий\", \"львович\", \"марина\", \"софья\", \"андреевич\", \"александр\", \"цветаев\", \"владимирович\", \"таня\", \"анна\", \"василиевич\", \"петрович\", \"сергей\", \"василиевич\", \"саша\", \"павлович\", \"маша\", \"миша\", \"константин\", \"пётр\", \"павел\", \"лена\", \"лев\", \"серёжа\", \"оля\", \"яковлевич\", \"нина\", \"шурик\", \"женя\", \"соня\", \"семён\", \"костя\", \"миша\"]\n",
    "for item in periods_lemmatized:\n",
    "    for i in range(len(item)):\n",
    "        if item[i] in names_list:\n",
    "            item[i] = \"<имя>\"\n",
    "        if re.search(\"[а-я]\\.\", str(item[i])):\n",
    "            item[i] = \"<имя>\"\n",
    "    #item = [element for element in item if re.search(\"^(?!(?:[а-я]\\.)$).*$\", str(element))]\n",
    "    #if re.search(\"[а-я]\\.\", records_lemmatized[i])\n",
    "\n",
    "#period1_lemmatized = [item for item in period1_lemmatized if re.search(\"^(?!(?:[а-я]\\.)$).*$\", str(item))]"
   ]
  },
  {
   "cell_type": "code",
   "execution_count": 659,
   "id": "distributed-likelihood",
   "metadata": {},
   "outputs": [],
   "source": [
    "#period1_lemmatized_flat = flatten_list(period1_lemmatized)"
   ]
  },
  {
   "cell_type": "code",
   "execution_count": 255,
   "id": "linear-grant",
   "metadata": {},
   "outputs": [],
   "source": [
    "#period1_corrected"
   ]
  },
  {
   "cell_type": "code",
   "execution_count": 44,
   "id": "incredible-loading",
   "metadata": {},
   "outputs": [],
   "source": [
    "period1_corrected = [\" \".join(x) for x in period1_lemmatized]"
   ]
  },
  {
   "cell_type": "code",
   "execution_count": 49,
   "id": "invalid-killing",
   "metadata": {},
   "outputs": [],
   "source": [
    "def get_topics(model, feature_names, no_top_words):\n",
    "    '''\n",
    "    берет модель топик-моделинга, слова и количество топиков, возврашает темы\n",
    "    '''\n",
    "    with open('topics_period1_lemm.txt', 'w', encoding='utf-8') as f:\n",
    "        for topic_idx, topic in enumerate(model.components_):\n",
    "            print(f\"Тема {topic_idx+1}:\", file=f)\n",
    "            topic_words = \", \".join([feature_names[i] for i in topic.argsort()[:-no_top_words - 1:-1]])\n",
    "            print(topic_words, file=f)"
   ]
  },
  {
   "cell_type": "code",
   "execution_count": 50,
   "id": "charming-conservative",
   "metadata": {},
   "outputs": [],
   "source": [
    "new_stoplist = stoplist2+names_list"
   ]
  },
  {
   "cell_type": "code",
   "execution_count": 51,
   "id": "liberal-scoop",
   "metadata": {},
   "outputs": [],
   "source": [
    "def main():\n",
    "    tfidf_vectorizer = TfidfVectorizer(max_df=0.1, min_df=10, ngram_range=(2, 2), stop_words=new_stoplist)\n",
    "    tfidf = tfidf_vectorizer.fit_transform(period1_corrected)\n",
    "    tfidf_feature_names = tfidf_vectorizer.get_feature_names()\n",
    "    nmf = NMF(n_components=20, random_state=42, alpha=.1, l1_ratio=.5, init='nndsvd', max_iter=100000).fit(tfidf)\n",
    "    get_topics(nmf, tfidf_feature_names, 10)"
   ]
  },
  {
   "cell_type": "code",
   "execution_count": 52,
   "id": "continental-vatican",
   "metadata": {},
   "outputs": [
    {
     "name": "stderr",
     "output_type": "stream",
     "text": [
      "/Library/Frameworks/Python.framework/Versions/3.7/lib/python3.7/site-packages/sklearn/feature_extraction/text.py:391: UserWarning: Your stop_words may be inconsistent with your preprocessing. Tokenizing the stop words generated tokens ['франц'] not in stop_words.\n",
      "  'stop_words.' % sorted(inconsistent))\n"
     ]
    }
   ],
   "source": [
    "if __name__ == '__main__':\n",
    "    main()"
   ]
  },
  {
   "cell_type": "code",
   "execution_count": 105,
   "id": "healthy-rainbow",
   "metadata": {},
   "outputs": [
    {
     "name": "stderr",
     "output_type": "stream",
     "text": [
      "/Library/Frameworks/Python.framework/Versions/3.7/lib/python3.7/site-packages/gensim/similarities/__init__.py:15: UserWarning: The gensim.similarities.levenshtein submodule is disabled, because the optional Levenshtein package <https://pypi.org/project/python-Levenshtein/> is unavailable. Install Levenhstein (e.g. `pip install python-Levenshtein`) to suppress this warning.\n",
      "  warnings.warn(msg)\n"
     ]
    }
   ],
   "source": [
    "import gensim"
   ]
  },
  {
   "cell_type": "code",
   "execution_count": 106,
   "id": "seasonal-survivor",
   "metadata": {},
   "outputs": [],
   "source": [
    "#чанк для вытаскивания фраз\n",
    "phrases = gensim.models.Phrases(period2_lemmatized)\n",
    "p = gensim.models.phrases.Phraser(phrases)\n",
    "ngrammed_texts = p [period2_lemmatized]"
   ]
  },
  {
   "cell_type": "code",
   "execution_count": 107,
   "id": "exotic-joseph",
   "metadata": {},
   "outputs": [],
   "source": [
    "gensim_dictionary_for_TM = gensim.corpora.Dictionary(period1_lemmatized)"
   ]
  },
  {
   "cell_type": "code",
   "execution_count": 133,
   "id": "convertible-russell",
   "metadata": {},
   "outputs": [],
   "source": [
    "gensim_dictionary_for_TM.filter_extremes(no_above=0.9, no_below=20)"
   ]
  },
  {
   "cell_type": "code",
   "execution_count": 134,
   "id": "higher-multimedia",
   "metadata": {},
   "outputs": [],
   "source": [
    "gensim_dictionary_for_TM.compactify()"
   ]
  },
  {
   "cell_type": "code",
   "execution_count": 135,
   "id": "atomic-asthma",
   "metadata": {},
   "outputs": [],
   "source": [
    "corpus = [gensim_dictionary_for_TM.doc2bow(text) for text in period1_lemmatized]"
   ]
  },
  {
   "cell_type": "code",
   "execution_count": 136,
   "id": "grave-wellington",
   "metadata": {},
   "outputs": [],
   "source": [
    "lda = gensim.models.LdaMulticore(corpus, \n",
    "                                 num_topics = 20, # число топиков\n",
    "                                 id2word=gensim_dictionary_for_TM, \n",
    "                                 passes=5)"
   ]
  },
  {
   "cell_type": "code",
   "execution_count": 137,
   "id": "deluxe-immunology",
   "metadata": {},
   "outputs": [
    {
     "data": {
      "text/plain": [
       "[(0,\n",
       "  '0.026*\"решиться\" + 0.025*\"театр\" + 0.023*\"понравиться\" + 0.022*\"весёлый\" + 0.021*\"испытывать\" + 0.019*\"мужчина\" + 0.018*\"дверь\" + 0.017*\"проводить\" + 0.017*\"постоянно\" + 0.016*\"улица\"'),\n",
       " (1,\n",
       "  '0.028*\"небо\" + 0.026*\"природа\" + 0.025*\"солнце\" + 0.022*\"искусство\" + 0.019*\"деревня\" + 0.017*\"слава\" + 0.015*\"красота\" + 0.014*\"грудь\" + 0.014*\"окно\" + 0.014*\"работать\"'),\n",
       " (2,\n",
       "  '0.048*\"е.\" + 0.022*\"совесть\" + 0.019*\"свобода\" + 0.019*\"добро\" + 0.018*\"свободный\" + 0.017*\"сознание\" + 0.015*\"духовный\" + 0.014*\"мальчик\" + 0.012*\"относиться\" + 0.011*\"век\"'),\n",
       " (3,\n",
       "  '0.086*\"государь\" + 0.023*\"россия\" + 0.022*\"надобный\" + 0.018*\"роль\" + 0.014*\"действовать\" + 0.012*\"божий\" + 0.011*\"достойный\" + 0.011*\"исполнить\" + 0.011*\"власть\" + 0.011*\"богатый\"'),\n",
       " (4,\n",
       "  '0.028*\"существо\" + 0.026*\"тяжело\" + 0.024*\"маша\" + 0.019*\"заставлять\" + 0.019*\"виноватый\" + 0.016*\"мама\" + 0.016*\"искусство\" + 0.014*\"страдать\" + 0.013*\"вперёд\" + 0.012*\"странный\"'),\n",
       " (5,\n",
       "  '0.118*\"папа\" + 0.069*\"мама\" + 0.049*\"маша\" + 0.016*\"замуж\" + 0.012*\"весело\" + 0.012*\"кто-нибудь\" + 0.010*\"решить\" + 0.010*\"вторник\" + 0.010*\"ясный\" + 0.010*\"ездить\"'),\n",
       " (6,\n",
       "  '0.018*\"зависеть\" + 0.017*\"способный\" + 0.017*\"почувствовать\" + 0.016*\"представлять\" + 0.014*\"достоинство\" + 0.014*\"прочесть\" + 0.014*\"речь\" + 0.013*\"далёкий\" + 0.013*\"интересный\" + 0.013*\"каков\"'),\n",
       " (7,\n",
       "  '0.036*\"тело\" + 0.035*\"молитва\" + 0.020*\"страшный\" + 0.015*\"белый\" + 0.014*\"светлый\" + 0.014*\"небо\" + 0.014*\"держать\" + 0.014*\"семья\" + 0.013*\"чёрный\" + 0.013*\"молиться\"'),\n",
       " (8,\n",
       "  '0.024*\"лошадь\" + 0.021*\"понедельник\" + 0.019*\"смеяться\" + 0.016*\"суббота\" + 0.016*\"прошлое\" + 0.015*\"грудь\" + 0.014*\"грустно\" + 0.014*\"число\" + 0.013*\"четверг\" + 0.011*\"взгляд\"'),\n",
       " (9,\n",
       "  '0.063*\"тётя\" + 0.029*\"стих\" + 0.021*\"отправиться\" + 0.018*\"суббота\" + 0.014*\"роман\" + 0.013*\"обедать\" + 0.013*\"пить\" + 0.013*\"вода\" + 0.012*\"кончить\" + 0.011*\"прислать\"'),\n",
       " (10,\n",
       "  '0.057*\"страдание\" + 0.032*\"болезнь\" + 0.032*\"страдать\" + 0.029*\"несчастный\" + 0.023*\"испытывать\" + 0.023*\"лошадь\" + 0.021*\"делаться\" + 0.019*\"никак\" + 0.018*\"наслаждение\" + 0.018*\"сожаление\"'),\n",
       " (11,\n",
       "  '0.027*\"дружба\" + 0.013*\"разговаривать\" + 0.012*\"четверг\" + 0.011*\"уверять\" + 0.011*\"пустой\" + 0.010*\"познакомиться\" + 0.010*\"глупый\" + 0.010*\"чтение\" + 0.010*\"господин\" + 0.010*\"обстоятельство\"'),\n",
       " (12,\n",
       "  '0.029*\"средство\" + 0.016*\"власть\" + 0.016*\"существовать\" + 0.011*\"поставить\" + 0.011*\"успех\" + 0.011*\"польза\" + 0.011*\"иной\" + 0.011*\"совесть\" + 0.010*\"стол\" + 0.010*\"потерять\"'),\n",
       " (13,\n",
       "  '0.033*\"а.\" + 0.030*\"роман\" + 0.026*\"глупость\" + 0.024*\"влюбиться\" + 0.019*\"жениться\" + 0.017*\"роль\" + 0.017*\"волос\" + 0.016*\"семья\" + 0.015*\"глупый\" + 0.013*\"мама\"'),\n",
       " (14,\n",
       "  '0.068*\"картина\" + 0.029*\"духовный\" + 0.028*\"пётр\" + 0.019*\"граф\" + 0.018*\"божий\" + 0.017*\"петь\" + 0.014*\"представлять\" + 0.013*\"назвать\" + 0.013*\"интересный\" + 0.012*\"являться\"'),\n",
       " (15,\n",
       "  '0.047*\"язык\" + 0.018*\"девушка\" + 0.015*\"страх\" + 0.014*\"учитель\" + 0.014*\"обещать\" + 0.014*\"гораздо\" + 0.013*\"лето\" + 0.013*\"рассказ\" + 0.011*\"пить\" + 0.011*\"мучить\"'),\n",
       " (16,\n",
       "  '0.092*\"а.\" + 0.016*\"будущее\" + 0.016*\"тело\" + 0.015*\"решить\" + 0.015*\"достойный\" + 0.013*\"е.\" + 0.011*\"начаться\" + 0.011*\"прийтись\" + 0.011*\"убить\" + 0.010*\"надобный\"'),\n",
       " (17,\n",
       "  '0.041*\"вода\" + 0.017*\"стол\" + 0.014*\"число\" + 0.013*\"лошадь\" + 0.013*\"поставить\" + 0.013*\"возвратиться\" + 0.011*\"половина\" + 0.011*\"покой\" + 0.011*\"малый\" + 0.011*\"устроить\"'),\n",
       " (18,\n",
       "  '0.044*\"театр\" + 0.031*\"сцена\" + 0.025*\"роль\" + 0.021*\"воспоминание\" + 0.019*\"служба\" + 0.017*\"жениться\" + 0.011*\"успех\" + 0.011*\"тысяча\" + 0.011*\"прочесть\" + 0.011*\"страдать\"'),\n",
       " (19,\n",
       "  '0.047*\"николаевич\" + 0.021*\"пить\" + 0.019*\"чай\" + 0.016*\"сон\" + 0.016*\"болезнь\" + 0.016*\"дочь\" + 0.014*\"николай\" + 0.013*\"бумага\" + 0.013*\"господин\" + 0.011*\"вернуться\"')]"
      ]
     },
     "execution_count": 137,
     "metadata": {},
     "output_type": "execute_result"
    }
   ],
   "source": [
    "lda.print_topics()"
   ]
  },
  {
   "cell_type": "code",
   "execution_count": 141,
   "id": "editorial-knife",
   "metadata": {},
   "outputs": [],
   "source": [
    "#запишем записи нужного периода в словарь чтобы не потерять ID\n",
    "period3_dict = {}\n",
    "for key, value in diaries_dic.items():\n",
    "    for item in period3_ids:\n",
    "        if key == item:\n",
    "            period3_dict[key]= value"
   ]
  },
  {
   "cell_type": "code",
   "execution_count": 170,
   "id": "champion-connecticut",
   "metadata": {},
   "outputs": [
    {
     "data": {
      "text/html": [
       "<div>\n",
       "<style scoped>\n",
       "    .dataframe tbody tr th:only-of-type {\n",
       "        vertical-align: middle;\n",
       "    }\n",
       "\n",
       "    .dataframe tbody tr th {\n",
       "        vertical-align: top;\n",
       "    }\n",
       "\n",
       "    .dataframe thead th {\n",
       "        text-align: right;\n",
       "    }\n",
       "</style>\n",
       "<table border=\"1\" class=\"dataframe\">\n",
       "  <thead>\n",
       "    <tr style=\"text-align: right;\">\n",
       "      <th></th>\n",
       "      <th>ID</th>\n",
       "      <th>Автор</th>\n",
       "      <th>ID дневника</th>\n",
       "      <th>Дата</th>\n",
       "    </tr>\n",
       "  </thead>\n",
       "  <tbody>\n",
       "    <tr>\n",
       "      <th>6082</th>\n",
       "      <td>455569</td>\n",
       "      <td>#2281 Лидия Ильинична Яшина</td>\n",
       "      <td>2291</td>\n",
       "      <td>1939-01-08</td>\n",
       "    </tr>\n",
       "  </tbody>\n",
       "</table>\n",
       "</div>"
      ],
      "text/plain": [
       "          ID                        Автор  ID дневника       Дата\n",
       "6082  455569  #2281 Лидия Ильинична Яшина         2291 1939-01-08"
      ]
     },
     "execution_count": 170,
     "metadata": {},
     "output_type": "execute_result"
    }
   ],
   "source": [
    "#пополняем данные записей с паттернами\n",
    "meta_info_cleaned[(meta_info_cleaned['ID'] == 455569)]"
   ]
  },
  {
   "cell_type": "code",
   "execution_count": 100,
   "id": "retained-spelling",
   "metadata": {},
   "outputs": [
    {
     "ename": "SyntaxError",
     "evalue": "invalid syntax (<ipython-input-100-3a268e7a8a20>, line 3)",
     "output_type": "error",
     "traceback": [
      "\u001b[0;36m  File \u001b[0;32m\"<ipython-input-100-3a268e7a8a20>\"\u001b[0;36m, line \u001b[0;32m3\u001b[0m\n\u001b[0;31m    meta_info_cleaned[meta_info_cleaned['Автор'].str.contains('Ларская', regex=True)][\"ID\"]:\u001b[0m\n\u001b[0m                                                                                            ^\u001b[0m\n\u001b[0;31mSyntaxError\u001b[0m\u001b[0;31m:\u001b[0m invalid syntax\n"
     ]
    }
   ],
   "source": [
    "#ищем записи Галины Ларской\n",
    "larskaya_ids = []\n",
    "meta_info_cleaned[meta_info_cleaned['Автор'].str.contains('Ларская', regex=True)][\"ID\"]:\n",
    "  #  larskaya_ids.append(item)"
   ]
  },
  {
   "cell_type": "code",
   "execution_count": 110,
   "id": "fourth-placement",
   "metadata": {},
   "outputs": [],
   "source": [
    "for item in meta_info_cleaned[meta_info_cleaned['ID дневника'] == 991][\"ID\"]:\n",
    "    larskaya_ids.append(item)"
   ]
  },
  {
   "cell_type": "code",
   "execution_count": 113,
   "id": "tight-plant",
   "metadata": {},
   "outputs": [],
   "source": [
    "larskaya_records = []\n",
    "for item in diaries_dic.items():\n",
    "    for x in larskaya_ids:\n",
    "        if item[0] == x:\n",
    "            larskaya_records.append(item)\n",
    "       #female_records.append(item)  "
   ]
  },
  {
   "cell_type": "code",
   "execution_count": 115,
   "id": "occupied-constitutional",
   "metadata": {},
   "outputs": [],
   "source": [
    "#larskaya_records"
   ]
  },
  {
   "cell_type": "code",
   "execution_count": 167,
   "id": "weekly-breakdown",
   "metadata": {},
   "outputs": [
    {
     "name": "stdout",
     "output_type": "stream",
     "text": [
      "(256806, ['Сегодня большое событие в Алькиной жизни, поэтому и вообще в нашей. Она отдала свою «девичью честь». . . М. Бернесу. Это поразило нас всех, как молния, как гром среди ясного неба, как не знаю что. Такой далекий, знакомый нам только по кино. И вдруг. . . А дело вот в чем. Она случайно узнала, что приехал Бернес к нам в Ленинград. Это она тщательно скрыла от нас. Позвонила ему в гостиницу, пришла к нему (по его приглашению) и в первый же день. . . отдалась. Причем она в него даже не влюблена как следует. Просто он чудный, и она поступила согласно своим воззрениям на этот счет: наслаждение, удовлетворение чувственности — прежде всего в этой жизни, т. к. последняя весьма кратковременна. Кроме того, ей в 20 лет надоело быть девушкой. Не знаю, но сейчас, когда я все это знаю, мне как-то не по себе. Не понравился мне в данном случае Алькин цинизм, более того — он мне чужд и глубоко неприятен. Я не считаю себя чистой, целомудренной и т. д. , я тоже считаю, что любовь к мужчине — главное для женщины (кроме горячо любимого ее дела). Но именно любовь или сильное увлечение оправдывает все, всякое поведение. Вот Мася, Соня, Тамара, Маня Т. уже не девушки. Но они сильно любили того человека, которому отдавались. А Алька? Ей нравился М. Б. по кинокартинам. Но так ей нравились довольно многие. Она его не видела ни разу в жизни и пошла к нему, готовая на все. Это все еще ничего. Но в первое же посещение. . . в первый же день. Эго последнее обстоятельство меня особенно смущает. Ну хорошо, он такой. Но нельзя отрицать, да и Аля сама говорит, что очень многое зависело от нее самой.    \\nКак бы то ни было, но Аля уже женщина, ее страхи остаться старой девой уже сошли на нет. Так, нашего полку убывает. Остались Эмма, Лида, Вера и я. Кто следующий? Очень интересно. Мне кажется, что это очень страшно и я бы струсила, даже если бы это был любимый человек или тот, которому стоит приложить мельчайшие усилия, чтобы быть любимым. Посмотрим, если бог приведет! Алька дала нам с Эммой и Лидой год сроку, т. к. она на год старше нас. Эго все очень смешно.    \\nОчень много времени отнимают занятия в институте. Личной жизни у меня в институте нет никакой. Никто мне там не нравится. Я увлекаюсь больше профессорско-преподавательским составом. Это прежде всего С. С. Мокульский, обаяние которого очень понятно для меня. Я не влюблена в него, конечно, как некоторые другие (Персидская, Семенова), но все обаяние его личности, его ум и остроумие, энергия, неутомимость, скромность, знания — это делает его неотразимым. Говорят, да я сама вижу, вернее видела, что он ко мне неплохо относится. Это скорее в прошлом, сейчас не замечаю что-то. Елена Львовна Финкельштейн<com id=\"149806450614333\"/> — умная, очаровательная, непосредственная женщина, доцент. Она ведет у нас семинары, на которых особенно остро чувствуешь, что тебя учат творить, а не только знать что-то. Мне кажется, что она очень хорошо понимает людей и кто на что способен. Она зорко присматривается к каждому из нас, и ее не проведешь. У меня столько самонадеянности, что я люблю таких людей больше всего на свете. Она презирает ограниченных, тех, которые зря учатся у нас, но всегда с ними тактична и мягка по-человечески, хотя строго отзывается об их работах. Она меня страшно интересует. У нее замечательный голос, очень сильный, грудной, звонкий. Сегодня она уехала вместе с Мокульским в Москву. 4 дня я их не увижу. Если бы они знали, до чего я им симпатизирую. Только когда они здесь, я чувствую какую-то уверенность в себе, чувствую, что не зря учусь.    \\nУ нас еще много интересных людей (Левбарг<com id=\"149806450614334\"/>, Португалова), но я их меньше знаю.    \\n8-го я делала доклад на семинаре по западному театру. Сценический анализ «Действа о Теофиле». Я очень волновалась, но все обошлось лучше, чем я ожидала. Я не думала, что он понравится. В частности, Елене Львовне, но ей, кажется, больше всех и понравилось. Я, действительно, вложила туда немножечко своей душонки, я много думала о нем. Но все-таки мне-то заметно, как много там недостатков. Надо очень много работать. В этом году у меня еще два доклада: по русскому театру и по западному. Боюсь, что не осилить, а хотелось бы сделать хорошо.    \\nВообще меня все больше втягивает институтская учебная обстановка. К амурным делам я как-то охладела. Совсем не «охочусь». Б. А. не видела вечность, а остальных и подавно. С мальчишками дело обстоит так: приезжал Вадим, но я старалась с ним не видеться, чтобы не мешать Але. Мне хотелось его видеть, откровенно говоря, но не настолько, чтобы ссориться из-за этого с Алей. Нет, он мне не нравится. Да и я ему не ахти.    \\nЮра<com id=\"149806450614335\"/> — нехороший мальчик, суматошный и не очень умный (хотя и неплохой поэт, стихи у него есть весьма интересные). Он самонадеян, постоянно хвастается, особенно своими прошлыми победами. Терпеть я этого не могу! Кроме того, он уверен, что я от него без ума. Я повела политику обдирания и веду ее до сих пор. Чувство его ко мне максимально неглубоко и поверхностно, а может быть, и совсем отсутствует, т. к. моя политика мне блистательно удается, и он отвечает мне тем же, хотя более по-детски. С Аликом примерно такая же картина, с той разницей, что он умнее, и я совсем не знаю, как он ко мне относится. С Яшей переписываюсь. Вот в чьем чувстве я пока не сомневаюсь. Сколько я ни обдирала его — все ничего. Это хоть приятно, если даже счастья не приносит. А Юра? Фу! Да, в университете бываю часто, вижу Витьку Красникова. Он, по-видимому, поглупел и утратил свои поэтические наклонности. Он ко мне уже абсолютно ничего положительного не    \\nпитает, наоборот, собирается мне мстить за то, что я не отвечала в школе на его чувства. Ну разве можно назвать его душу поэтической? Разве, когда любишь, можно затаивать злобу на любимого человека за то, что он не может тебе ответить, и таить ее тогда, когда уже все прошло? Особенно если речь идет о любви в школе!    \\nЗанимаюсь в Публичной библиотеке. На днях мне один молодой человек написал записку по поводу моих глаз, ему кажется, что глядя, в мои глаза, нельзя соврать. Ошибается! Он считает, что мне подошло бы быть следователем «вроде Шерлок Холмса или советского Шейнина<com id=\"149806450614336\"/>». Грустно и глупо. Какой противный молодой человек. Я, прочитав записку, пересела от него. Мне даже было очень мало смешно.    \\nЗавтра в Филармонии «Реквием» Берлиоза. Постараюсь попасть. Дирижирует Мравинский<com id=\"149806450614337\"/>. Слушая «Пер Гюнта», я влюбилась в него, в его мастерство и в музыку Грига. Музыка к «Пер Гюнту»! Слушать и слушать ее можно. Невозможно не плакать. Чувство и мысль соединяются в этой музыке, тонкой и необычайно мощной, противоречивой и цельной одновременно. Ибсен не нашел достойного воплощения. Артоболевский<com id=\"149806450614338\"/> не показывает всю глубину Пер Гюнта, который думал, что был самим собой всю жизнь, а на самом деле он был собой всегда доволен. Я слушала еще раньше Глумова<com id=\"149806450614339\"/> по радио, гораздо тоньше и глубже, да и мастерства в чтении стихов больше. Не подходит Ибсен Артоболевскому, все-таки далек Пер Гюнт от Онегина. А Мравинский — чародей — и всё. Хочу завтра попасть. Денег нет, по все равно. Употреблю все усилия.'])\n",
      "(213512, ['Четверг. Я не могу спокойно лежать. Рано утром я встала и решила пойти к одной немке, у которой когда-то работала. Со слезами на глазах рассказала я ей о своем горе и попросила, чтобы она дала мне для Юзефа яблок.    \\nКак было обидно, приходится унижаться, просить человека, у которого совсем нет сердца. С заплаканными глазами я шла по городу. Я ничего не замечала. Я зашла к Эрне, поделиться с ней своим горем. Эрна, ее сестра и мать сочувствуют моему горю. Но сами живут впроголодь, продуктов не хватает. Городское население уже голодает. У каждого свое горе. Эрна помогает чем может. Она приготовила жирный бульон.    \\nОт Фрица давно уже нет писем.    \\nВера, узнав, что я вчера вечером была у Юзефа, забеспокоилась. Она всегда боялась, что в один прекрасный день мы помиримся. Вместе с другими девушками она также решила пойти к Юзефу. Вера любит его и тоже очень переживает.    \\nЯ видела, выходя от Эрны, как Вера с двумя девушками отправилась в лагерь. Чувство ревности охватило меня в первый раз за все время нашей разлуки. Как я могла допустить, чтобы любимого человека полюбила другая девушка! Но еще не все потеряно. Надо бороться за свое счастье. Ведь Юзеф любил меня. Мы только не поняли друг друга. Он очень переживал мою измену, только не показывал виду. Теперь, когда он начал забывать меня, я вдруг опять напомнила о себе. Что он теперь будет думать?    \\nИтак, я собрала яблок, сахара, бульона и после обеда отправилась одна навестить больного Юзефа. На сердце после слез стало как-то спокойно. Появилась уверенность и решимость. Этого дня я никогда не забуду. Сколько пришлось пережить, может быть, унизиться.    \\nЯ думала увидеть Юзефа как и вчера вечером, в больной комнате, но, к моему огорчению, Юзефа там не было.    \\nВера, Аня Пундик и Ольга были еще здесь. Значит, Юзеф с Верой.    \\nКамерады пригласили меня в свою комнату. Они еще не успели устроиться на новом месте. В коридоре висели изодранные вещи: пальто, чемоданы. Мне было жалко ребят. Я готова была им всем помочь. Мне хотелось помочь им убрать в комнате, но у меня не было времени. Я чувствовала, что чехи переживают за меня. Ведь Юзеф с Верой. Я чувствую себя неудобно, но действую решительно, надо довести дело до конца.    \\n«Я хочу видеть Юзефа, — заявляю я громко. — Проводите меня к нему», — прошу я одного из чехов.    \\nМы входим в соседнюю комнату. На меня устремляются все взгляды. Вера, моя соперница, здесь. Она убирает в комнате. С метлой в руках она останавливается, и, вся бледная, не может поднять на меня глаз. Ей тоже неудобно. Юзефу, наверно, тяжелее всех. Он не знает, как вести себя, но остается внешне спокойным. Испытующим, мне показалось, даже холодным, взглядом он смотрел на меня. Мне стало так неловко под этим взглядом. Боже мой, как мне тяжело! Зачем я пришла? Что же мне делать?    \\nЯ стараюсь не обращать внимания и спокойным голосом спросив у Юзефа о его здоровье, заявляю ему, что я пришла к Бадьяну и что мне нужно ему что-то сказать. Я хочу, чтобы Юзеф проводил меня, но в это время в комнату вошел Герман. Я вышла с ним, оставив Веру и других в недоумении. В больной комнате я встретила уже выздоравливающих. Только Юзеф Бухара был еще тяжело болен.    \\nГерман старался занять меня чем-нибудь. В комнату через 10 минут вошел Юзеф. Но он не разговаривает со мной. Я тоже не показываю вида, что пришла к нему, совсем не обращаю на него внимания.    \\nКак же мне оставить ему мою передачу. Как неудобно. Просто мученье. Зачем, зачем все это? Наконец я встаю, решительным движением подхожу к корзине и кладу на кровать передачу. Юзеф удивлен. Он тронут моим вниманием. Я быстро подхожу к нему, чтобы попрощаться.    \\n«Вот видишь, Шура, помнишь, что я тебе говорил?»    \\nНаступило молчание.    \\n«До свидания, Юзеф, не думай обо мне плохо».    \\n«Я не думаю, Шура».    \\nБольше говорить не хватает сил, я попрощалась со всеми и быстро вышла.    \\nГерман проводил меня. Что же будет дальше?    \\nВесь городской лагерь говорит обо мне. Внимание всех направлено на мои отношения с Юзефом. Все ждут, что я помирюсь с ним. «Первая любовь не ржавеет». Особенно наша. Надя переживает за меня. Она не может успокоиться, зачем я изменила Юзефу. Я уже не скрываю ни от кого, что люблю его. Вера уже жалеет, что вмешалась между нами. Мне так хочется знать, как относится к Вере Юзеф. Она неплохая девушка. Раньше она мне нравилась, а теперь я ее ненавижу. Она упрямая, не хочет отступать. Считает меня своим врагом.'])\n",
      "(427492, ['Ночью призывал к себе Лялю и постепенно к утру, на молитве понял, что любовь моя к Ляле — *вся* *любовь*: что это чувство, сосредоточиваясь в Л., обнимает весь мир, преходящий и вечный. Эта собранная любовь (вся любовь), поднимаясь во мне, потому стремит меня к молитве, что нуждается в вечности. Продумав это, я уверился окончательно в правде своей при борьбе с Ефр. П. и ненависть к ней, которая вчера поднялась, перестал испытывать. Она получает то, что заслужила.    \\n               \\nПо-моему, Л. полюбила меня по-настоящему именно в те минуты, когда я уснул в постели на ее руке, тут что-то ей пришло от «спи, дитя мое», от ее призвания. Проснувшись, я изумился на нее: Мадонна, и даже свет от лица...    \\n               \\nАнализ ее слов: «мне кажется, я люблю тебя больше мамы». А, между тем, сказала после очень чувственной ночи. Любовь же к маме у нее вышла из любви к Богу. Этой любовью она сама удовлетворяется. Не в состоянии анализировать, надо спросить у нее.    \\n               \\nПредисловие к «Дневнику».    \\nЭти мои заметки в дневниках.    \\nВ отношении движения сердца своего во время работы над литературными произведениями я вижу три пути:    \\nпервый путь — это писать для прояснения или радования своего собственного сознания, это, значит, писать для себя;    \\nвторой путь — это писать для всех,    \\nи третий — писать для определенной личности, любимого человека.    \\n               \\nОгромное большинство всего написанного мною пишется для себя, а потом из этого выбирается для создания вещи для всех, часто под предлогом обращения к «другу».    \\nПисать для определенного лица, любимого человека мне мало приходилось, потому что даже при отражении искреннего чувства в письмах этих я ловил в себе литератора. И думаю, что, может быть, этот третий путь личного обращения есть не литературный путь и не поэзия, а просто жизнь.    \\nИз двух же оставшихся путей, для себя и для всех, путь «для себя», по-моему, имеет решительное право на существование, как надежнейший путь питания литературы «для всех».    \\nЖелая эту мысль развить в примерах, я хотел, было, свою новую вещь «Неодетая весна» представить, как она собиралась из этюдов, написанных для себя. Эта работа, однако, так меня увлекла, что я вышел из сезона «Неодетой весны» и собрал написанное для себя и про осень, и про другие сезоны.    \\nОгромное большинство записей мгновенны и так неожиданны для сознания в своем явлении, что писатель еще не успел излукавиться, как это бывает почти всегда в крупном произведении. Миниатюра, как искреннее...    \\n               \\nПосле обеда явилась из Москвы Ляля, полуживая, с кашлем, с гриппом. Рассказывала о свидании с Аксюшей, о том, что Павловна не сдается. 5-го Мая назначено свидание с юристом. Даю обещание больше одну Лялю не отпускать в Москву.    \\nНаше свидание после 3-х дней разлуки было такое радостное, такое бурное, будто год в разлуке прошел.    \\nХлебнув нового горя, Ляля как будто возвращается в свою привычную стихию мук и радость минувшую хоронит.'])\n",
      "(427524, ['Я долго думал, что прямолинейность Ляли в отношении моей борьбы с Ефр. Павл. исходит из ее рационального морализма, соединенного с молодой неопытностью Валентина Филимоновича. Теперь думаю, что ее настойчивость истекала из страха перед жалостью, которая губила ее: она боялась, что в этой жалости к Е. П. я погублю нашу любовь.    \\nСегодня был опять рецидив нашего спора, и в этот раз я бойко защищался, не выходя ни из себя, ни из нее. Был очень доволен собой и уверился, что в состоянии преодолеть свои тупики (idola).    \\n               \\n«Нижний этаж» для Ляли не имеет никакого значения. Но она мало считается с тем, что для мужчины он значит гораздо больше, чем она думает. И оттого потом с их стороны претензии, а с ее стороны жалость-слабость-терзание.    \\n               \\nО борьбе с раздражительностью: выходит из себя, она мне сегодня говорила так, что победила себя в этом страданием: билась, билась и вдруг поняла средство превращать свое волнение в мысль и этой мыслью управлять и побеждать. И так из этого ясно выходит, что сознание начинается в страдании, что на страдание надо идти, что через это страдание обеспечивается мысль и воздействие на людей и возникает радость уверенности в жизни вопреки животному страху перед смертью.    \\n               \\nТолько зачем это «идти на страдание», по-моему, надо понимать так, что «не уйти от страдания» — вот это так. И еще, что страдание само приходит и к этому надо быть готовым.    \\nГлавное, не надо прикрываться страданием, что-то делать из этого, что-то надстраивать. Надо лишь знать о страдании, как неизбежности, сопровождающей всякое движение вперед. И вот, я думаю, не страданию именно надо приписывать развитие своего сознания, а стремлению к лучшему с преодолением препятствий, нужно думать о любви, как о движении, преодолевающем смерть.    \\n               \\nПобеда Ляли и появление Раттая с тортом.    \\nВизит мой к Герасимовой: нет любимого человека, ребенок не утешение: любите и держитесь за любовь свою.    \\nРаскрылись замыслы Сергея Ивановича: установить через Президиум соавторство Ефр. Павловны. Караваева и Герасимова называют все «кулацким походом».    \\nПосле визита к Герасимовой почувствовал, какую прошел я школу любви и какое множество людей страдает так же, как я, и каким был я замаринованным счастливцем.'])\n",
      "(427651, ['Ночью не спали, и каждый по-своему решал вопрос, быть новому гражданину или не быть.    \\n— Если кому быть — тот не спрашивается об этом.    \\n— Согласна. Чувство радости жизни, страстное желание иметь ребенка было у меня, я с этим родилась, но когда папа умер, я пошла в церковь и.    \\n— И что ты получила?    \\n— Духовную свободу и сознание личности.    \\n— Значит, ты как личность, родилась не от плоти?    \\n— Да, и стала равнодушной к чувственному миру, к этой «плоти» и ее будущему: это все умрет, и дела все сгорят на Суде, останется только бессмертие, и это есть личность. И ты бы должен был это знать и не делать. Так говорил Олег.    \\n— Ну, а если бы он, любя тебя, на мгновенье забылся, и в это мгновенье все бы решилось вне своего желания?    \\n— Он был мальчик, но я тебя понимаю. Если бы ты не забылся, я бы не могла быть уверенной в полноте твоей любви.    \\n— Что же делать, так вышло, значит есть нечто выше нашей воли, зависит не от нас и этому мы должны подчиниться.    \\n— Богу мы должны с благоговением подчиниться, естественному ходу и сказать: да будет воля Твоя!    \\nМне сейчас думается, что именно потому ты и не любишь Толстого и его Наташу<com id=\"153641368514166\"/>: у него личная жизнь девушки представляется, как личный каприз, девичья смута души перед серьезностью брачной жизни, поглощающей капризное своеволие. То же самое и я проводил в «Кащеевой цепи»: Алпатов созерцал величественный и радостный процесс движения всей жизни в природе, и его узкое своеволие поглощалось расширенной душой.    \\n               \\n17- го Вечером: «тяжино» (с опозданием на 1 день). И вот за один день этот сколько пережито! Перед этим была мечта о волшебном путешествии на Иссык-Куль. Мечта была, как детская игра, сметена налетевшей грозой. Открылась перспектива на жизнь, полную скорби, труда и роковых случайностей, как будто был у нас рай и мы были изгнаны и обречены выполнять заповедь: «в поте лица». И когда мы примирились с изгнанием и лишением и перестроились, то вдруг увидели, что Бог только пошутил с нами, постращал, а двери рая открыты.    \\n— Ты как будто не рад? — сказала она.    \\n— Да и ты, — спросил я, — как будто не очень-то рада?    \\n— Нет, — сказала она, — я чувствую облегчение.    \\nНо и то правда, что особенной радости, как думал во время изгнания о жизни в раю, я не почувствовал.    \\nПосле этого мы смущенно переглянулись и не спеша возвратились в свой рай с этой мечтой о путешествии в сказочный Иссык-Куль.    \\nВот когда мне стало очень понятно, что, перейдя через страдание в более глубокую жизнь, невозможно вернуться таким же простодушным ребенком на солнечную поверхность земли. Вот отчего и моя Ляля до сих пор не может привыкнуть к моей просторной квартире в четыре комнаты и просит меня променять на маленькую, вот почему, оставаясь в природе, она тоже не чувствует, как я, расширения души и единства с Целым, а пользуется тишиной уединения только чтобы сосредоточиться в чувстве любви. Вот почему, полюбив, я неохотно иду на охоту, и вот почему ушедшие из нашего мира больше в него не могут вернуться.    \\nДевочка играет куклой, как со своим ребенком. Девушка в 17 лет жаждет любви, чтобы родить, а женщина в 40 лет ждет любви для себя и, не рождая, любимого человека превращает в ребенка и становится его матерью. Полюбив, такая женщина- мать осуществляет в настоящем всю полноту жизни и совсем не хочет какого-то чужого будущего с неведомым ей младенцем: такая женщина сопротивляется деторождению. А то бывает, женщина со всей страстью к обладанию настоящим, близким, немедленным и полным счастьем, полюбит Христа, сделается матерью такого Младенца бесплотного. Так неужели и такой богородице можно навязать простую физическую деятельность деторождения, разве можно такую упрекать за [нежелание такого рождения]?    \\nНо как же она, почти такая женщина, любит меня, если, преодолев [нежелание] такого рождения, радостно согласилась идти по этому пути с верой на возможное просветление земной юдоли?    \\n               \\nНо может быть в ней еще дремлет отчасти нераскрытая девушка, ожидающая для себя куколки? А то почему же она ночью с упреком спросила меня: «Если мужчина любит женщину, то он хочет иметь от нее ребенка, а ты как будто не хочешь, почему ты не хочешь?» И то, что при аборте я возвращу себе радость к путешествию на Иссык-Куль, — эта мысль ее угнетала: значит, она хотела иметь возле себя мужа, а не путешественника или писателя. Все это я тоже почувствовал вчера на одинокой прогулке, и через это луч света упал на то слепое мгновенье, когда я утратил сознание на мгновенье и поступил, как мужчина: это мгновение не было слепым, я тоже, как и она теперь, тогда в тайне своей тоже хотел. Сознав это, я почувствовал радость и готовность встретить все трудности на этом пути и даже смерть ее. Мне стало, как было в Ельце перед расстрелом<com id=\"153641368514167\"/>: поняв близость смерти, я вдруг стал совсем спокоен и пошел, куда мне указали, к забору.'])\n",
      "(188520, ['Утром собрал маслят на обед. Глядя в Петю, как в зеркало, увидел, что теща действительно, как я думал про себя, есть вампир-мучитель своей дочери и через нее и мой собственный. И прав Петя, говоря, что в этом мучительстве нет креста: стоит только нам устроиться отдельно (средств больше чем надо), и все будет хорошо. Я попробовал для проверки себя провести такое рассуждение. «Теща» в нашем современном понимании как всеобщая категория мучительства семейного потому только и мучит, что дочь у нее единственная, и право на ее личность она предъявляет лишь потому, что она ее родила. «Теща» в этом случае является последней материальной претензией разложенного рода. Недаром и Ляля постоянно в спорах с ней выступает противником родового начала. (Теперь все понятно: в лице тещи кончается заповедь Адаму «в поте лица работать» и Еве «в болезнях рождать», доколе не придет Утешитель. К Ляле Он уже пришел, — она живет в Новом Завете, а теща живет в Ветхом.)    \\n— В этой капле воды, Петя, — сказал [я], — отражается вся мировая история, поэтому нельзя успокоиться простой эгоистической формулой, как это все делают в Америке, что если муж берет себе в жены дочь, то мать ни в коем случае не делается членом семьи. А если жизненные условия, как, напр., у нас теперь война, и вообще мало ли что! вынуждают жить с тещей, то вот тебе и крест из-за любимого человека.    \\n— Может быть, где-нибудь крест, — ответил Петя, — но в твоих условиях я не вижу этой необходимости. При твоих возможностях ты всегда можешь отделиться, отделишься — и возникнут превосходнейшие отношения. И если ты на это по деликатности, по особенной любви твоей к В. Д. не решаешься, то ведь она-то, любящая тебя, должна по своей инициативе устроить тебя, дать возможность работать не только для дома, а и для всех.    \\n— Она, — ответил я, — только об этом день и ночь думает, но в этих условиях войны ей трудно было сделать.    \\n              \\nВечером хватила лихорадка (не малярия ли?). Принял аспирину, улегся и беседовал с Петей. — Какая у тебя, Петя, прикосновенность к народу, и как мало ты соприкасался с интеллигенцией. — В моем прикосновении к народу всегда была двойственность: меня в народе всегда, от детства до нынешнего дня, травили за интеллигентное происхождение, за тебя.    \\n[В Следове у него было положение подростка (Достоевский).].    \\n              \\n«Детские» сюжеты (взрослые как дети): 1) Зажигалка (как я прописался в Москве). 2) Коньяк (наперстки пил директор). 3) Автограф.'])\n",
      "(65591, ['Во всякой любви есть момент отвращения или разочарования.    \\nОн неминуем, и преодоление его есть переход от мнимой любви, от мимолетной влюбленности к настоящему чувству, не боящемуся деталей.    \\nВлюбленность это жажда любви, постоянный и непрочный вымысел. Вторжение реальностей разрушает его. Стоптанный каблук или порванный чулок у любимой женщины. Влюбленность обща, она не знает сама себя, и между тем боится деталей, боится узнавания.    \\nВлюбляются обычно в красивых, а любят великих.    \\nКак только детали преодолены, начинается любовь. Она принимает все как нечто законное, она узаконивает неэстетичное в любимом человеке, ибо видит в нем истинное, ибо сама истинна. Как все свободное, она есть творчество. Она берет любимого человека как материал и творит из него нечто высшее.'])\n",
      "(56761, ['Утром был в консерватории. Довольно сдержанно говорили с Верой Михайловной Базилевич. Искали ноты Моравека. Галина Георгиевна потом мне дала записку следующего содержания: «Просящему милостыню Вы положили камень. Когда заболел Ваш кот, то Вы его жалели, ласкали, давали ему пить. Я у Вас не заслужила простого слова привета. Но то было животное, а я — человек!    \\nСовершенно чужому человеку, нуждающемуся в помощи, мы оказываем все, если не физически, то морально, а у Вас не нашлось ничего для меня. Неужели я такое ничтожество и Вы меня презираете, что даже не хотели сказать слова? Допустим, я виновата, что не смогла сдержать слез, глупых слез наболевшего сердца. Я не могу просить от Вас участия любимого человека, но просто человеческого! Неужели у Вас нет его и Вы так жестоки! Или Вы плачете только тогда, когда задето Ваше самолюбие?    \\nГосподи, а я-то думала, что такого чуткого, отзывчивого, мягкого человека встретила, что я нашла друга, который меня поймет, и мне легче будет кончать свой путь. Я ведь достаточно еще могу рассуждать. О любви как к женщине я не только говорить, но даже мечтать уже не могу... Не подходит мой возраст плюс внешность, но о дружбе я могу мечтать?! Дружат же старики с молодыми. Почему же я должна быть лишена этого? Или просто мои качества Вам неприятны? Что ж, все может быть. Это значит, что Вы никого никогда не любили, кроме себя. И потому Вам чужды страдания другого человека. А ведь жизнь построена так, чтобы давать и другим, чтобы облегчать путь тем, кто спотыкается. А Вы? Что Вы сделали для ближнего своего? Вы всегда только получали, а сами-то Вы хоть что-нибудь дали Вашим родным, например? Или я Вас совсем не знаю, и это только относится ко мне? Тогда простите, Вы сами виноваты, что я так думаю о Вас. Но я мучительно не хочу так думать! Вы считаете себя правым? Да?! Правым, что не протянули руки помощи человеку, который теряет почву под ногами. Вы оскорбительно больно говорите, что я все фантазирую. Да почувствуйте же наконец: так, как я Вас люблю, Вас никто любить больше не будет. Знаю, что Вам это все равно, но все же говорю об этом. ...Ночь велика, думать никто не мешает, а слушает меня только один портрет Вити Анисимова и один его глаз говорит мне: как ты смешна! Но в жизни он бы этого мне не сказал бы никогда! Он только удивился бы, что его Алюша так полюбила, что потеряла разум, и помог бы мне советом.    \\nЯ всегда старалась спрятать свои слезы, но так вышло! Сердце стало слабым и нервы не хотят меня слушать... Надеюсь, когда-нибудь Вы это вспомните и, может быть, у Вас заблестит слеза в глазах, и Вы пожалеете женщину, которая так могла любить.    \\nКак больно было слышать от Вас слова: «Ну, до свиданья, идите спать!» И это все, что у Вас нашлось для меня! Я думаю, Вы так сказали просто, чтобы что-нибудь сказать. ...Совсем рассвело, и день настал. Как будто ничего не случилось! Только у одной женщины оборвалась в груди бледно-розовая струна. Не смейтесь! Вы должны уловить этот тихий, вибрирующий стон! Простите за то, что так сильно люблю, за то, чем живу и дышу! Неужели за это нужно просить прощенья? Я приказываю себе этого вопроса дальше не подымать, и молчать, молчать. А дальше? — Как Вам подсказывает Ваше сердце! Жить только разумом? А где же всеобъемлющая, великая, снисходительная, ласковая любовь? Проснитесь! Если не для меня, то хотя бы для другой! Я же, несмотря ни на что, буду всегда жалеть людей, буду до конца дней моих помогать им, будь то друг или враг! Вы опять скажете, что это «фантазия», но это будет по-христиански! И мне будет легче, чем Вам! Разум, только разум на своем пути убивает своим холодом. Не дай Бог, чтобы остался один разум! Как будет холодно и одиноко! Ни ласкового слова, ни любящего взгляда, а только холод! Послушайте меня, фантазерку, научитесь любить людей. А я Вам желаю самого дорогого, что есть на Земле, а то я и не доживу, чтобы увидеть Ваше рождение как полноценного человека! Всего Вам светлого!»'])\n",
      "(400791, ['И все-таки своего чувства к Николаю я никак не могу выразить. Это все что угодно, но не любовь. Ведь для любимого человека готов на все, а я не соглашаюсь даже на частые встречи. Мне нравится Коля, но почему-то я никак не могу полюбить его. Ведь когда-то я увлекалась ребятами, нравились мне некоторые. Я скучала без них, вздрагивала при встречах с ними. ~~А теперь~~ Но когда на меня не обращали внимания и я стала заглушать в себе всякое чувство любви. Но видно напрасно я делала это — любовь погасла и теперь не может вспыхнуть вновь в ответ на такую горячую любовь ко мне Николая. Ведь он в самом деле любит меня так, как редко любят в наше время. Теперь он вздрагивает и краснеет при встречах со мной. Мне понятно это чувство, но я его не разделяю теперь. Вчера он сказал мне, что я совсем охладела к нему, прохожу мимо и даже не поднимаю глаз на него. Сегодня сравнил меня с ветром. И все просит встречи. Не знаю, соглашусь ли я на нее. Если раньше он мог мне что-либо сказать решительно и твердо, ~~при ~~почти приказать, то теперь он скажет решительно, но как только я посмотрю на него со своей усмешечкой, которая сводит его с ума, он сразу улыбнется и опустит глаза.'])\n",
      "(419269, ['Благовещение. Недостатки Ляли, какие у нее есть, в отношении меня исчезают. Эти недостатки, может быть, даже являются свойством женской природы вообще: первое — это подкупаемость мелочами («знаками внимания»), второе — ложь во спасение. Допустим, что у Дездемоны действительно был бы любовник тайный (грешок), но она, любя Отелло, может стать на колени перед распятием и поклясться перед Богом в своей чистоте. Клятва эта такого рода, что она себя ложью обрекает в ад ради спасения любимого Отелло. И на Суде эта ложь должна быть оправдана, потому что это жертва собою для спасения души любимого человека.    \\nИтак, мы начинаем рассказ свой с того, что подозрения Отелло были не без основания, за Дездемоной был-таки грешок. Это произошло у нее случайно, и серьезного в этом поступке ничего не было...'])\n",
      "(408683, ['Несколько дней тому назад я узнала, что он женился. Что я чувствовала? Трудно сказать, чтобы этот факт слишком сильно огорчил меня; я как будто освободилась от непрерывно давившей меня тяжести неизвестности. Теперь всё ясно и поэтому менее тяжело.    \\nЯ чувствовала, что что-то должно произойти, я ждала, и всё-таки это известие было неожиданным.    \\nПочему я достаточно легко отнеслась к этому?    \\nИли я не любила его — это было всего лишь увлечение, желание спастись от одиночества. Или я уже пережила сильнейший кризис в течение ноября-декабря, после чего чувство уже пошло на убыль. А вернее всего то, что теперь, после Игоря, ничто так сильно не может поразить меня. Оказалось, что мысли об измене, предательстве, оскорблении памяти единственного любимого человека были внушены мне сознанием. Чувство по-прежнему осталось сильным.    \\nТеперь мне предоставляется возможность убедиться в том, что не сумею я больше никого и никогда полюбить так, как я люблю Игоря.    \\nЗачем лгать себе — я же хочу своей семьи, и мне будет очень больно (хоть я и сумею быть сильной), если судьба лишит меня этого; но если я буду иметь её, то уже не будет той свежести, непосредственности, лёгкости, молодости в отношениях и чувствах, всегда будет воспоминание и сожаление об утраченном прошлом. И не будет уже никогда полной искренности, веры и доверия. Не может быть: слишком грубо и жестоко оскорбил он мою веру в честность его и искренность.'])\n",
      "(425421, ['Всегда радуюсь, когда, сообразив, сколько дней в месяце, узнаю, что этот месяц «со днем». Этот лишний день дается человеку во свидетельство таящейся в нем радости жизни, а радость жизни, питаемая каждым из нас по-своему своими чувствами, этими корешками жизни, нам дана великим педагогом. Радость жизни заманивает нас в глубину свою, как охотника заманивает удаляющийся зверь или птица. Заманит эта свобода в глубину, а потом по необходимости выбирайся. По этому плану и мы должны заманивать молодежь чувством свободы, а не пичкать ее необходимостью добродетели.    \\n                    \\nВчера опять Лева был, плакал, молил о помощи. Придется дать ему денег опять.    \\n                    \\nПозвонили в КУБУ узнать о здоровье Удинцева, и вдруг воскресла и заговорила по телефону служащая в КУБУ Клара Яковлевна Левина. Ужас, как живуч человек!    \\n                    \\nСегодня читаю в Моссовете доклад свой и не сомневаюсь в успехе (честно написал). Прочитал его Леве, он сказал: — Хорошо, только зачем тебе это председательство? Мне трудно было ему ответить. Предложил идти Ляле со мной в Моссовет на мое чтение. — Зачем я пойду, — сказала она, — раньше я рассчитывала достать там семена, а теперь картошку посадила. — Я думаю, — ответил я, — что ты уж очень мелко плаваешь: ты как хохол представляешь себя в раю с куском сала. Общественная деятельность во всех отношениях человеку полезна, и встреча человека с человеком сама по себе есть «дело». — Это правда, — ответила Ляля, — я, пожалуй, пойду. Лева тоже понял и больше не спрашивал меня, зачем я хочу быть председателем Общества охраны природы.    \\n                    \\nУмирающая теща находится в постоянной тревоге за дочь и все силы своего бездеятельного положения напрягает, чтобы выдумать какой-нибудь страх и навязать его дочери. Природа эгоизма и состоит именно в том, чтобы $$собою$$ заражать жизнь другого. Только теперь я наконец-таки понял, почему с самого начала нашей жизни я не мог почувствовать симпатию к теще.    \\n                    \\n$$Сомнение$$. Сомневаться в глубине себя надо во всем, даже в существовании Бога, не говоря уже о достоинствах любимого человека.    \\nЗнаю, что Ляля во мне иногда сомневается. Ночью сегодня она спросила меня:    \\n— Любил ли ты кого-нибудь, когда-нибудь, кроме меня?    \\n— Мать свою любил.    \\n— Да, ты мать любил. А еще?    \\n— Мне кажется, брата Николая любил.    \\n— Да, Николая ты, конечно, любил. А еще?    \\n— Сына Леву.    \\n— Конечно, ты Леву любил, а еще?    \\n— Вот тебя люблю.    \\n— Да, меня ты любишь, а еще кого?    \\n— Будет с тебя. Ты-то кого любила?    \\n— Папу любила.    \\n— Ну, папу, да, а еще?    \\n— Олега.    \\n— Это не знаю: в Олеге ты любила себя, так я любил и свою парижскую невесту. Это я не считаю.    \\n— А правда, у всех нас было в жизни так мало любви, а ты любил вполне достаточно.    \\nТак она уверилась во мне и вышла из сомнения в том, что я вообще неспособен любить и ее полюбил только для себя: за то, что она мне удобна.    \\nК утру она совсем вышла из своего сомнения и была из-за этого со мною очень нежна.    \\nТак и надо, сомневаться во всем, особенно же полезны человеку его колебания веры: возвращение к Богу всегда так хорошо!'])\n",
      "(217247, ['Пережила сегодня щемящие сердце моменты: Паленсия покинула здание испанского посольства. Социал-демократическое правительство признало Франко.    \\nПолучив это сообщение, Паленсия не захотела остаться ни часа лишнего в посольском доме, принадлежащем теперь Франко. Она затребовала чиновника МИДа и государственного нотариуса, чтобы произвести сдачу дома и инвентаря посольства и, подписав протокол, выехать из здания, где она три года несла на своих плечах тяжелую ношу ответственности перед своим народом, неослабеваемо отстаивала интересы Испании и побуждала правительство Ханссона оказывать помощь Народному фронту. Но ни энергия Изабеллы, ни ее вера в честность и порядочность социал-демократии не помогли. Шведский кабинет послушно поплелся за Галифаксом<com id=\"14845895241429\"/> и Даладье. 29 марта Франко занял Мадрид при пособничестве изменников Народному фронту социал-демократов Бастейро и Кассадо, и шведское правительство поспешило признать Франко и фашистов правительством Испании.    \\nПаленсия вызвала меня в посольство, побыть с ней там последний час. Накануне вся ее семья уже выехала в загородный отель «Сальчобаден», где комитет помощи Испании предоставил Изабелле и ее семье помещение, чтобы дать ей возможность передохнуть. Но раньше чем покинуть здание посольства, Изабелла вручила мне флаг республиканской Испании. Мы прошли с ней в белый зал. Передавая мне драгоценный флаг, она просила: «Дорогой мой друг, Александра, прошу вас сохранить этот священный для испанских борцов за независимость стяг в советском посольстве. Вы вернете его мне, когда восставшие за свободу и независимость народы во главе с Красной армией сметут с лица земли проклятое отродье фашистов и их хозяев, агрессоров-империалистов».    \\nМы стояли вдвоем в большом пустом зале. В здании посольства было тихо и пустынно. Эта минута была полна торжественности. Паленсия, передав мне флаг, почтительно склонилась перед знаменем Народного фронта и, поднеся к губам своим шелковое полотнище трехцветного знамени, благоговейно коснулась его губами.    \\n            \\nПаленсия распрощалась с техническим шведским персоналом посольства и с гордо поднятой головой вышла на парадное крыльцо, у которого ее ждала машина. Шведские служащие утирали слезы.    \\nИзабелла обняла меня: «Я без сожаления покидаю этот дом. Он весь напоен нашими муками за мой народ. Совершилась ужасная катастрофа, это как смерть любимого человека после его долгих страданий. Переступая этот порог, я оставляю за ним цепи посланника, я знаю, что вступаю на новый путь борьбы за мой любимый народ, за возрождение моей прекрасной Испании. Верьте, друг и товарищ мой Александра, мы еще победим этих злых духов».    \\nПаленсия села в машину. Она не оглянулась, ее лицо было строгое, сосредоточенное, она смотрела вперед. Автомобиль, но уже без испанского флага, свернул на аллею. Я продолжала стоять у парадного подъезда. Мне очень хотелось проводить Изабеллу до Сальчобадена, но в полпредстве меня ждали срочные дела.    \\nДень был серый и сырой, но в воздухе уже пахло весною. Мой шофер Вистрем заботливо укладывал в ЗИС испанский флаг. А я все еще стояла у подъезда. Сюда я все эти годы часто спешила, чтобы ободрить Паленсию хорошими вестями или вдохнуть в нее бодрость в тяжелые минуты. И когда за моей спиной шумно захлопнулась парадная дверь, мне показалось, что кто-то захлопнул книгу и моей жизни за эти три года...    \\nЯ решила преодолеть тоску, душившую меня, и попросила шофера проехать в полпредство через парк Дьюргорден. Воздух парка меня оживит. Мысль работала, я подводила итоги. А итоги были сумрачные.    \\nЧто за темные месяцы февраль и март!.. Утрата за утратой. Личные — смерть Зои, отъезд Изабеллы... Но страшнее большие общечеловеческие утраты. Чехословакия в руках немцев-фашистов. В Праге царит террор и властвует Гитлер. Бенеш бежал в Англию. За Чехословакией — захват фашистами Испании. Швеция объята тревогой и страхом. В Финляндии крепнет прогитлеровское влияние. Близорукость народов севера. Ведь это Гитлер расчищает стратегический путь для себя, чтобы напасть на нас, на Советский Союз. А их погибель — это измены и предательство своему же народу. Пятая колонна.    \\nПочему 29 марта Мадрид сдался Франко? Падение Мадрида, вернее, передача Мадрида в руки Франко было актом прямого предательства, и совершили это предательство те, кому кабинет    \\nНародного фронта поручил защиту столицы Испании. Командующий мадридским фронтом Кассадо и глава города, правый социал-демократ Бастейро. За спиной кабинета Негрина шайка предателей вела переговоры о капитуляции в то время, как испанские геройские борцы против агрессоров и фашистов Франко умирали на фронтах. Позорная, подлая измена, нет слов ее заклеймить, и Паленсия полна гневной жажды найти на эту испанскую «хунту» управу. Но Паленсия сама считает, что это дело осуществилось не без пособничества Лондона и Парижа, господ Даладье и Чемберлена испугала стойкость и энергия, с какой Негрин взялся за укрепление фронта. Разбежавшиеся части возвращались добровольно на поле битвы и их спешно формировали в тылу в новые войсковые отряды. Кабинет внушал доверие и волна патриотизма стала снова подниматься в массах. То, что Негрин на самолете полетел в Мадрид, снова подняло престиж Народного фронта.    \\nРешение самому руководить мадридским фронтом созрело у Негрина (по словам мужа Паленсии) после встречи во Франции и весьма напряженной беседы с президентом Испании Асанья. Этот безвольный и напуганный старик пробовал убедить Негрина в необходимости спасти Испанию немедленной капитуляцией. Негрин это решительно отверг. Такой вопрос может быть решен только созывом Национального собрания и при принятии условия, что Испании будет обеспечена независимость и интегритет. О созыве Национального собрания нечего было и думать, и Негрин полетел в Мадрид. Это был решительный и верный шаг, по оценке Паленсии. Популярность кабинета Негрина сразу поднялась. А Мадрид снова стал знаменем для испанского народа.    \\nВраги поняли, что терять время нельзя, и изменники подняли голову, ободряемые Лондоном и Парижем. Такая война, самооборона всего трудового народа, сплотившегося вокруг своего народного правительства, становилась опасной как пример. Войска Франко стали терпеть поражение... Пятая колонна вступила в открытое действие и впустила Франко в Мадрид. Судьба Испании была решена так, как желали союзники по Мюнхену.    \\nПравительству Негрина удалось скрыться. Негрину с ближайшими участниками и видными революционерами пришлось поплыть через океан в Мексику. Негрин звал туда же и Паленсию. Всем членам ее семьи удалось бежать во Францию и оттуда с помощью друзей их переправили в Стокгольм. По всей вероятности, сама Паленсия и ее семья последуют за своим правительством в Мексику.    \\nАланды — колючий вопрос'])\n",
      "(7711, ['Утром, в 11 часов. «В первый раз за все пять месяцев болезни я счастлив... Лежу... покой, ты со мной... Вот это счастье... Сергей в соседней комнате».  \\n12. 40:  \\n«Счастье — это лежать долго... в квартире... любимого человека... слышать его голос... вот и все... остальное не нужно...»'])\n",
      "(427700, ['Ходили в С. Рузу устраиваться, знакомились с Замойскими: наладили чертей устраивать нам пустыню спасения. Берет сомнение в правильности поступка...    \\n               \\nЛюбовь похожа на море, сверкающее цветами небесными. Счастлив, кто приходит на берег и очарованный согласует душу свою с величием всего мира. Тогда границы души бедного человека расширяются до бесконечности и бедный человек понимает тогда, что и смерти нет и нет того, что называется у бедных людей сегодня и завтра. Исчезает тогда эта черта, разделяющая всю жизнь на «тут» и «там». Не видно «того» берега в море, и вовсе нет берегов у любви.    \\nНо другой приходит к морю не с душой, а с кувшином, и, зачерпнув, приносит из всего моря только кувшин, и вода в кувшине бывает соленая и негодная.    \\n— Любовь — это обман юности, — говорит такой человек и больше не возвращается к морю.    \\n               \\nГде два-три собрались, там не только Христос рождается, но и осел, который несет на спине своей багаж любимого человека. Где два сошлись, там к своему Хочется присоединяется Надо в смысле повседневного: люби ближнего, как самого себя. Творчество поглощает всего человека, и с его Христом, и с его ослом. В сущности, «осел» не есть просто герой труда, а это есть необходимость внимания к другому (ближнему). Вот в моей семье внимание было у них на мне, а у меня на себе. Вышло так, что им было такое положение выгодно: из этого проистекало благополучие, и отсюда разложение, безморальное со-стояние.    \\nСтою в раздумье перед тем, что случилось, и вот именно, что оно случилось, произошло или вышло как следствие всех предыдущих моих поступков, и есть первый предмет моего размышления. Оно вышло из того, что я, создавая дальнему, неведомому мне читателю радость, не обращал внимания на своего ближнего и не хотел быть ослом для него. Я был конем для дальнего и не хотел быть ослом для ближнего. Но Ляля пришла, я ее полюбил и согласился быть ослом для нее. Ослиное же дело состоит у человека не просто в перенесении тяжести, как у простого осла, а в том особенном внимании к ближнему, открывающем в нем недостатки с обязательством их преодолеть. В этом преодолении недостатков ближнего и есть вся нравственность человечества, все его ослиное дело.    \\nНо если человек, имеющий коня, согласится променять его на осла, не зарывает ли он талант свой в землю, не совершает ли он греха против самого Духа?'])\n",
      "(254254, ['Воскресенье.    \\nТолько что приехала из театра и ни как не могу притти в себя: нахожусь в каком-то оцепенении. О, какая тяжелая драма! Мария Тюдор, как она была жестока, как — красива, как умела любить! Какую нужно иметь силу, чтобы приговорить к смерти любимого человека! Я бы много потеряла, если б не посмотрела этой вещи.    \\nКогда я с С.В. садилась на троллейбус на остановке был Буров и Е.Р. Мы попали в один троллейбус, но, к сожалению, они ехали не в театр, а в кино.    \\nВстала сегодня в 8 часов и поехала домой и вот приехала и опять нужно ехать к Нёне.'])\n",
      "(427868, ['Написал либретто «Охота как школа разведки».    \\nЛяля треплется, как куст на ветру. Смотрел в ее утомленное лицо и думал о себе, что пусть в литературе слыву я за мудреца — там это возможно: ведь и вся литература «слывет». Но как человек я еще только на полдороге, какой я еще человек, если терпеть не могу больных и не страдал за болезнь любимого человека и не видал в лицо его смерть. И даже только думая об этом, содрогаюсь от страха, и жизнь после того мне кажется истощенной и ненужной.    \\n               \\nЕсли раздавит на улице всякого человека, то это создает зрелище ужасное. и привлекательное: все бегут, всех влечет поглядеть. И он тоже бежал со всеми, как все, но когда увидел и узнал в убитом человеке свою любимую женщину и толпа это увидела и поняла, то все стали смотреть на него больше, чем на убитую, и он сразу из жадного зрителя стал жертвою жадного созерцания, как будто его страдание было и больше и интереснее картины раздавленного человека.    \\n               \\nА в общем если вспомнишь, подумаешь, расспросишь тех, кто помоложе и участвовал в революции душой и телом, то, право, не дурно было, когда все могли жить как *хочется*.    \\nТяжко было потом подчиняться тому Надо, которое пришло вслед за Хочется. Но мало-помалу пришло сознание: делать-то ведь нечего, нельзя вечно жить как *хочется*. Тут-то вот и началось *послушание*, т. е. добровольное сознательное подчинение необходимости.    \\nТеперь весь вопрос о возможности возрождения и выявления внутреннего патриотизма состоит во времени: когда наступит достаточный срок послушания, тогда сталинская эпоха будет понята как необходимая для нашего народа школа послушания. Если же время послушания будет сорвано, то нас неминуемо немцы подчинят, и мы будем у них в послушании, пока не преодолеем их плен изнутри.    \\nНо кто же может знать о сроке послушания, никто этого не может, и всякий, начинающий говорить о конце послушания, не изжив до конца свою личную заинтересованность, является не пророком, а претендентом на трон. Вот почему я просто жду срока, жду, когда меня позовут.    \\n               \\nКто-то явственно шепнул сзади меня: — Миша! — Я оглянулся, сзади меня никого не было. Страшно мне стало, и я думал, что там им, наверно, нельзя почему-то, по каким-то особым, нам непонятным законам нельзя с нами общаться, но случается, как при всяком законе исключение, кто[-то] вырвался, изловчился и, увидев меня, шепнул свое: «Миша!»'])\n",
      "(446922, ['**Вторник.** Смоленское. Я с горя много пью по той причине и только потому, что в апреле 1941 года похоронил свою любимую жену, с которой прожил семнадцать лет. И потому, что у меня осталось двое детей-сирот.    \\nЭто одно мое страшное горе. Если я похоронил любимого человека, это значит, я похоронил все. Больше у меня, кроме несчастных детей-сирот, ничего не осталось.    \\nС момента смерти жены, я мало чувствовал себя хорошим и бодрым человеком. Нет, я все время переживаю страшное горе, печаль, тоску и скуку. У меня нет никакого желания ко всякой полезной, и не полезной работе, и даже нет желания к самой жизни. Все мои тетради с марта 1941 года испещрены черным трауром, напоминающем страшное горе и печаль.    \\n              \\nСегодня 19 августа 1941 года, во вторник, я закончил свои ежедневные записи в этой тетради-дневнике. Записи были начаты 11 мая 1941 года.'])\n",
      "(427962, ['У Ляли палочек не найдено, мой грипп тоже проходит, на той неделе хорошо бы выехать вместе.    \\n               \\nМне хорошо в лесу, потому что там все живое и растет само, а не как в городе, все сделанное и устроенное рукой человека. Самая красота городская ослабляется во мне жалостью к несчастным или презрением к гордым тупицам, словом, в городе так много намешано всего человеческого, что самая красота упрекает тебя и становится красивостью.    \\nВ лесу же ничто не мешает всему живому дивиться и ему сочувствовать. Самое же главное в лесу — это независимость каждого существа от человека: не при его содействии все растет, а само по себе.    \\nИногда, очнувшись в лесу от своих мыслей, я как бы выгляну из себя и вдруг увижу вокруг деревья, цветы, травы, птиц, муравьев как существ живых, самостоятельных. В особенности молодые сосны или березы, расставленные где-нибудь на лесной поляне, — глянешь на них из себя и вдруг увидишь в каждом свою судьбу, свою борьбу. Тогда открывается в душе родник радости жизни чистый, святой и страстное желание прийти к людям, не понимающим этого, и открыть им непостижимые сокровища жизни, скрытые от них суетой, пустяками.    \\nВсю жизнь, как писатель, я только и делал это, что пытался своим искусством открыть этот мир сокровищ для людей. Возможно, что каждый художник делает то, чего я хочу, но мне кажется, что художник на то и художник, чтобы делать и не знать, что он делает. Я же, возможно, как художник очень ограничен, но зато я знаю, что я делаю, и это мое знание делает мое искусство драгоценным, и вот почему люди, привыкшие ценить в искусстве лишь красивость, а не знание и волю, нескоро меня поймут.    \\nЭто видно по книге «Жень-шень», с каким священным восторгом ее читают немногие и как равнодушна к ней масса читательская. Видно и по тому, как встретили мою «Фацелию», я хотел открыть мир, за который надо вести священную войну, а они испугались, что открываемый ею мир красоты в природе помешает обыкновенной войне.    \\n               \\nСмелость в правде есть в Ляле ее главная черта, унаследованная ею от отца. Сюда же относится и ее готовность открывать тело перед глазами любимого человека и духовная свобода, независимость от форм, даже церковь, где она по-настоящему молится, она называет протухшей и к попам не чувствует ни малейшего благоговения. Для нее священны только Бог, только Христос, весь же остальной мир для нее существует, поскольку он с Богом. Ни малейших суеверий, ни малейшей мистики и даже не любит луну.    \\n               \\n...С тех пор как она рассталась с Олегом, ее мучило особое душевное состояние — это женская потребность, что-то вроде искушающей любознательности открыть недозволенную дверь и, может быть, найти там себе женское удовлетворение. С этим чувством она встречала ухаживающих за нею мужчин и дерзала открывать запрещенную дверь, чтобы в конце концов там не находить ничего. Никакого удовлетворения ни физического, ни нравственного в этом она не находила: все, что она встречала, было в неравенстве с нею, чем-то ниже ее и утверждало ее падение. Этому искушению конца не предвиделось, и единственное средство в запасе против такого мученья было уйти из мира, стать монахиней. Ее оскорбляло в мужчинах их родовое хотение, не хватало священной непорочности в этом хотении, единственно способной пробудить в ней ответное мужчине хотение. Ужасающее непонимание и неравенство и новое падение. Она же могла удовлетвориться лишь равным.    \\n<*На* *полях:* Наступающее сознание неравенства переживалось как свое личное падение.>    \\nПо ее признанию, в наших отношениях самое решающее для нее было мое объяснение, что мне от нее ничего не надо, что я ничего от нее не жду и всякое хотение от себя отстраняю и что это самое главное. И действительно, каким-то чудом у нас не произошло никакого падения, при удовлетворении плоти всегда оставалась основная непорочность, целомудрие, и если бы родился ребенок, то он родился бы истинно при непорочном зачатии.    \\nИз этого можно вывести, что евангельское противоречащее современному материализму и биологизму «непорочное зачатие» в существе своем естественно и даже необходимо в интересах той же «евгеники». Другими словами, более современными, непорочное зачатие выражается как духовное равенство<com id=\"153641369914345\"/>, а порок, падение заключается именно в неравенстве. Если же устранить непорочное зачатие как цель в деятельности пола, а целью сделать производство физического человека, то это неминуемо должно привести к рациональному регулированию производства человека, подобно тому, как это делают спринцовками в конюшнях.    \\n<*На* *полях:* Я бы сказал еще так по своему опыту, что половые отношения являются священными не потому, что от этого родится ребенок, а потому, что они ведут к духовному единству полов прежде всего и вследствие этого к непорочному зачатию.>'])\n",
      "(440654, ['Я все время окружен людьми и всё-таки, как всегда, остаюсь в одиночестве. Одиночество тревожит и беспокоит меня. Странная и порой непонятная душевная пустота. Я готов на все, и мне ничего не жаль.    \\nВ недалеком будущем мне предстоит сосредоточить все свои духовные силы. В дело идти надо с горячей душой и верой в успех, с желанием жить во что бы ни стало. А у меня нет живого огонька, нет необходимого звена, которым каждый человек прикован к жизни — У меня нет любимого человека — нет бога моего, который был бы мне дороже жизни.    \\nСтарая любовь и привязанность к Н. окончательно умерла. Слишком поздно приходит сознание того, чего уже годы не существует, а может быть, и вообще ничего не было, а был только мираж романтики юношеских зеленых дней. Горькое, запоздалое признание самому себе, но от этого мне ни капельки не легче.    \\n(Поти)'])\n",
      "(372888, ['Четверг. Всеволод уже несколько дней лежит больной, очень страдает от болей в суставах рук и ног. Врач вызван, но не приходит, что теперь заурядное явление, приходит через 5—10 дней к больному, чаще всего, когда пациент уже мертв. Аптеки пусты, имеется в продаже только пудра и переконсоль, на рынке идет спекуляция медикаментами. Там можно, например, найти бактериофаг, 500 р. за прием для взрослого, это дешево и найти трудно, в хлебе это оценивается 1,5—2 кило. Я очень дрожу за Всеволода и поэтому обратилась за помощью к Голубевым <com id=\"15248394341467\"/>, эти подонки предложили откровенно взятку, будет дана вторая комната — будет принесено средство от болей, украденное в поликлинике. Всеволод возмутился и отверг. Я плохо себя чувствую, чуть шевелюсь и с трудом волочу свой высохший зад. Вчера поплелась на Надеждинскую <com id=\"15248394341468\"/> вызвать врача, по дороге несколько раз отдыхала, на 5-й этаж еле вскарабкалась. По дороге считала кандидатов в мертвецы, тех, которые уже не могут самостоятельно передвигаться, их ведут, везут на санках или тащат, насчитала 20 человек и бросила, т. к. те, которые шевелят сами ногами, чуть лучше: иссиня-черные лица с острыми носами, обтянутыми скулами, с особенными морщинами около глаз и рта. Истощение в последней стадии как-то особенно заметно в последнее время, может быть, яркое весеннее солнце подчеркивает контраст жизни и смерти. Цинга растет, на каждом углу торгуют ветками сосны, за несколько веточек 5—10 р. Сосновая хвоя самый доступный и, пожалуй, единственный источник добывания витамина «С». На заводах организуются лаборатории для добывания витамина, сегодня в «Лен. Правде» большая статья о витаминном голодании и советы для населения, как добывать из хвои витамин. Спрос на хвою очень высок, разбирают быстро, вокруг торговцев всегда толпится народ. Умерла от истощения Рабинович-Текстилова <com id=\"15248394341469\"/>, стационар не помог, дочь ее, вероятно, последует за ней, находится в госпитале с последней стадией дистрофии. В свое время Нинель уезжала в июле со мной при эвакуации детей сотрудников ГПБ. Я очень мучилась с этой девочкой, она была капризна в еде, яйца не ела, рисовую кашу на молоке не признавала, от сыра отказывалась. Теперь умирает от голода.    \\nЗаходила Каминер 31 марта, выглядит страшно, муж ее, вероятно, не вытянет, и она падает, вытаскивая его из могилы. Эта всегда кокетливая и нарядная молодая женщина теперь типичный дистрофик с обтянутым исхудавшим лицом, в носу копоть, на ногах огромные рваные галоши, т. к. распухшие ноги не влезают в обувь. Ее хлеб уходит в обмен на дрова, на рынок, все блага 1-й категории больному мужу, который третий месяц не встает. Она устала, измучена и голодна, голодна так, что, пожалуй, смерть любимого человека встретит с облегчением, ибо тогда можно будет съедать целиком свой хлеб, а может быть, и карточку мужа. При бюллетене свыше 2-х месяцев теряется право на первую категорию, она настолько боится получить на мужа голодную иждивенческую карточку, что при разговоре об этом расплакалась. Ей, пожалуй, не выкарабкаться, вид ее мне больше чем не понравился.    \\nСегодня, наконец, в отделе кадров узнала адрес Веры Петровны (В. о., 10 линия, 10 д., кв. 20) и с ужасом узнала, что ей оформлены карточки, и она за ними не явилась. Она страстно тянулась дожить до 1-го апреля, до карточки служащего (440 гр. хлеба вместо 300), и, если не явилась 1-го и 2-го, следовательно, ее нет в живых. Я слаба, мне, пожалуй, не доползти до В. о., и все-таки необходимо дойти и узнать, хотя я уверена в бесполезности хождения. 23 марта она была полутруп и едва ли прожила после прихода к нам еще два дня. А как человек карабкался! Два тома Шиллера купила, и убеждала меня развлекаться опереттой. Отчего у меня не проходит слабость и бессилие, непонятно? Талантливый Всеволод обеспечил семью на несколько дней хлебом. Впервые за время голода (с октября месяца) в нашей семье в течение трех дней не делится хлеб между членами семьи. Это небывалая вещь, это то, о чем исступленно мечтает каждый голодный ленинградец. И все еще отчаянная слабость, что же со мной было бы, если бы не Всеволод? Впрочем, известно, что должно было бы быть, смерть стояла около меня в середине февраля.    \\nЗаходил прощаться Казиницкий <com id=\"15248394341470\"/>, вид, конечно, отчаянный; пролежал 2 месяца с алиментарной дистрофией, эвакуируется в Саратовскую область.    \\nКак видно, апрель будет также тяжелым месяцем, смерть весной разгуляется, особенно в загаженном городе. Уборка идет, но сил так мало, что горы снега, льда и мусора не убавляются, кроме того, сегодня валил весь день снег и работы прибавил уйму.    \\nАпрельские надежды оказались пустыми: все разговоры о прибавке хлеба — вымышленными. Магазины пусты, огромный Елисеевский магазин пуст и темен, горят одна-две коптилки (окна все еще завалены песком от снарядов), тихо идет прикрепление. Выдач никаких не объявлено. Нам завтра есть абсолютно нечего, но я ложусь спать спокойно. Есть на завтра хлеб, около меня Всеволод, что еще надо? Я стала иной, беспечной.'])\n",
      "(16192, ['Это все я списала из книги издания 1917 года, которая наз[ывается] «Сеятель (первая после азбуки книга для чтения)». Я ее случайно обнаружила у соседки. Очень любопытная книжка. По ней в свое время и моя мама училась.  \\nМне очень нравится, что в то время детей с самого детства учили любви к родителям, к природе, добру. Мне хочется некоторое из этой книжки оставить себе на память. Я бы могла вообще попросить всю книжку, но ведь я и так беру с собой самое ограниченное количество вещей, а из книг только определитель растений, и то без переплета. Переплет слишком тяжелый, потом альбом птиц и «Птицы в природе». Больше ни одной книжки я не могу взять. Потому я и хочу то, что мне особенно нравится, переписать в свой дневник. Время у меня пока есть. Сегодняшний день мне надо как-то провести, а уж завтра, наверно, можно будет пойти устроиться на работу. Сегодня безоблачный, солнечный день. Только плохо то, что дует холодный ветер.  \\nВедь подумать только! Сегодня уже 13-ое апреля. Апрель, весна. Природа вся просыпается. А я и природы-то не вижу. Вот погоди, уеду в Горький, там еще теплее, там тоже и голубое небо, и то же, что и здесь, солнышко. Я, подумать только, увижу настоящую Волгу. Я смогу бродить по берегу Волги. Волга, Волга! Новые впечатления, новые люди, новые встречи, новая жизнь. Ой, скорей бы уехать из этого проклятого Ленинграда. Правда, это прекрасный, красивый город и я к нему сильно привыкла. Но не могу его больше видеть, а тем более любить. Город, где мне пришлось пережить столько горя, где я потеряла все, что имела. Город, где я осталась круглой сиротой. Город, где я познала весь ужас одиночества. Нет, этот город, его имя я буду всю жизнь вспоминать с содроганием в сердце. Скоро, скоро я уеду отсюда, и, надеюсь, навсегда.  \\nСейчас я по радио услышала, что Гриша тоже в числе награжденных. Подумать только, Гриша получит 100 000 рублей премии. Это ведь Гриша Большаков, друг юности моей мамы.  \\nСегодняшний день я прожила на 300 гр. хлеба и 140 гр. сухого гороха. Завтра буду иметь только 300 гр. хлеба. Неужели завтра нельзя будет еще идти устроиться на работу?  \\nЯ сегодня сложила свои вещи. Укладывала, перекладывала 100 раз, в конце концов получилось то, что я хотела. Две вещи: чемодан и сверток, причем сверток можно вложить в чемодан, и тогда у меня будет одна только вещь. Туда же, в чемодан, я уложила все приспособления для еды, и в чемодане еще есть свободное место. Но я его не буду заполнять, мало ли что придется положить. Хлеб, колбасу или какие другие продукты. Ведь подумать только, как обернулось все, даже сразу и не веришь. Осталась одна, уезжаю в другой город, 17 лет. И страшно, и сладко. Сладко, потому что я чувствую сейчас то, что никогда раньше не чувствовала. Чувствую полную свободу, свободу мыслей, действий. Я ничем ни с кем не связана. Что захочу, то и сделаю. Сейчас я переживаю очень ответственный момент в своей жизни. Я должна сама выбрать, как мне поступить, по какой жизненной дороге идти, выбрать раз и навсегда. Я могу остаться здесь, поступить работать, жить одной в своей собственной комнате. Это очень соблазнительно. Но я не могу вынести этого одиночества, быть окруженной чужими, равнодушными к тебе людьми. Нет, нет. Если бы я была немного старше, может быть, я и выбрала бы именно этот путь. Но я чувствую себя еще не совсем взрослой, но, конечно, и не ребенком. Нет, я чувствую, что мне еще рано жить совершенно самостоятельно, мне необходима пока еще помощь со стороны. И потом я хочу прижаться к кому-нибудь. Я хочу, чтоб хоть на немножко мне заменили бы заботу и любовь того любимого человека, которого у меня так безжалостно отняла судьба.  \\nЯ знаю, в семье у Нюры и Жени я не буду чужая. Я не должна ничем их стеснять, не предъявлять каких-либо требований. Это я прекрасно понимаю. Только временно я войду в их семью, буду сама зарабатывать деньги и вносить их в общий котел.  \\nА со временем я должна буду постараться обзавестись своей собственной комнатой и жить самостоятельно, не мешая никому. Какое это будет хорошее время! Я должна во что бы то ни стало дожить до него!'])\n",
      "(408080, ['Получил письмо от жены. Пишет, что рада, когда получает от меня письма. Конечно! Мне самому очень приятно, когда получаешь известие от любимого человека. Сразу вспоминается многое, настоящее на миг отходит в забытье, мир становится еще прекрасней и полней. И после всего этого сердце наполняется большой обидой за разлуку, обидой на коварного и бесчеловечного врага. Война нас не сделали тупыми орудиями смерти и разрушения, потерявшими чувства ко всему прекрасному — к природе, к человеку, ко всему созданному человеком. Наоборот, война научила нас глубже понимать природу, вещи, отношения; вселила в нас безграничную любовь к окружающему нас миру. И самое главное — война научила нас еще крепче любить и уважать человека и всеми силами своей души ненавидеть человекоубийц. Мы ненавидим немцев не потому, что они немцы, а потому, что они стали профессиональными убийцами, грабителями, насильниками, потому что они решили покорить нашу страну, сделать нас рабами. Восстановить в нашей стране средневековое варварство и мракобесие. Мы этого не хотим. Мы не хотим быть ни рабами, ни рабовладельцами, мы хотим быть свободными людьми. Наша цель ясна и благородна. Мы хотим счастья себе, своим близким и своим детям. Мы за это проливаем кровь и отдаем жизни. Вот почему нам так приятно, когда мы получаем письма от своих родных и узнаем о их благополучии. Это вселяет в нас силу, уверенность в побед , готовность драться еще сильнее и еще больше ненавидеть врага.'])\n",
      "(188130, ['Углем на стене.    \\nЧувство природы, возмещая отсутствие или утрату любимого человека («хороши вы, когда нет ее»), поднимает душу к Богу. Но душа двух любящих, соединенных в Боге, — есть сам Бог. (На молитве углем на стене при молитве о здравии Валерии.)    \\n              \\nПочему-то вспомнился Герцен, как смешной петушок, и это перекинулось на себя, как тоже по старой традиции попытка сказать будто бы что-то свое собственное, независимое от общей мысли, или, напротив, пребывающее где-то за пределами этого настоящего ложного общества — в народе.    \\nМежду тем, это истинное общественное мнение (народ) исходило от какой-нибудь небольшой кучки дельцов («Бесы»), тогда и теперь тоже от фракции, определяющей «генеральность» линии партии. Вот эта подчеркнутая рационализация личного самоопределения («разъяснение») создала в наше время не петушков, а «подхалимство».    \\nБыть петушком, как Герцен, упиваться самообманом теперь никто уже не может («Правда» бдительна). Потому что теперь все это разъяснено, все вывернуто до того, что сам зам. патриарха Сергий ездит в автомобиле к Чагину (еврею) в Гослитиздат и получает кремлевский паек. А Горький — разве это не трагикомический опыт выпрыгнуть личностью из предопределенного положения казенного «петушка». А Толстой Алексей Н., разве это не пример крайней упрощенности отношений личности и общества («подхалимство»).    \\nОстается нация, я — как русский, как преемник лучших представителей России, национальный писатель. И тут практический политик-еврей подставляет национальному представителю ножку, и тот падает в грязь. И национальный писатель не может подняться и дать в морду «жиду», потому что в лице «жида» вписаны законы великих пророков еврейского народа. Так что тут теперь никуда ни с чем своим не выйдешь в люди и всякую попытку надо бросить и ждать прихода нашего корабля в «Америку» Майн Рида. Так и плыви, писатель, помни, что вокруг тебя океан, и ты не можешь ходить по воде: сиди смирно, дожидайся, спускайся в каюту, поднимайся на палубу, питайся, покуривай, плыви, плыви в желанную Америку.'])\n",
      "(265632, ['Среда, 8 часов утра. В воскресенье утром я сидела в своем ярком полосатом халате в углу его комнаты на полу и штопала чулок. Бывают такие прозрачные водоемы, что на их дне можно все различить. Позволь спросить, не могла бы ты это выразить еще нелепее?    \\nЯ лишь хотела сказать, что жизнь с массой ее деталей, поворотов, волнений в этот момент лежала передо мной так же явственно, как если бы я стояла перед океаном, сквозь чью кристально чистую воду мне было видно все вплоть до самого дна. Прихожу в отчаянье, думая о том, смогу ли я действительно когда-нибудь писать? В любом случае еще очень далеко до того времени, когда я смогу описать вот такой высший момент моей жизни.    \\nСидишь на полу в углу комнаты любимого человека, штопаешь чулок и одновременно находишься на берегу могучего, огромного водоема, который настолько чист и прозрачен, что можно видеть его дно. Вот такое ощущение жизни в некий незабываемый ее момент. А сейчас я и правда думаю, что подхвачу грипп или что-то в этом духе. Этого не должно быть, я принципиально против. Мои еще мало натренированные ноги сильно устали от вчерашнего длинного пробега. А мне сейчас нужно еще раздобыть для Вернера удостоверение. Я войду в ту маленькую комнату наверху с той же самой приветливой невозмутимостью, как сделала это вчера для себя. И для зубного врача тоже уже пришло время. Сегодня много работы? Я тут же отправляюсь в путь. Никогда не знаешь, что уготовил тебе день, но это ничего, даже в это время не надо зависеть от того, что он тебе несет. Не преувеличиваю ли я? А если сегодня утром придет белая повестка? Кажется, депортация из Амстердама временно прекращена. Теперь началось в Роттердаме. Помоги им, Господи, помоги евреям из Роттердама.'])\n",
      "(188181, ['Вечер с лимонно-оранжевой зарей, холодная ночь и на восходе сам видел опушенный на морозе забор.    \\n              \\nВстал на знакомом месте и мне было хорошо. Так все мученья разрешаются: мученья в поисках выхода, страшит будущее, а придет этот час и так просто все разрешается в необходимость делать то, что нам надо. На этой психологической основе выросла вера в Промысел.    \\nВместе с тем это открывает глаза на вредную силу привычек и равно суетливых пред-забот и пред-планов с рассудочным их пред-разрешением. И привычки и пред-заботы необходимы и полезны, но нельзя им отдаваться до того, чтобы они владели тобой, поселяя ожидание чувства приятности от удовлетворения или страх в предчувствии их неисполнения. Наше время — суровый воспитатель.    \\nВот Ляля всю жизнь свою утром в постели страшилась вставать и каждое утро она с трудом принуждала себя входить в жизнь, и ей даже представлялось в этом, что не она — слабый и дряхлый духом человек, а жизнь ее недостойна. Теперь она по необходимости равняться с Дуней при затопке печки, встает до восхода, в пять утра, и говорит, что никогда в жизни не была так счастлива.    \\nДаже теща привыкла отвыкать от вековых привычек и постепенно начинает понимать нашу жизнь теперь, как переезд в новый неведомый мир. В этом содержится и утешение, пусть неизвестно, доедем ли мы туда, но и довольно того, что мы туда едем...    \\n              \\nБумажками и орденами можно ведь доказать то, чего в действительности нет.    \\n              \\nСобрать материалы о роли митрополита Сергия и с этого начать свой рассказ.    \\n              \\nВопрос [встает]: каким образом миновать рассказов о прошлом действующих лиц в поэмах и драмах, чтобы это не было в ущерб действию. Разрешен в «Бесах», в «Онегине».    \\n              \\nМороз и огурцы. Мороз был порядочный, солнце после мороза ожгло огуречные листья, они свернулись, почернели и все скрытые ими зеленые огурчики открылись.    \\n              \\nСон наяву. Наяву снится. Сегодня Ляля мне сказала, что удачная заготовка грибов, огурцов, капусты наполняет душу ее радостью, но только она подозревает, что эта радость происходит не от грибов и капусты, а от тайной уверенности в том, что война скоро кончится. — На основании чего же ты так думаешь? — Без всяких оснований, чувствую в жизни сейчас, как во сне: мне так снится и я этому рада. А ты помнишь сон мой перед началом войны, ведь сбылся же сон. Тогда во сне снилась война, а теперь наяву снится мир, почему бы не поверить?    \\n              \\nРодная могила. Сижу с перешибленным ребром, свалился в подвал, и думаю о положении Д. Н. Кордовского. Ведь ему, недвижимому, тяжелей, чем ей ходить за ним. А Ляля говорит, что это не так: и ему получать от любимого человека помощь в его положении неплохо, и ей ухаживать. — Как же иначе, — сказала Ляля, — другие даже без могилы родной не могут остаться, а тут...    \\n              \\nСудьба... — Все твои соображения о том, что вот-де люди обменяются друг с другом всем, чем могут, поклонятся, поблагодарят и разойдутся — все это относится к тем, у кого остаются возможности дальнейшего, но я, например, я до 40 лет не могла никого найти себе по душе и наконец нашла тебя, неужели я могу рассчитывать, что после тебя я еще кого-то найду?    \\n              \\nСмысл нашего сопротивления немцам. Коммунист это не русский человек и не еврей, потому что евреи слишком заинтересованы в коммунизме, а русские слишком много потеряли. Ближе всего к коммунизму немцы вроде Курелло. Вероятно, вот тут-то в этой возможности вскрытия революционной силы и таится смысл нашего отчаянного сопротивления и нерешительности англичан. Они хотят оба народа истрепать до потери сил к революции, но другие-то народы Европы...    \\nСказки можно по-разному рассказывать, и о коммунизме, и об анархизме, и о чем угодно, а все-таки смысл всех сказок сводится к одному: что какие-то сговоренные на идее своего благополучия люди играют судьбой как несознательных масс, так и высокосознательных, но не удовлетворяющихся благополучием личностей. Тут таится грозная опасность для взрыва в Европе и в этой надежде сила наших большевиков.    \\n              \\nМне снилось, что наша больная старушка, Наталья Аркадьевна, вынудившая нас согласовать свою жизнь с ее жизнью, и наша православная церковь, тоже насквозь больная старушка, похожи в своей судьбе: нельзя нашу старушку выбросить со счета, как пробовал сделать Раскольников у Достоевского, нельзя бросить Церковь, как сделал Толстой.'])\n",
      "(241021, ['За два месяца вторая запись!    \\nПишу в 9 час. вечера при лампе. Это роскошь, которую я себе позволяю очень ненадолго и не каждый день: читаю газету, когда ее имею, и изредка несколько страниц «Трех певцов своей жизни»<com id=\"1492437811141\"/>. Кончился месячник подготовки к зиме, когда по милости бюрократа Архипова все работники Исполкома отсиживали в здании с 9 утра до 7.30 вечера без выходных дней!.. Кому это надо! Месячник затянулся на два месяца, и за это время ленинградцы трудились от зари до зари, ломали дома на дрова, чинили крыши и печи, заколачивали и остекляли окна, ставили кирпичные времянки. 300 оконных проемов остеклили своими руками работники 10-й школы<com id=\"1492437811142\"/>, своими руками поставили во всех классах печи-времянки.    \\nА мы, кто по болезни или возрасту освобождены от тяжелой физической работы, сидели в учреждении по 11 часов без выходных дней. И все потому, что наш район отстает, как всегда. Отстает потому, что во главе его стоят «Архиповы» — жирные и телом, и душой, которые не нюхали того, что переносили честные «рядовые ленинградцы». Архипов, который на собрании актива в Райкоме так и сказал: «Надо и нам вступить в соцсоревнование, чтобы “и о нас что-нибудь написали”!». И это председатель Исполкома, «хозяин района». Никогда, наверное, за всю свою жизнь не забуду и не прощу ему и им подобный картины, которую я видела 30 августа. Женщины работали на разрушенной водопроводе на 15-й линии, с лопатами. Грязные и усталые, они рыли глубокий ров; тут же женщины ходили с пустыми ведрами, искали, где достать воды. Другие несли ее издалека и поднимали в 4-й, 5-й, 6-й этажи. Несли на себе в квартиры доски и бревна, несли мешки с зеленью, стирали и полоскали белье на улице у водоразбора...    \\nИ на фоне этой картины я вижу легкий, изящный автомобиль, подъезжающий к Исполкому. Жирная туша Архипова вылезает оттуда... букет цветов у него в руках, и, самодовольно улыбаясь, шествует он, не торопясь, в Исполком. Букет одной из этих накрашенных, завитых и наманикюренных «дам». Он даже не замечает, он не видит того, как живут и работают рядом с ним героические ленинградцы. Да, героические, после такой зимы, когда почти все оставшиеся в живых, превратились в тени, большинство едва передвигало ноги; эти ленинградцы делали невероятное, и, пожалуй, самым невероятным было то, что они остались жить, «жить назло Гитлеру», как сказала Варвара Васильевна (увы, она не выжила, подточило ее горе; о ней напишу на днях).    \\nНевероятным было и то, что они очистили эти кучи нечистот, которыми был покрыт Ленинград (я тоже участвовала в этом), покрыли его ковром огородов, трудясь с восхода солнца до работы на заводах и [в] учреждениях, трудясь после окончания работы. И это без водопровода, без канализации, без прачешных, почти без бань, на полуголодном пайке и под свистом вражеских снарядов. Это ленинградцы охраняли свои огороды, дежурили по ночам, и это у них воровали из-под носа, или попросту грабили эти овощи, взращенные с таким трудом, тоже ленинградцы. И тоже ленинградцы спекулировали этими ворованными овощами у булочных и на углах, и эти же ленинградки — жены военных — не хотели итти работать, потому что получали за мужей дополнительные пайки, умудрялись получать по две карточки «кормящей матери» и сдающих ее молоко в консультацию (такой случай выявила я, проверяя работу счетной конторы № 1). «Любимый город другу улыбнется»<com id=\"1492437811143\"/> поется в одной из наших песен. И слова «любимый город» я всегда относила только к Ленинграду. Любимый, как человек! И как близкого, любимого человека не можешь бросить больным и в беде, так нельзя бросить и тебя, Ленинград. Искалеченный, разбитый и опустошенный, ты еще ближе, еще дороже и любимее.    \\nКак я понимала тех женщин, которые на настоятельные предложения эвакуироваться с детьми в июле-августе 1941 г., кричали «умрем в Ленинграде, а не уедем». И умирали. Сколько их умерло! Сколько осиротевших детей, сколько умерших детей...    \\nИ это они же, «архиповы», укоряли меня в том, что я открыла недостаточно подготовленный детский дом<com id=\"1492437811144\"/>! Да, детский дом был неподготовлен! Еще на внутренней лестнице лежали трупы, еще покрыты были нечистотами коридоры и зал «комсомольской пожарной дружины», еще замерзающей водой мыли соседние комнаты, открывали рядом «дезкамеру», возили в бочке с Невы воду, таскали на руках тяжелые кровати с 17-й линии, проносили на руках или провозили на санках умирающих детей в только что вымытую комнату, где впервые за зиму топились печи. Клали их на тюфяки и закрывали тюфяками, чтобы согреть. «Дети спят без простынь», - ужасались Архиповы! Да, дети спят без простынь! Но они сыты (относительно), они вымыты, на них нет вшей, они в тепле; они взяты от трупов умерших матерей из нетопленных комнат, голодные, не евшие несколько дней.    \\n«Не надо было принимать детей, пока дом не будет готов». Ради чистых, белых простыней оставить умереть сотни детей! Ведь в день поступало от 20 до 30 сирот! Не принять их — значит оставить их дома на смерть или на улице на замерзание, или у батарей в Исполкоме, куда приходили подростки, жались к теплым трубам и засыпали у них, грязные, голодные, вшивые. Человеческая жизнь — или чистая простыня! «Архиповы» предпочтут чистую простыню!    \\nДа, я не возражала, когда мне предложили досрочно открыть детский дом! И если когда-нибудь в жизни придется мне в холодную, голодную блокадную зиму открывать детский дом, я не задержу его ни на один час ради блеска, уюта и ради похвалы.    \\nДети спят без простыней! Да многие ли ленинградцы спали тогда на простынях! В ожидании сигнала тревоги, разрывов снарядов, в наших комнатах, где считалось роскошью, если не замерзала вода, не бывавшие в бане в течение нескольких месяцев, живущие при коптилках и «буржуйках», голодные и холодные, мы спали, не раздеваясь, вот уже год! А вы, архиповы, не знаете этого. Вы думали о чистых простынях в феврале 1942 года. А Прилуцкий хвастал, говорят, на собрании белоснежными крахмальными воротничками. И ведь, говоря, не дурак! Есть и такие ленинградцы.    \\nПеречитала написанное и вижу, как еще скачут мои мысли и как все еще они крутятся около «Архиповых».    \\nЛюблю Ленинград, люблю ленинградцев и ненавижу «архиповых».'])\n",
      "(50976, ['Тускло горит в землянке коптилка, сделанная из консервной банки, трещат дрова в вырытой в земляной стене печке. А за дверьми сплошная завеса воды и ветра. Кажется, все, что есть на свете мокрого и холодного, обрушилось сюда, на эту тысячеметровую вершину. По стенам землянки стекают мелкие ручейки просочившейся воды, по натянутой сверху плащ-палатке уныло стучат дождевые капли. Мы натягиваем покруче палатку, потом завертываемся в шинели и поплотнее прижимаемся друг к другу, но это мало помогает. Все тело отчаянно зудит от нашествия вшей. Мы уже забыли, когда ходили в баню, когда меняли белье, поэтому наша борьба со вшами не достигает цели.  \\nДождь хлещет все сильнее и сильнее, холодный ветер врывается в дверь, в печную трубу. Едкий синий дым заволакивает землянку, глаза слезятся, трудно становится дышать.  \\nНо вот закрываются усталые глаза. Все мои мысли и чувства устремляются далеко-далеко, в мою родную Москву. Вот он, мой город, где я родился, вырос, учился. Здесь впервые узнал я, что такое любовь, дружба, теплая нежность любимого человека.  \\nРади Москвы, ради моего родного города идут сейчас кровопролитные бои, и десятки тысяч людей переносят неимоверные страдания. Нет, никогда грязный сапог немецкого солдата не будет топтать твои гордые улицы. Никогда ни один вражеский солдат не пройдет мимо твоих кремлевских стен. Москва принадлежит только нам, и нашей она будет вечно.  \\nПридет день, снова вернется в Москву светлая, веселая весна. Снова улицы Москвы озарятся тысячами электрических солнц. Навсегда затихнут орудийные залпы и рев вражеских самолетов над моим городом. Будет этот день!  \\nМы соберемся вместе. За стаканом хорошего вина вспомним былые бои и военные дороги. Вспомним и эту грязную и мокрую землянку. Но все это будет уже в прошлом. За окном будут ласково шелестеть зеленые ветви деревьев, и загорится радостными огнями наш Центральный парк культуры и отдыха. А майским вечером мы снова будем слушать концерт в зале имени Чайковского. Торжественно и величаво раздадутся первые звуки рапсодии Листа. Мы вспомним былые тревоги, гул и разрывы авиационных бомб, залпы артиллерийских орудий. «Да, все это было, было, — скажем мы. — И мы сумели пережить и победить это». И улыбнемся, гордые своей силой. А потом загремит музыка, начиная светлую увертюру жизни, и звуки ее потонут в радостном громе аплодисментов. Мы снова услышим любимые мелодии Чайковского. Будет этот день!  \\nА пока мы стерпим все эти лишения и дожди, и холод, и грязь, и вшей. Будущее за нами. Москва встретит нас победой.'])\n",
      "(50984, ['Новый год. Третий год, который мне приходится встречать в армейских условиях и второй — в условиях войны. Но тогда у меня все же было кое-что, чем можно было хоть как-то отметить встречу. На этот раз не было ровным счетом ничего, даже куска черного хлеба.  \\nЗато наше начальство устроило грандиозную попойку с борделем. Напились все так, что бойцы комендантского взвода вытаскивали их всех из штабного убежища как покойников. Наш помощник начальника разведотдела Гусятков приплелся, вернее, был дотащен труп трупом. Несколько раз его рвало, так что нам с Толей Гречаным из чувства самосохранения пришлось ходить по чужим шалашам, чтобы как-нибудь пересидеть эту «приятную ночку».  \\nА Новый год встретил я во сне (надеюсь, он простит меня за это невольное неуважение). Во сне и поднимал свои новогодние тосты.  \\nМой первый тост был за самого близкого и любимого человека, чье чувство ко мне никогда не сможет изменить ни расстояние, ни время, кто не досыпает ночей, думая обо мне, кто часто роняет из-за меня дорогие слезы, кто живет моими письмами, маленькими весточками из этих диких гор и лесов.  \\nМой первый тост был за мою мать. Что может сравниться по силе и глубине с материнской любовью? Какими жалкими и ничтожными кажутся по сравнению с этим чувством все клятвенные заверения и уверения в своей беспредельной и нераздельной любви этих... лучше не вспоминать о них в этот новогодний день.  \\nВторой тост был за тот грядущий день, когда мы вернемся к себе домой в наши родные города, к нашим любимым и близким людям. Этот день должен прийти в наступившем сегодня году. Это будет день нашей полной победы.'])\n",
      "(56549, ['Делал выписки из книги, данной мне Галиной Георгиевной: «Если неизвестно, насколько чувство встречает отклик в сердце любимого человека, тогда следует, сосредоточив все свои мысли на нем, среди глубокой тишины ночи произносить следующее...» Сегодня я нигде не был. К нам явились Сапунковы. Я ушел пройтись. Отец просил Сапун- ковых перебраться в освободившуюся квартиру в нашем доме.'])\n",
      "(365562, ['Среда.   \\n### «Брызги шампанского»    \\nУтром получил перевязочный материал и медикаменты. В медсанвзводе появилась новая женщина — жена бригврача Джатиева, военфельдшер. Откуда-то перевел ее. Высокая, яркая, светловолосая — крашенная перекисью, с тремя кубиками в петлицах. Познакомился. Зовут ее Ниной, несколько полноватая, лет под сорок. Здорово иметь рядом с собой женщину, жену, даже в таких условиях. А может быть, и плохо, если очень любишь. Подвергать таким опасностям любимого человека может только эгоист. Вакантных должностей в медсанвзводе нет. Как-то определил ее. Шура представила меня ей как воздыхателя Майи. Становлюсь объектом шуток, а как сам понимаю, громоотводом. И надо с этим смириться. Вот прошла рядом Майя, кивнула и даже не подошла к нам.    \\n— Могу ли я после этого быть воздыхателем? — указал я на ее удаляющуюся фигуру.    \\n— Не только воздыхателем, но и поедателем уже пора быть. А вы все скромничаете, — не унималась Шура.    \\n— Как съешь это существо? Этой мадонной только любоваться.    \\n— Вы любуйтесь, а съедят ее другие, — проговорила Шура. Мы рассмеялись.    \\nСильно вьюжило. Намело сугробы, трудно было идти в валенках. Мороз несколько ослабел, но при влажном ветре пробирал насквозь.    \\nПосле обеда, по окончании перевязок и приема больных, решил пройтись в поисках более полноводного колодца. Сегодня утром каша похрустывала песком, как-то сошло, но дальше допускать такого уже нельзя. Посмотрел еще пару колодцев в этом районе поселка, вокруг них стояло много частей, и узнал, что к завтраку уже вычерпывали всю воду.    \\nНа обратном пути шел уже в сумерках. Проходя мимо одного дома, услышал музыку. Из неплотно затемненного ставнями окна виден был полосками свет, и слышна была знакомая мелодия танго «Брызги шампанского». Я невольно остановился.    \\nДо войны у меня был патефон с клепаной-переклепаной пружиной и с десятком пластинок. Среди них были и «Брызги шампанского», а на обратной стороне «Три поросенка» — быстрый танец — популярный фокстрот. В нашем классе патефон был только у меня, что делало меня «первым парнем на деревне». Если у кого из соучениц был день рождения или другой повод, меня приглашали из-за патефона, конечно. Мы собирались в доме именинницы с согласия родителей на чай с вареньем и пирогом. Гвоздем программы были танцы, и главным гостем был патефон. Так под эту знакомую мелодию я вернулся в прерванную войной гражданскую жизнь. Как бы трудно мы ни жили, а вспоминалась, как прекрасная сказка. Я даже не заметил, как меня уже порядком обсыпало снегом. Мои мысли прервала какая-то старушка в ватнике, пуховом платке, из-под которого почти не было видно лица. Откуда она взялась здесь?    \\n— Чего стоишь, сынок?    \\n— Музыку слушаю. У меня дома тоже был патефон и такая же пластинка.    \\n— Заходи в дом, согреешься и послушаешь.    \\n— А можно?    \\n— Конечно можно, отчего же нельзя.    \\nЯ пошел за ней. Открыла калитку, пропустила меня и пошла к крыльцу. Я смел снег с валенок. Провела меня через сени в большую комнату, в которой располагались военные. Остановился у порога, снял шапку, поздоровался.    \\n— Вот стоял под окном и слушал музыку, окоченел весь, снегом почти всего засыпало. Завела согреться, — сказала она всем и обратилась ко мне: — Проходи, снимай шинель.    \\nЯ откашлялся, еще раз поздоровался и стал пересказывать ту же историю:    \\n— У меня дома тоже был патефон и пластинки точно такие: «Брызги шампанского», «Три поросенка», и другие, — старался я им объяснить и перекричать раздававшуюся музыку с залихватским хохотом «Трех поросят…» Я все еще стоял у порога, осматривался. Одна большая комната. Под потолком висела керосиновая лампа. Справа топилась русская печь, а за ней стояла пышная с большим количеством подушек никелированная кровать. Слева от порога — пирамида винтовок, минометы, противогазы, шинели и еще какое-то имущество, сложенное кучей, и дальше железная односпальная кровать, накрытая одеялом. Посредине, ближе к окнам — большой стол, на котором стоял патефон. Вокруг стола на скамейке и табуретках сидели красноармейцы, в большинстве пожилые, и младшие командиры.    \\nСтарушка, не раздеваясь, вышла из комнаты. Ко мне подошла девушка лет шестнадцати.    \\n— Меня зовут Любой, — сказала она и спросила: — Ты танцуешь?    \\n— В школе, бывало, танцевал и у подруг знакомых, — ответил я.    \\n— Потанцуем?    \\n— Можно, — пробормотал я, — прямо так? — и я показал на шинель, валенки…    \\n— Снимай шинель.    \\nОна сбросила валенки, влезла в туфли на высоком каблуке, подошла ко мне и доверчиво положила левую руку мне на плечо, а правую в ладонь мою.    \\nКрасноармейцы подкрутили пружину патефона, поставили головку на начало пластинки. Под мелодию «Брызги шампанского» мы медленно начали танцевать. Люди расступились, освободили нам больше места для танцев. Ноги в валенках не очень были послушны, еще не отошли от мороза, но во время танца стали отходить, почувствовал, что теплеют. Теплее стало и от прильнувшей ко мне Любы. Голова ее была приподнята и подбородком касалась моей шеи. Светлые волосы, рассыпанные по спине, достигали до моей руки, лежавшей между ее лопатками. Смотрела на меня голубыми неулыбающимися, грустными глазами.    \\nПластинка кончилась, и кто-то поставил ее сначала, и мы продолжали танцевать. Как попала сюда эта девочка-школьница? Кем ей приходится эта старушка? Я решил спросить ее об этом.    \\n— Как вы сюда попали? Гражданских выселили отсюда еще в прошлом году.    \\n— Мы жили в Сталинграде. Мама учительница. Отец пошел в ополчение. Когда началась массированная бомбежка города 23 августа, мы с мамой спустились в подвал дома, где просидели до утра следующего дня. Наш дом оказался разрушенным бомбой, и жить в нем уже было нельзя. Кое-что подобрали из зимних вещей и отправились к Волге в надежде переправиться на левый берег. В Омске у нас родственники, и надеялись добраться к ним. К переправам нас не допускали. Их бомбили, все горело вокруг. Скопилось много войск, беженцев, местных жителей. Соседи из нашего подъезда несколько дней протолкались здесь и не смогли переправиться. Убедились, что и нам переправиться не удастся, и пешком ушли сюда к тетке. Но семью ее здесь не застали. Дом был заколочен. Мы остались с мамой тут жить. К счастью, в погребе была оставлена картошка и еще кое-что, а то бы умерли от голода. Вскоре нас захватили немцы. Потом наши освободили, и пока живем здесь. Куда деваться? Где-то отец воюет, если жив. Живем надеждой, что найдет нас.    \\nТак, в танце, я узнал ее историю. Мелодия не прерывалась, была бесконечной. Я плыл где-то в облаках, согрелся. Знакомая мелодия, близость Любы, благожелательные лица воинов, дом — увели меня от действительности. Зашла старушка, сбросила охапку дров, сняла платок, ватник, и я увидел еще молодую женщину лет тридцати пяти.    \\n— Оказывается, партнера тебе нашла, Любушка. Танцуйте, дети, танцуйте. Дело молодое.    \\nМелодии не было конца, как и танцу. Я уже давно подумывал, что нужно остановиться, но первым не мог решиться. Наконец, мелодия прервалась. Перевернули пластинку на другую сторону, и раздалась быстрая, под фокстрот музыка и песня «Трех поросят». Мы стали танцевать фокстрот. Хватило меня еще на один раз, после чего остановился. Мне было очень жарко. Я уже был мокрый. Портянки в валенках сбились комом, и я сдался, попросил пощады, отдыха. И Люба вся разрумянилась, глаза повеселели. Сказали комплименты друг другу, красноармейцы нам аплодировали, а я присел на табурет и стал перематывать портянки. Зашла мать Любы, внесла чугун картошки и поставила в печь.    \\n— Картошку вареную скоро будем кушать, — сказала она мне. Я заторопился, стал одеваться.    \\n— Куда же ты, картошку будем кушать, посиди.    \\n— Я скоро приду, обязательно приду. К своим надо, и скажу, где я буду.    \\nПобежал к себе. Снять пробу ужина уже опоздал. Надеялся, что пройдет как-нибудь. В амбаре разыскал старшину, сказал, что встретил знакомых, и попросил у него буханку хлеба и банку консервов. Он дал мне. Я опять побежал в этот дом. На столе уже исходил паром чугун с вареной картошкой. Стояли банки консервов, лежал хлеб, лук. Я добавил свой хлеб и консервы. Раздвинулись, и я присел к столу. Зашел старший лейтенант, видно их командир, немолодой уже. Противогаз и планшет положил на железную кровать, туда же положил шинель, ремень с пистолетом надел поверх гимнастерки и сел к столу.    \\nРазливали какую-то спиртовую жидкость. И мне немного досталось — от большего отказался. Посидел, как среди своих, хотя этих людей никогда не встречал. Военная обстановка, суровые условия быстро сближали людей. Это было какое-то минометное подразделение, которое днями, как и мы, временно остановилось здесь. И их ждет в самые ближайшие дни горячее дело.    \\nПосле ужина опять запустили патефон. Крутили две стороны этой одной-единственной пластинки, которая сохранилась у них. И еще танцевали. Это был удивительный вечер танцев под две мелодии, которые подолгу звучали и попеременно сменялись по настроению и инициативе танцующих.    \\nКак только раздались звуки танго, командир этого подразделения пригласил Любу. Она посмотрела на меня и пошла танцевать. Красноармейцы сдвинули стол и табуретки к стенам. По окончании мелодии командир церемонно поблагодарил Любу, сказал всем: «Танцуйте, а я покурю», — накинул на плечи полушубок и вышел в сени. Кто-то подкрутил патефон, и мелодия танго продолжалась. Пошли танцевать красноармейцы друг с другом. В большинстве своем в валенках, некоторые в сапогах, кто умеючи, кто и неуклюже, расслабленные ужином, алкоголем люди как-то отвлеклись от военной и суровой действительности, вспомнили довоенное время, родных, близких. Выходили курить, некоторые сидели, разговаривали, делились воспоминаниями. Люба почти с каждым перетанцевала. Мама отказалась танцевать, я несколько раз вставал, когда Люба приглашала, но большую часть вечера проговорил с Любиной мамой, красноармейцами. Мелодия, сопровождавшаяся хохотом, всем нравилась, вызывала умиление на лицах и улыбки у присутствующих при каждом исполнении. А прокрутили ее, только в моем присутствии, может быть больше десятка раз.    \\nКак ни хотелось, а надо было уходить. Поблагодарил хозяйку и стал надевать шинель. Хозяйка спросила, где я остановился и удобно ли там спать. Сказал, что спали в землянке, но ее отобрало начальство побольше, и пришлось прошлой ночью спать в амбаре на носилках — мерз всю ночь.    \\n— Оставайся у нас ночевать.    \\n— У вас негде, и так много людей.    \\n— Оставайся, устроимся как-нибудь, зато в тепле будешь.    \\n— Оставайся, — присоединилась и Люба.    \\nЯ не стал заставлять их долго себя упрашивать и сказал:    \\n— Спасибо, приду. Скажу только, где я буду, чтобы нашли, если вдруг понадоблюсь. Мало ли что.    \\n— Приходи, сынок, устроим.    \\nЯ побежал в темень ночи к себе. Другой мысли не было, как вернуться к этим людям. Встретил старшину транспортного взвода «Крошку» и сказал ему, что остаюсь ночевать у знакомых, попросил пойти посмотреть, где этот дом. На всякий случай, если вдруг срочно буду нужен.    \\nИ мы со старшиной пошли к дому моих знакомых.    \\n— Там женщины? — спросил он.    \\n— Да, мать и дочь, и полный дом красноармейцев.    \\n— Мать ничего еще?    \\n— Мать, как мать, — ответил я, не сообразив, о чем он.    \\n— Может, и мне там место найдется возле кого-нибудь из них, — ехидно улыбаясь, спросил он.    \\n— Нет, старшина, об этом речи быть не может, — стало доходить до меня, — там только одна комната и полно людей, даже не знаю, куда меня уложат.    \\n— Ладно, разберетесь там, а завтра вместе зайдем. Желаю успеха.    \\n— Какого там успеха, хоть в тепле пересидеть.    \\nНигде не запиралось в этом доме. В темных сенях на ощупь я нашел дверь в комнату, открыл ее. Фитиль лампы был прикручен, но рассмотрел, что весь пол был занят лежавшими людьми. Хозяйка вылезла из-под одеяла, подошла ко мне, взяла за руку и повела к кровати, где она с дочерью лежали. Услышал ее шепот:    \\n— Думала, что уже не придешь. Раздевайся, клади одежду на табуретку. Спать будешь с нами.    \\n— Как так?! Я на полу…    \\n— Не разговаривай, раздевайся до белья и ложись.    \\nЯ разделся до белья, одежду свою сложил на табуретку у кровати. Она стояла возле меня, пока раздевался, затем взяла за руку, залезла под одеяло и потянула меня.    \\n— Ложись и спи.    \\nЛюба сдвинулась к стенке, мать посредине кровати, и я оказался с краю.    \\nНичего не успел сообразить, как я провалился в мягкую теплую постель, оказался накрытым легким пуховым одеялом и, самое невероятное, что и представить не мог, лежал рядом с женщиной и ее дочерью. Лежал на спине и не дышал — перехватило дыхание. Чувствую, что задыхаюсь, не хватало воздуха, и приходилось с промежутками делать глубокие вдохи.    \\n— Успокойся и спи, — проговорила мать.    \\nУ меня стала болеть спина и мышцы на ногах от скованности, напряжения. Пожалуй, я уже дышал, и воздуха стало хватать, но не смел повернуться или подтянуть ногу, боясь задеть хозяйку или разбудить ее. Долго не мог уснуть. Вокруг раздавался разноголосый храп, стоны, вскрикивания уставших людей, заснувших тревожным сном в неудобных позах, в одежде, и, может быть, это была у них одна из более удачных ночевок в тепле, в этих зимних фронтовых условиях. Через какое-то время услышал посапывание рядом уснувшей женщины. Временами стонала, что-то говорила сквозь сон. Любы не было слышно. Видно, с самого начала безмятежно уснула.    \\nДолжно быть, под утро уснул. Возможно, еще во сне почувствовал над собой дыхание и пронизывающий меня взгляд. Кто-то очень осторожно раскрывал мне пальцами глаза, и встретился со смотревшими на меня в упор большими голубыми глазами. Казалось, что вижу сон, но вдруг все вспомнил. Оглянулся: красноармейцев уже не было, через ставни пробивался полосками дневной свет. Давно, должно быть, наступило утро. Я проспал снять пробу с завтрака. Лежу в белоснежной пуховой постели рядом с уставившейся на меня девчонкой:    \\n— Соня, пора вставать, — и видя мое удивление, замешательство, залилась громким непосредственным детским смехом, которого уже давно не слышал, и сквозь смех промолвила: — Заспался, как у мамы дома… Целый день решил спать… Может, тебя уже ищут…    \\nЯ вскочил в своем солдатском белье с завязками и стал быстро одеваться. Трудно удавалось влезть в теплое белье и завязать все завязки, которые были вместо пуговиц, как на поясе впереди, так и внизу у стоп.    \\n— Куда ты? Полежи еще. Чего испугался? Все равно опоздал на всякие там построения.    \\n— Какие сейчас построения? А где красноармейцы?    \\n— Уехали. Не слышал?    \\n— Нет, может, и наши уехали, — и я продолжал торопливо одеваться. Завязки все не удавалось завязать. Как-то оделся и бросил:    \\n— Спасибо, — и побежал к дверям, остановился, оглянулся. Она сидела, свернувшись калачиком под одеялом. Светлые волосы красиво растрепаны. Я вернулся, чмокнул ее в лоб, глаза, на ходу промолвил:    \\n— Маме спасибо большое передай, вернусь еще, обязательно вернусь, если можно будет, — и торопливо ушел из дома.'])\n",
      "(188514, ['Преодолевая грипп, выхожу.    \\nВчера узнал о состоявшемся Соборе и выборе Сергия патриархом. Самая ретивая антисергиянка при глубоком разборе времени не решились стать на раскольничий путь: — Но в церковь ходить пока не могу: слишком свежа кровь на руках патриарха.    \\n              \\nОбращение Коноплянцева: у него это в крови было, вошло к нему православие в кровь вместе с церковными напевами, а старушки церковные — да это же его елецкие тетки родные: среди них он как в семье. И у всех-то них, множества таких православие выражается в такой смягченности духа, в какой-то приятной бытовой форме смирения с несколько, пожалуй, отрицательным отношением к трагедии: это, мол, взял Христос на себя — там у Христа или тут в Церкви Христовой это уже сделано, и к этому верующему человеку и надо припасть с сокрушением, а чтобы лезть самому на трагедию, как интеллигенты — это или болтовня суетная, или зло (интеллигентщина).    \\n              \\nВчера у Ляли была выходка против меня, ничего не значащая в существе своем и для нее непонятная в своем давлении на мой дух. Впрочем, я и сам всегда это знаю: ничего не значит! — но почему-то я очень страдаю. Дело в том, наверно, что я почитаю в себе какое-то идеальное существо, идеальное «Я», почитаю и культивирую с первого моего сознания (я — герой). <*Приписка\\\\* NB. Православие против героя.> Это внутреннее самосознание иногда встречается с тем, что в этом внутреннем образе видят люди со стороны. Особенно это резко было, когда Илья Валуйский при встрече со мной осветил мне, как свидетель, мое поведение в 4-м классе гимназии в отношении Розанова. Я почитал себя героем, почти что пострадавшим за грех мира, а оказалось, я был просто отвратительный мальчишка, получивший вполне по заслугам.    \\nА еще было с моей Загорской семьей. Ведь я больше тридцати лет прожил с ними, и ни Петя, ни Лева не могут привести хотя бы одного примера моей несправедливости к ним, моей родительской ошибки в наказании: я никогда их не наказывал, жил как с товарищами и, помню, раз на охоте, усталый, пошел с чайником далеко вниз за водой только потому, что на меня выпал жребий. Мне все время казалось, что дети должны бы меня бесконечно любить. Но когда пришло испытание, они стали против меня, и я увидел ясно, что они меня совсем не понимают и только пользуются мной как источником их радостного благополучия. Тут и вскрылось, что такое мое благодушное отношение к детям было вовсе не подвигом, а баловством и мне самому давалось легко и доставляло самому удовольствие. И вся моя жизнь с семьей оказалась какой-то охотничьей поэмой, но никак не подвигом (вот православие-то и является коррективом такому геройству: там настоящее, а мы — шалуны).    \\nТак вот почему, когда у Ляли бывает выходка, я серьезно расстраиваюсь: в это время мне кажется, что и Ляля является женщиной моего воображения, что она хороша, поскольку я творю ее, но я так много вложил в эту мечту, я всего себя вложил и с верой своей в Бога и в чудо. И когда колеблется этот образ, то и все колеблется, и я сам никто... И под конец всего приходит мысль о конце: вот где последнее испытание, вот где ens realissimus*, т. е. не в самом конце, а в том деле, которое венчает конец (Finis coronat**). Это я чувствую, и это меня обращает к действию, к борьбе.    \\n              \\nПроведя день и переспав ночь на 13 Сентября, — пишу:    \\nвсе это терзание похоже, как будто человек точит нож на свое счастье. Да так это и надо, только при этом надо, чтобы нож не попадал в любимого человека (как в ревности). Нож счастья должен быть направлен на узы, останавливающие движение духа, и в этом случае, конечно, узы мои в себе самом.    \\nМежду прочим, мои выходки происходят исключительно из попыток выйти в несродную мне область прямого воздействия на среду: я могу воздействовать лишь путем примера творчества образа, воздействующего косвенно, но не прямо в определенное лицо (я не педагог).    \\n              \\nВ природе нет ничего такого, чего нет в человеке: зайцы, крокодилы, цветы, червячки, — все, все это есть и в нас. Но в человеке, в личности есть нечто не существующее в природе. Так точно и в обществе, казалось бы, не должно бы содержаться такого, чего нет в личности, но мы знаем обратное: общество действует часто силой, которая отсутствует в лицах, его составляющих («сила греха»). Личность, имеющая определение в Боге, имеет против себя эту силу легиона (дьявола).    \\n              \\nНочью царь Петр приходил ко мне как определитель коммунизма.    \\n              \\nВ каком ужасном бедствии Италия! а занятие немцами Рима и создание мир[ного] правительства — это похоже на удар ножом в себя: после Дании стало определенно плохо положение немцев, а после Италии — началась агония.    \\n              \\n<*На* *полях*: Самый глубокий тыл — это ребенок, и пусть он и не далеко от фронта и даже на самом фронте, но детская душа, если она действительно детская...>    \\n              \\nВчера приходил Яковлев, рассказал, что находит утешение писать в Информбюро очерки по 4000 букв по 150 р. Пишет он о тягости жизни народа, нашел семью, живущую в ящике. Можно сказать в точности, что он сам как писатель живет в ящике. Но одну вещицу о детях я должен тоже туда же дать и потом напечатать в «Красной звезде».    \\n              \\nВ четверг 16-го предполагаю выехать с Петей в Усолье и там ожидать Лялю на грузовике.    \\n              \\nГоворили о Скрябине, что держал в уме музыкальным действием перестроить мир. Кажется, сумасшедший? но кто из настоящих художников, может быть, и бессознательно, не живет этой мечтой. И может быть, оно так и происходит с извечности: личности производят свет, и все, ими сделанное, ложится в свет, а легионы создают тень, и все их ложится в тень.    \\n              \\nВ субботу у нас была Хорькова, инспектор нежилых построек. Обещалась найти мне гараж, а я подарил ей «Жень-шень». Сегодня мы с ней ходили смотреть гараж. — Вы прочли «Жень-шень»? — спросил я. — С большой радостью прочла, — ответила она, — а что эта женщина возле вас, — это ваша дочь? — Нет, представьте себе, это моя жена. — Она много моложе вас. — Это ничего, наш брак не во времени, это ведь женщина из «Жень-шеня». — А! понимаю: там две женщины, это ведь первая. — Да, первая, но она пришла после второй. Она пришла, когда я написал книгу, пришла сказать мне, что книгу поняла как призыв. — Вот и я так поняла. — Вы так поняли? это прекрасно, и я, значит, могу вам сказать, что это пришла действительно та самая женщина, которую я вызывал. Ее приход был для меня победой над временем, как я вначале вам сказал.    \\n              \\nПо приезде в Усолье вопьюсь в материалы «Падуна» и начну работать на ходу. Присоединить в «ком» Вл. Евг. Филимонова (его стихи тоже).    \\nКом людей, который навертывался при постройке канала, в настоящее время вырос в Ком, разбивший немцев. Помнить, что коммунизм как механизация государства — это не все: ведь механизация и у немцев, но «Ком» разбил немцев. Этот какой-то плюс (или минус) надо открыть в людях действующих.    \\nРабота должна быть направлена к освобождению себя от «мыслей»: так освободиться от «мыслей», чтобы осталось только движение, увлекающее за собой даже простейшего читателя. Это путь «будьте как дети».    \\nЦентральная мысль — это «да умирится же с тобой и покоренная стихия», т. е. творчество мира.    \\n              \\nДела до отъезда:    \\n1) Заправить дело с ордером на гараж (остальное поручить Ляле).    \\n2) Сходить в Информбюро (позвонить) завтра.    \\n3) Военное общество: порох (откладывается).    \\n              \\nNB. По примеру, как было в работе по фотографии, взять всю работу по архиву, т. е. размещение всех приходящих бумаг, рукописей и т. п. в свои руки.    \\n              \\nГоворят, на рынке появились страшные люди, это инвалиды с костылями, сидят и чуть что — костылем (кому костыль, кому орден).    \\n              \\nРешено выехать в четверг 16-го мне с Петей на заготовку овощей, а Ляля приедет на грузовике между 20 и 25. По приезде Ляли отправляем тещу с грузовиком, а сами в Ярославль.    \\nИтак, мы выехали из Усолья в четверг 19 Августа и возвращаемся в четверг 16 сентября. За этот месяц без 3-х дней сделано следующее:    \\n1) Ремонт квартиры.    \\n2) Освобождение Пети (шофера).    \\n3) Добыча хвостовика и пр. ремонт машины.    \\n4) Гараж в Москве (свой).'])\n",
      "(104326, ['##Действующая армия    \\nВ лесу, где мы живем, хорошо. Ребята построили для меня с Марией Сергеевной маленькую землянку, где мы неплохо устроились. Но порядки в медсанбате все более суровеют — никуда нельзя отлучиться (как раньше, например, сбегать в лес), никаких подмен дежурств, ежедневно по два часа строевой подготовки (для парадов нас, что ли, готовят или для строевой службы?), собрание следует за собранием. Может, это надо перед будущими боями, чтоб мы не расслабились в короткие дни затишья?..    \\nНо у меня есть утешение и в этой «муштровой» (не совсем обычной) обстановке. Приходят письма из Москвы. От любимого человека, с которым соединила свою судьбу. Я думаю о нем, пишу письма, мечтаю о скорой встрече. Уже начала хлопоты о подготовке документов к отъезду в Москву. На руках документы из МГУ, чтобы отчислили для продолжения учебы. Справка от врача тоже скоро будет получена...    \\nМама Дмитрия прислала мне недавно письмо, где малограмотной рукой выразила срифмованно свои чувства. Очень трогательно читать их. Хорошо, тепло становится на душе от ее искренности, от простоты чистой, большой души обыкновенной, наверно, совсем никогда в жизни не учившейся русской женщины. Вот это небольшое стихотворение.    \\n          \\n>*Премного* *я* *вам* *благодарна*     \\n>*За* *ваш* *теплый,* *сердечный* *привет.*    \\n>*Я* *пишу,* *и* *мне* *так* *приятно*     \\n>*Написать* *вам* *скорее* *ответ.*    \\n>*Мы* *не* *знаем* *друг* *друга* *в* *разлуке,*    \\n>*Будем* *с* *вами* *заочно* *друзья,*    \\n>*Ваши* *первые* *близкие* *звуки*     \\n>*Мне* *напомнили* *трель* *соловья*     \\n>*И* *в* *душе* *пробудили* *желанье*     \\n>*Видеть* *милых,* *любимых* *детей.*    \\n>*Жду* *с* *волненьем* *минуты* *свиданья,*     \\n>*Счастливых* *и* *радостных* *дней.*    \\n>*Тогда* *радостью* *сердце* *забьется*     \\n>*И* *невольно* *прольется* *слеза,*    \\n>*Когда* *милый* *сынок* *мой* *вернется*     \\n>*И* *его* *молодая* *жена.*    \\n>*Ваша* *вторая* *мама<com id=\"145914265541\"/>.*    \\n'])\n",
      "(419595, ['Ездил с Митрашей в Пушкино смотреть дачу: не поездка, а разрыв (все пуговицы оборвали и чуть только не задушили, вся Москва едет в Пушкино на базар). Снега там нетронутые. Мартовские морозы держат.    \\n             \\nВечером спор Ляли с Удинцевым о церкви. Я сравнил их «умонастроение» в отношении сергиянской церкви<com id=\"153591619414347\"/> с душевным состоянием молодой женщины, потерявшей на войне любимого мужа и встретившей нового, за которого и надо бы выйти замуж, но совестно ввиду близости кончины любимого человека.    \\n             \\nВечером на минуту пришел в военной форме Петя, улетающий завтра в Померанию<com id=\"153591619414348\"/> за лисицами. Узнал от него, что Катынский тоже едет за ружьями.    \\n             \\nУзнал от Бор. Дмитр., что речь моя в Литмузее о Толстом за упоминание Ремизова подверглась в партии особому разбору и осуждению. (Раз Ремизов в «Правде» разъяснен как эмигрант, то как можно упоминать его имя, и Толстого называть учеником Ремизова!)    \\nИ теперь вспоминая прошлые свои выступления, я делаю вывод, что мое особое мнение, производившее шум, в конце концов, приносило мне пользу, создавая хорошее положение советского юродивого, и обеспечивало тайное уважение всех. Я сделал в советское время редкую карьеру независимого человека. И в этот раз после криков против меня были и такие голоса: «Пришвин завоевал себе право говорить независимо от “Правды”».    \\n             \\nТак теперь сложилось, что любить женщину нельзя, не подумав о том, что она подослана от НКВД, равно как нельзя и Богу молиться в церкви и говеть без мысли о том, что священник — филер.    \\n— Ну, и что же из этого, — сказал Н., — если женщина такая филерствует в пользу любимого.    \\nДа и вообще филеры неприятны для политиков (интеллигенции «честной»). Действительно же независимый человек (взять И.П. Павлова) вовсе не боится филеров, скорее они его боятся. Так что нынешнее явление двуликих людей есть явление формы среднего человека. Что же касается независимых единиц, то они в одном и том же числе пребывают всегда. Скорее всего, независимые личности похожи на семена в разных стадиях: лежат они, как зерна, в амбаре в ожидании сева, или пребывают в состоянии «спящих почек», или брошены в землю, прорастают.    \\n             \\nНовые сказки.    \\nПисьмо опоздало. Женщина получила с фронта от мужа в подарок ящик туалетного мыла. Мыла мне выдают довольно, — подумала она, — продам-ка я. И на базаре продала весь ящик, оставив себе три куска. А когда пришла домой, получила от мужа письмо об этом мыле: внутри мыла — золото. Она вскрыла один кусок — золотые часы, вскрыла другой — золотые серьги, третий — цепочка.    \\nПродолжение мое: купив кусочек мыла столь хороший, некто его не тратил, а менял на что-нибудь и пустил дальше...    \\n             \\nНачалась борьба с Ватиканом<com id=\"153591619414349\"/>, заступником фашизма под предлогом христианской помощи побежденным. Н. сказал, что католичество и социализм сходятся в отношении устремления к внешней организации, тогда как православие устремлено к первичной силе, к личности. Говорят, что православная церковь в наше время вопрос об отношении церкви к государству решает так, что в России церковь и государство всегда были в единстве.    \\n             \\nВчера Ляля выскочила против книжных людей, а книжный человек Удинцев вступился за образованных людей и доказал (цитируя Шпета), что книжностью русская интеллигенция прикрывала свое невежество.<com id=\"153591619414350\"/>'])\n",
      "(419866, ['Пять с половиной утра. Едем на охоту с заводскими. Вчера был Щекин. — Вы в Бога верите? — спросила его Ляля. — Нет, — ответил Щекин. — Не верю. — Если не верите, — сказала Ляля, — то как же вы разрешаете себе вопрос о личности? Умрете и... — Лопух вырастет. И вообще, личность — это случайное сплетение нервов. Нет, не верил я, не верю. И не хочу верить. — Отчего же не хочу- то? — Да вот жена умирала у меня, и тоже так, хватается за Бога. — Веришь, мол, веришь? — Нет, нет, — говорю, — не верю. — Как это не веришь, как это жить можно без Бога? — Можно, — говорю, — и тебе не советую теперь думать об этом, брось. А сам думаю: ну, уж если схватится за Бога, то наверно умрет. — Нет, нет, — говорю. — Да как же, — хватается. И я ей до конца: — Нет, нет. Так она и умерла.    \\nКогда Щекин ушел. — Какой-то нынешний Базаров, — сказал я. — А может и просто провокатор, — ответила Ляля. — Нет, не думаю, он никак не провокатор, а скорее всего его неверие даже не базаровского происхождения, а дворянского: игра эта была у либеральных дворян, это рудимент вольтеровских времен. А может быть и сам Базаров через Тургенева извлечен из тех же недр.    \\n             \\nПосле охоты и после отдыха до полночи. Можно любить, не ценя того любимого человека? Наверно, можно. И можно ценить не любя? Это часто бывает. А я свою Лялю как люблю, так и ценю: она у меня дорогая.    \\n             \\nНа охоте было +1. Снегу в лесу порядочно, ходить тяжело и жарко было в шубе. Едва ползал. С утра, когда еще снег был не тайкий, на березовых веточках везде висело по капельке. Не оттого ли, что у дерева есть свое тепло. Я так устал, что подумывал вообще больше не охотиться: невмоготу. Но к вечеру я единственный из шестерых убил зайца, и тут вдруг вся усталость прошла. А потом, когда выпил водочки — и порядочно — всю усталость и старость мою как рукой сняло. Есть еще порох в пороховнице.    \\n             \\nПейзаж. Высокие, прорванные вымоинами холмы над ручьем. На холмах березки, частенькие, полукругом по небу, и так сходят вниз, а внизу по извилистому ручью на том и на этом берегу ольха. И деревья ольховые и кусты с той и другой стороны сходятся наверху. Смотришь и думаешь о том времени, когда позеленеет. Чуть бы побольше ручей, как Кубря, и можно бы на лодочке ехать: как это прекрасно бывало: тут тебе и сережки ольховые, еще не опали, и уже зеленые листики, и зацветает черемуха, и соловьи поют, а комар еще не вылетал. Ну вот дальше: теперь ручей бежит подо льдом, и лед и снег желтые, кое-где черная вода прошибает и слышно журчит. Нашел переход, перешел человек, его выдержало, а я всем валенком бух, не выбрался и руками за сучья, и за частые стволы, вскарабкался вверх. А там вырубка и поросль, за вырубкой большой еловый лес стеной, и там слышен гон.    \\n             \\nС нами ехал цеховой мастер, был очень тих, но когда выпил, то завеселился и заговорил, и все матерным словом, и каждый раз после этих слов: извиняюсь, Михаил Михайлович. — Да, не извиняйтесь, — сказал я. — Один мужичок меня всерьез просил отучить его, ну, я ему и запретил. — Каким же словом? — Ну, — говорю, — есть такое слово. Даром его не говорю. Сказал слово. — Ну, и перестал? — Перестал. А через два года встречаю, и хуже прежнего. — И что? — То и есть, что хочу тебе сказать: трудно отвыкнуть.    \\nСколько тут смеху было. Как дети.    \\n             \\nЯ сказал на ходу: вот времечко, чтобы необходимую часть с завода достать, нужна целая воровская организация. Ух, как же они хохотали. И я понял: они и были эта организация. Один нам сказал: годика полтора, наверно, придется еще пользоваться этой организацией.'])\n",
      "(425567, ['После рассвета, очень тяжелого и долгого, повалил снег и падал густо часа два, как дождь: стало белеть, таяли снежинки, касаясь земли. К обеду снег пересилил, крыши стали белеть, в скверах легла пороша. И так снег валил весь день и на ночь остались крыши белыми и углы на улицах, и посередине неслись черные потоки.    \\n                    \\nВ «Лит. Газете» напечатали «Золотой портсигар». Чувствую по воздуху, что этот пустячок имел успех и должен иметь, потому что и заострен политически верно, как стрела, и совершенно лишен той наигранной злобы, которая считается в нашей практике непременно условием политической статьи.    \\n                    \\nПриглашают в Белоруссию на 30 выступлений по 1000 р. за раз (11/2 часа). Если после проверки окажется, что не обманывают, то поеду, может быть, и, кроме заработка, книжку устрою.    \\n                    \\nСлышал по радио из Лондона, что англичане придают значение нашим соблазнам: что будто бы Восточная Европа может взять на свое попечение Западную — в отношении питания. Вот это я понимаю, это политика! Так оно и будет…    \\n                    \\nВсе больше и больше укрепляюсь в мысли о том, что любить врага — это значит бороться с его злой одержимостью, бороться за плененного злом человека. И вообще любить — это значит бороться за любимого человека.    \\n                    \\nВот бы взять эту мысль куда-нибудь в «Канал» или разбросать в мелких вещах вроде «Золотого портсигара». (В деревне у нас росли два мальчика и постоянно дрались между собой и на улице, и в школе. Когда выучились, один остался дома помогать отцу, а другой ушел и стал на стороне достигать.)'])\n"
     ]
    }
   ],
   "source": [
    "#пробуем искать паттерны с помощью регулярок\n",
    "for item in period3_dict.items():\n",
    "    #if re.search(r\"настоящ.{2,9}\\sлюб.{2,5}\", str(item[1])):\n",
    "    #if re.search(r\"(разо(йтись|шлись|шлась|шелся|йдемся)|расста(ться|немся|нусь|лись|ешься)|расставани.{1,2})\", str(item[1])):\n",
    "    #if re.search(r\"(не\\sмогу|не\\sспособен|не\\sспособен)\\s[а-я]+?любить\", str(item[1])):\n",
    "    #if re.search(r\"(в?люб(ить|лю|ил|ила|иться)(сь)?\\sпо-настоящему)|(по-настоящему\\sв?люб(ить|лю|ил|ила|иться)(сь)?)\", str(item[1])):\n",
    "    #if re.search(r\"трепет(но|ный|ного|ать|ал)?.{1,2}\", str(item)):\n",
    "    #if re.search(r\"(за)?(при)?ревн(овать|овал|ревную|овала|ревновав)\", str(item)):\n",
    "    if re.search(r\"любимого человека\", str(item)):\n",
    "        print(item)"
   ]
  },
  {
   "cell_type": "code",
   "execution_count": 138,
   "id": "conscious-speed",
   "metadata": {},
   "outputs": [],
   "source": [
    "#period5_dict"
   ]
  },
  {
   "cell_type": "code",
   "execution_count": null,
   "id": "together-oasis",
   "metadata": {},
   "outputs": [],
   "source": []
  }
 ],
 "metadata": {
  "kernelspec": {
   "display_name": "Python 3",
   "language": "python",
   "name": "python3"
  },
  "language_info": {
   "codemirror_mode": {
    "name": "ipython",
    "version": 3
   },
   "file_extension": ".py",
   "mimetype": "text/x-python",
   "name": "python",
   "nbconvert_exporter": "python",
   "pygments_lexer": "ipython3",
   "version": "3.7.2"
  }
 },
 "nbformat": 4,
 "nbformat_minor": 5
}
